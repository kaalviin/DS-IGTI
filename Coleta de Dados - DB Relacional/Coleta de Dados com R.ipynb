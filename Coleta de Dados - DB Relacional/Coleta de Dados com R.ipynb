{
 "cells": [
  {
   "cell_type": "markdown",
   "metadata": {},
   "source": [
    "# Coleta de Dados no MySQL utilizando o R"
   ]
  },
  {
   "cell_type": "markdown",
   "metadata": {},
   "source": [
    "##### 1º) Importar as bibliotecas RMariaDB "
   ]
  },
  {
   "cell_type": "code",
   "execution_count": 1,
   "metadata": {},
   "outputs": [
    {
     "name": "stderr",
     "output_type": "stream",
     "text": [
      "Loading required package: RMariaDB\n",
      "Warning message:\n",
      "\"package 'RMariaDB' was built under R version 3.6.3\""
     ]
    }
   ],
   "source": [
    "if(!\"RMariaDB\" %in% (.packages())){require(RMariaDB)}"
   ]
  },
  {
   "cell_type": "markdown",
   "metadata": {},
   "source": [
    "##### 2º) Fazer a conexão com seu banco de dados"
   ]
  },
  {
   "cell_type": "code",
   "execution_count": 2,
   "metadata": {},
   "outputs": [],
   "source": [
    "con <- dbConnect(MariaDB(), user = \"root\", password = \"igti\",\n",
    "                 dbname = \"bootcamp\", host = \"localhost\",serverTimezone='UTC')"
   ]
  },
  {
   "cell_type": "markdown",
   "metadata": {},
   "source": [
    "##### 3º) Abrir o arquivo 'caracteristicasgerais.csv'"
   ]
  },
  {
   "cell_type": "code",
   "execution_count": 3,
   "metadata": {},
   "outputs": [
    {
     "name": "stdout",
     "output_type": "stream",
     "text": [
      "[1] \"C:/Bootcamp/Datasets/CSV/imoveis.csv\"\n"
     ]
    }
   ],
   "source": [
    "filename <- \"C:/Bootcamp/Datasets/CSV/imoveis.csv\"\n",
    "print(filename)\n"
   ]
  },
  {
   "cell_type": "markdown",
   "metadata": {},
   "source": [
    "##### 4º) Inserir dados na tabela 'caracteristicasgerais'"
   ]
  },
  {
   "cell_type": "code",
   "execution_count": null,
   "metadata": {},
   "outputs": [],
   "source": [
    "insertdata <- read.csv(filename, header=TRUE,sep = \",\")\n",
    "dbWriteTable(con,'imovel',insertdata,append = TRUE)"
   ]
  },
  {
   "cell_type": "markdown",
   "metadata": {},
   "source": [
    "##### 5º) Consultar a tabela 'caracteristicasgerais' para verificar se os dados foram inseridos corretamente."
   ]
  },
  {
   "cell_type": "code",
   "execution_count": 8,
   "metadata": {},
   "outputs": [
    {
     "data": {
      "text/html": [
       "<table>\n",
       "<thead><tr><th scope=col>idcaracteristicasGerais</th><th scope=col>dsccaracteristicasGerais</th></tr></thead>\n",
       "<tbody>\n",
       "\t<tr><td> 1                 </td><td>Portaria 24 horas  </td></tr>\n",
       "\t<tr><td> 2                 </td><td>Elevador           </td></tr>\n",
       "\t<tr><td> 3                 </td><td>Piscina            </td></tr>\n",
       "\t<tr><td> 4                 </td><td>Salão de festas    </td></tr>\n",
       "\t<tr><td> 5                 </td><td>Área gourmet       </td></tr>\n",
       "\t<tr><td> 6                 </td><td>Água individual    </td></tr>\n",
       "\t<tr><td> 7                 </td><td>Gás canalizado     </td></tr>\n",
       "\t<tr><td> 8                 </td><td>Aquecimento solar  </td></tr>\n",
       "\t<tr><td> 9                 </td><td>Vaga coberta       </td></tr>\n",
       "\t<tr><td>10                 </td><td>Vaga livre         </td></tr>\n",
       "\t<tr><td>11                 </td><td>Armários na cozinha</td></tr>\n",
       "\t<tr><td>12                 </td><td>Closet             </td></tr>\n",
       "\t<tr><td>13                 </td><td>Armários no quarto </td></tr>\n",
       "</tbody>\n",
       "</table>\n"
      ],
      "text/latex": [
       "\\begin{tabular}{r|ll}\n",
       " idcaracteristicasGerais & dsccaracteristicasGerais\\\\\n",
       "\\hline\n",
       "\t  1                  & Portaria 24 horas  \\\\\n",
       "\t  2                  & Elevador           \\\\\n",
       "\t  3                  & Piscina            \\\\\n",
       "\t  4                  & Salão de festas    \\\\\n",
       "\t  5                  & Área gourmet       \\\\\n",
       "\t  6                  & Água individual    \\\\\n",
       "\t  7                  & Gás canalizado     \\\\\n",
       "\t  8                  & Aquecimento solar  \\\\\n",
       "\t  9                  & Vaga coberta       \\\\\n",
       "\t 10                  & Vaga livre         \\\\\n",
       "\t 11                  & Armários na cozinha\\\\\n",
       "\t 12                  & Closet             \\\\\n",
       "\t 13                  & Armários no quarto \\\\\n",
       "\\end{tabular}\n"
      ],
      "text/markdown": [
       "\n",
       "| idcaracteristicasGerais | dsccaracteristicasGerais |\n",
       "|---|---|\n",
       "|  1                  | Portaria 24 horas   |\n",
       "|  2                  | Elevador            |\n",
       "|  3                  | Piscina             |\n",
       "|  4                  | Salão de festas     |\n",
       "|  5                  | Área gourmet        |\n",
       "|  6                  | Água individual     |\n",
       "|  7                  | Gás canalizado      |\n",
       "|  8                  | Aquecimento solar   |\n",
       "|  9                  | Vaga coberta        |\n",
       "| 10                  | Vaga livre          |\n",
       "| 11                  | Armários na cozinha |\n",
       "| 12                  | Closet              |\n",
       "| 13                  | Armários no quarto  |\n",
       "\n"
      ],
      "text/plain": [
       "   idcaracteristicasGerais dsccaracteristicasGerais\n",
       "1   1                      Portaria 24 horas       \n",
       "2   2                      Elevador                \n",
       "3   3                      Piscina                 \n",
       "4   4                      Salão de festas         \n",
       "5   5                      Área gourmet            \n",
       "6   6                      Água individual         \n",
       "7   7                      Gás canalizado          \n",
       "8   8                      Aquecimento solar       \n",
       "9   9                      Vaga coberta            \n",
       "10 10                      Vaga livre              \n",
       "11 11                      Armários na cozinha     \n",
       "12 12                      Closet                  \n",
       "13 13                      Armários no quarto      "
      ]
     },
     "metadata": {},
     "output_type": "display_data"
    }
   ],
   "source": [
    "query <- \"SELECT * FROM imoveis;\"\n",
    "\n",
    "results <- dbGetQuery(con,query)\n",
    "results"
   ]
  },
  {
   "cell_type": "markdown",
   "metadata": {},
   "source": [
    "##### Fim!"
   ]
  },
  {
   "cell_type": "code",
   "execution_count": 9,
   "metadata": {},
   "outputs": [],
   "source": [
    "#Salvar o resultado da query no arquivo CSV\n",
    "write.csv(results,\"C:/Bootcamp/Datasets/CSV/caracteristicasgeraisBD.csv\",row.names=FALSE,quote=FALSE)"
   ]
  }
 ],
 "metadata": {
  "kernelspec": {
   "display_name": "R",
   "language": "R",
   "name": "ir"
  },
  "language_info": {
   "codemirror_mode": "r",
   "file_extension": ".r",
   "mimetype": "text/x-r-source",
   "name": "R",
   "pygments_lexer": "r",
   "version": "3.6.1"
  }
 },
 "nbformat": 4,
 "nbformat_minor": 4
}

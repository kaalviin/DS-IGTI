{
 "cells": [
  {
   "cell_type": "markdown",
   "metadata": {},
   "source": [
    "# Coleta de Dados no Twitter utilizando pacote Tweepy do Python"
   ]
  },
  {
   "cell_type": "code",
   "execution_count": 1,
   "metadata": {},
   "outputs": [],
   "source": [
    "#Importação de pacotes\n",
    "\n",
    "import tweepy\n"
   ]
  },
  {
   "cell_type": "code",
   "execution_count": 2,
   "metadata": {},
   "outputs": [],
   "source": [
    "# Credenciais para utilização da API do Twitter\n",
    "\n",
    "consumer_key = \"uRDeiv9qwOHO7daJ40KJ0dW8g\"\n",
    "consumer_secret = \"vAjBb6TVNdStsPuGGIIB3EQqGsHtm2gO3kA3UxeXkASP12pijm\"\n",
    "access_token = \"1312835177052336131-APrLiPkWQ1wPWGA2QbaLba4h4p57S2\"\n",
    "access_token_secret = \"6H0SpQqc8XrT2VZQQxm7HHuW4WNNKR3f9dVBjobkgBnZP\""
   ]
  },
  {
   "cell_type": "code",
   "execution_count": 3,
   "metadata": {},
   "outputs": [],
   "source": [
    "\n",
    "auth = tweepy.OAuthHandler(consumer_key, consumer_secret)\n",
    "auth.set_access_token(access_token, access_token_secret)\n",
    "\n",
    "token = tweepy.API(auth)"
   ]
  },
  {
   "cell_type": "code",
   "execution_count": 4,
   "metadata": {},
   "outputs": [],
   "source": [
    "#Definir que palavra deseja pesquisar no Twitter\n",
    "#keyword = 'covid-19'\n",
    "keyword = ('covid OR covid-19 OR corona OR coronavirus')"
   ]
  },
  {
   "cell_type": "code",
   "execution_count": 5,
   "metadata": {},
   "outputs": [],
   "source": [
    "# Fazer a busca por palavra chave\n",
    "\n",
    "# result_type --> mixed (default), recent, popular\n",
    "#tweets --> variável que irá armazenar todos os Tweets com a palavra escolhida na função search da API\n",
    "\n",
    "tweets = token.search(q=keyword,count=10,result_type='mixed')\n",
    "\n",
    "#tweets = token.search(q=keyword,count=5,result_type='mixed',tweet_mode='extended',Lang='pt')\n"
   ]
  },
  {
   "cell_type": "code",
   "execution_count": 6,
   "metadata": {},
   "outputs": [
    {
     "name": "stdout",
     "output_type": "stream",
     "text": [
      "Total de tweets coletados 10.\n"
     ]
    }
   ],
   "source": [
    "# Para verificar a quantidade de tweets coletado use a função \"len()\"\n",
    "\n",
    "print(\"Total de tweets coletados %s.\" % (len(tweets)))"
   ]
  },
  {
   "cell_type": "code",
   "execution_count": 7,
   "metadata": {},
   "outputs": [
    {
     "name": "stdout",
     "output_type": "stream",
     "text": [
      "Usuário: {'NateSilver538'} \n",
      "  Tweet: {\"Repeating myself and others here, but the reason Lindsey Graham won't get tested despite having been exposed to man… https://t.co/E2Hrp8NgtK\"}\n",
      "Usuário: {'JoeBiden'} \n",
      "  Tweet: {'Why did Donald Trump tell Bob Woodward the truth about COVID-19, but not the American people?'}\n",
      "Usuário: {'wolfblitzer'} \n",
      "  Tweet: {'Remember when @realDonaldTrump emerged from 4 days in hospital to say: “Don’t be afraid of Covid. Don’t let it domi… https://t.co/zaL0VpMLLf'}\n",
      "Usuário: {'LynneManning'} \n",
      "  Tweet: {'RT @peterbakernyt: Mass casualty events:\\n\\nInfluenza pandemic, 1918-20: 675,000\\n\\nCivil War: 600,000\\n\\nWWII: 400,000\\n\\nCoronavirus, 2020: 213,0…'}\n",
      "Usuário: {'AnnMari42094278'} \n",
      "  Tweet: {'RT @jreganwilliams: Two 16 hour days. Covid is getting bad again at the hospital.  I am exhausted and can’t sleep. I am getting stage 2 pre…'}\n",
      "Usuário: {'cblades43'} \n",
      "  Tweet: {'RT @shannonrwatts: Amy Thorn, the registered nurse from West Virginia who recently spoke at the Republican National Convention to defend Do…'}\n",
      "Usuário: {'ainaafrhah'} \n",
      "  Tweet: {'RT @annakelanaa: Tolong doakan ibu dan ayh saya cpt sembuh drp penyakit covid 19. harini dh keluar swab test result ibu je kene positive. A…'}\n",
      "Usuário: {'galdino_nilson'} \n",
      "  Tweet: {'RT @GuilhermeBoulos: O programa de saúde de Russomanno é bolsonarista raiz: simplesmente não cita o coronavírus e a pandemia. Faltou só col…'}\n",
      "Usuário: {'angxlalice'} \n",
      "  Tweet: {\"/admin/\\nI'm not doing so well...\\nTurns out i do have the Corona virus!\\nMy sense of smell and taste is gone. I can't… https://t.co/CEUbAB6mIF\"}\n",
      "Usuário: {'Ana8230'} \n",
      "  Tweet: {'RT @ChrisEvans: Don’t be afraid of Covid?!\\n\\nYou’ve been under round-the-clock care by the best doctors using the best drugs. Do you really…'}\n"
     ]
    }
   ],
   "source": [
    "#Podemos imprimir o nome do usuário (screen_name) e o texto do tweet\n",
    "\n",
    "for tweet in tweets:\n",
    "    print(\"Usuário: %s \"% {tweet.user.screen_name})\n",
    "    print(\"  Tweet: %s\"  % {tweet.text})\n",
    "    #print(\"  Tweet: %s\"  % {tweet.full_text}) #No caso da busca em tweet_mode='extended'\n"
   ]
  },
  {
   "cell_type": "markdown",
   "metadata": {},
   "source": [
    "## <font color=blue>Análise de polaridade</font>"
   ]
  },
  {
   "cell_type": "markdown",
   "metadata": {},
   "source": [
    "Para fazer a **análise de polaridade**, vamos usar a função *sentiment.polarity* do pacote *TextBlob*.\n",
    "\n",
    "* A função *sentiment.polarity* retornará um número entre -1 e 1, onde quanto maior esse número, menos \"chateada\" a pessoa que postou está. \n",
    "\n",
    "Ou seja, quanto maior esse número mais positivo é o tweet. Podemos ainda considerar que a polaridade 0 (zero) pode indicar uma neutralidade do tweet."
   ]
  },
  {
   "cell_type": "code",
   "execution_count": 8,
   "metadata": {},
   "outputs": [],
   "source": [
    "#importa pacotes\n",
    "\n",
    "from textblob import TextBlob as tb\n",
    "import numpy as np"
   ]
  },
  {
   "cell_type": "code",
   "execution_count": 9,
   "metadata": {},
   "outputs": [],
   "source": [
    "#Variável que irá armazenar as polaridades\n",
    "analysis = None"
   ]
  },
  {
   "cell_type": "code",
   "execution_count": 10,
   "metadata": {},
   "outputs": [],
   "source": [
    "# Lista vazia para armazenar scores\n",
    "tweets_score = [] "
   ]
  },
  {
   "cell_type": "code",
   "execution_count": 11,
   "metadata": {},
   "outputs": [
    {
     "name": "stdout",
     "output_type": "stream",
     "text": [
      "** Repeating myself and others here, but the reason Lindsey Graham won't get tested despite having been exposed to man… https://t.co/E2Hrp8NgtK\n",
      "** Why did Donald Trump tell Bob Woodward the truth about COVID-19, but not the American people?\n",
      "** Remember when @realDonaldTrump emerged from 4 days in hospital to say: “Don’t be afraid of Covid. Don’t let it domi… https://t.co/zaL0VpMLLf\n",
      "** RT @peterbakernyt: Mass casualty events:\n",
      "\n",
      "Influenza pandemic, 1918-20: 675,000\n",
      "\n",
      "Civil War: 600,000\n",
      "\n",
      "WWII: 400,000\n",
      "\n",
      "Coronavirus, 2020: 213,0…\n",
      "** RT @jreganwilliams: Two 16 hour days. Covid is getting bad again at the hospital.  I am exhausted and can’t sleep. I am getting stage 2 pre…\n",
      "** RT @shannonrwatts: Amy Thorn, the registered nurse from West Virginia who recently spoke at the Republican National Convention to defend Do…\n",
      "** RT @annakelanaa: Tolong doakan ibu dan ayh saya cpt sembuh drp penyakit covid 19. harini dh keluar swab test result ibu je kene positive. A…\n",
      "** RT @GuilhermeBoulos: O programa de saúde de Russomanno é bolsonarista raiz: simplesmente não cita o coronavírus e a pandemia. Faltou só col…\n",
      "** /admin/\n",
      "I'm not doing so well...\n",
      "Turns out i do have the Corona virus!\n",
      "My sense of smell and taste is gone. I can't… https://t.co/CEUbAB6mIF\n",
      "** RT @ChrisEvans: Don’t be afraid of Covid?!\n",
      "\n",
      "You’ve been under round-the-clock care by the best doctors using the best drugs. Do you really…\n"
     ]
    }
   ],
   "source": [
    "for tweet in tweets:\n",
    "    print('**',tweet.text)\n",
    "    analysis = tb(tweet.text)\n",
    "    polarity = analysis.sentiment.polarity\n",
    "    tweets_score.append(polarity)\n"
   ]
  },
  {
   "cell_type": "code",
   "execution_count": 12,
   "metadata": {},
   "outputs": [
    {
     "name": "stdout",
     "output_type": "stream",
     "text": [
      "Vetor de polaridade: [0.0, 0.0, -0.6, 0.0, -0.5499999999999999, 0.0, 0.22727272727272727, 0.05, 0.0, 0.4166666666666667]\n"
     ]
    }
   ],
   "source": [
    "print('Vetor de polaridade:',tweets_score)"
   ]
  },
  {
   "cell_type": "code",
   "execution_count": 13,
   "metadata": {},
   "outputs": [
    {
     "name": "stdout",
     "output_type": "stream",
     "text": [
      "MÉDIA DE SENTIMENTO: -0.04560606060606059\n"
     ]
    }
   ],
   "source": [
    "print('MÉDIA DE SENTIMENTO: ' + str(np.mean(tweets_score))) #a função mean() pertence ao pacote numpy"
   ]
  },
  {
   "cell_type": "markdown",
   "metadata": {},
   "source": [
    "### Análise de polaridade para tweets que não foram postados em inglês."
   ]
  },
  {
   "cell_type": "code",
   "execution_count": 14,
   "metadata": {},
   "outputs": [
    {
     "name": "stdout",
     "output_type": "stream",
     "text": [
      "Texto traduzido RT @annakelanaa: Please pray for my mother and ayh I can recover quickly from covid disease 19. today dh came out swab test result my mother is here positive. A…: \n",
      "Texto traduzido RT @GuilhermeBoulos: Russomanno's health program is a root cause: it simply does not mention the coronavirus and the pandemic. Just missing col…: \n"
     ]
    }
   ],
   "source": [
    "polarities = []\n",
    "\n",
    "for tweet in tweets: #para cada tweet \n",
    "    analysis = tb(tweet.text)  # tweet.full_text para modo extendido\n",
    "    \n",
    "    if analysis.detect_language() != 'en': #verifica se o tweet esta em inglês, se não estiver, vai traduzir\n",
    "\n",
    "        traducao = tb(str(analysis.translate(to='en')))\n",
    "        \n",
    "        print('Texto traduzido %s: ' % traducao)\n",
    "        \n",
    "        polarity = traducao.sentiment.polarity\n",
    "    else:\n",
    "        polarity = analysis.sentiment.polarity\n",
    "    \n",
    "    polarities.append(polarity)\n",
    "    "
   ]
  },
  {
   "cell_type": "markdown",
   "metadata": {},
   "source": [
    "**OU**"
   ]
  },
  {
   "cell_type": "code",
   "execution_count": null,
   "metadata": {},
   "outputs": [],
   "source": [
    "# Importa as bibliotecas (googletrans e unidecode) abaixo, verifique se foram previamente instaladas.\n",
    "\n",
    "from googletrans import Translator\n",
    "from unidecode import unidecode\n",
    "\n",
    "for tweet in tweets: #para cada tweet \n",
    "    #Converte o texto do Tweet para unicode\n",
    "    textoOriginal = unidecode(tweet.text)\n",
    "    \n",
    "    #Traduzindo para o Inglês\n",
    "    textoTraduzido = Translator().translate(textoOriginal)\n",
    "    \n",
    "    analysis = tb(textoTraduzido.text)    \n",
    "    #Calculando a polaridade do texto traduzido\n",
    "    polarity = analysis.sentiment.polarity #analisa a polaridade  \n",
    "    polarities.append(polarity)"
   ]
  },
  {
   "cell_type": "markdown",
   "metadata": {},
   "source": [
    "Imprime a polaridade."
   ]
  },
  {
   "cell_type": "code",
   "execution_count": 15,
   "metadata": {},
   "outputs": [
    {
     "name": "stdout",
     "output_type": "stream",
     "text": [
      "Vetor de polaridade: [0.0, 0.0, -0.6, 0.0, -0.5499999999999999, 0.0, 0.2803030303030303, -0.1, 0.0, 0.4166666666666667]\n"
     ]
    }
   ],
   "source": [
    "print('Vetor de polaridade:',polarities)"
   ]
  },
  {
   "cell_type": "code",
   "execution_count": 16,
   "metadata": {},
   "outputs": [
    {
     "name": "stdout",
     "output_type": "stream",
     "text": [
      "MÉDIA DE SENTIMENTO: -0.0553030303030303\n"
     ]
    }
   ],
   "source": [
    "print('MÉDIA DE SENTIMENTO: ' + str(np.mean(polarities)))"
   ]
  },
  {
   "cell_type": "markdown",
   "metadata": {},
   "source": [
    "## <font color=blue>Armazenar o tweets coletados</font> "
   ]
  },
  {
   "cell_type": "markdown",
   "metadata": {},
   "source": [
    "Até aqui, nós criamos nossa autenticação e já temos acesso aos tweets coletados.\n",
    "Agora vamos armazenar nossos tweets."
   ]
  },
  {
   "cell_type": "markdown",
   "metadata": {},
   "source": [
    "### Armazenar os tweets coletados em uma arquivo *Json*"
   ]
  },
  {
   "cell_type": "code",
   "execution_count": 17,
   "metadata": {},
   "outputs": [],
   "source": [
    "#importa o pacote json\n",
    "\n",
    "import json "
   ]
  },
  {
   "cell_type": "code",
   "execution_count": 18,
   "metadata": {},
   "outputs": [],
   "source": [
    "status = tweets[0]\n",
    "\n",
    "#converte para string\n",
    "json_str = json.dumps(status._json)\n",
    "\n",
    "#deserialise string para um objeto python\n",
    "parsed = json.loads(json_str)"
   ]
  },
  {
   "cell_type": "code",
   "execution_count": 19,
   "metadata": {},
   "outputs": [
    {
     "data": {
      "text/plain": [
       "tweepy.models.SearchResults"
      ]
     },
     "execution_count": 19,
     "metadata": {},
     "output_type": "execute_result"
    }
   ],
   "source": [
    "type(tweets)"
   ]
  },
  {
   "cell_type": "code",
   "execution_count": 20,
   "metadata": {},
   "outputs": [
    {
     "data": {
      "text/plain": [
       "str"
      ]
     },
     "execution_count": 20,
     "metadata": {},
     "output_type": "execute_result"
    }
   ],
   "source": [
    "type(json_str)"
   ]
  },
  {
   "cell_type": "code",
   "execution_count": 21,
   "metadata": {},
   "outputs": [
    {
     "data": {
      "text/plain": [
       "dict"
      ]
     },
     "execution_count": 21,
     "metadata": {},
     "output_type": "execute_result"
    }
   ],
   "source": [
    "type(parsed)"
   ]
  },
  {
   "cell_type": "markdown",
   "metadata": {},
   "source": [
    "Agora vamos deserializar os tweets e gravar no arquivo json.\n",
    "\n",
    "**Observação:** Antes de executar o scrit, verifique se o caminho de gravação do arquivo definido na variável *datasetPath* existe."
   ]
  },
  {
   "cell_type": "code",
   "execution_count": 22,
   "metadata": {},
   "outputs": [],
   "source": [
    "datasetPath = 'C:\\Bootcamp\\Datasets\\JSON'\n",
    "\n",
    "with open(datasetPath+'\\\\tweets_keywords.json', 'a', encoding='utf8') as filename:    #aberto em mode de append\n",
    "    \n",
    "    for tweet in tweets: #para cada tweet no vetor de resultados tweets\n",
    "        \n",
    "        status = tweet\n",
    "        \n",
    "        #converte para string        \n",
    "        json_str = json.dumps(status._json)\n",
    "        \n",
    "        #deserializa a string para um objeto python do tipo dict        \n",
    "        parsed = json.loads(json_str)\n",
    "        \n",
    "        #grava o tweet deserializado no arquivo\n",
    "        json.dump(parsed, filename, ensure_ascii=False, sort_keys=True, indent=4, separators=(',', ':'))"
   ]
  },
  {
   "cell_type": "markdown",
   "metadata": {},
   "source": [
    "### Armazenar os tweets coletados no MongoDB"
   ]
  },
  {
   "cell_type": "code",
   "execution_count": 23,
   "metadata": {},
   "outputs": [],
   "source": [
    "#importa o pacote pymongo\n",
    "\n",
    "import pymongo"
   ]
  },
  {
   "cell_type": "code",
   "execution_count": 24,
   "metadata": {},
   "outputs": [],
   "source": [
    "#Conexão ao banco de dados\n",
    "con = pymongo.MongoClient('localhost', 27017)\n",
    "\n",
    "#seleciona o banco de dados\n",
    "db = con.twitterdb"
   ]
  },
  {
   "cell_type": "code",
   "execution_count": 25,
   "metadata": {},
   "outputs": [],
   "source": [
    "#seleciona a coleção para armazenar os tweets\n",
    "collection = db.tweets_keywords"
   ]
  },
  {
   "cell_type": "code",
   "execution_count": 29,
   "metadata": {},
   "outputs": [
    {
     "name": "stderr",
     "output_type": "stream",
     "text": [
      "E:\\Programas\\Anaconda\\envs\\IGTI\\lib\\site-packages\\ipykernel_launcher.py:2: DeprecationWarning: count is deprecated. Use estimated_document_count or count_documents instead. Please note that $where must be replaced by $expr, $near must be replaced by $geoWithin with $center, and $nearSphere must be replaced by $geoWithin with $centerSphere\n",
      "  \n"
     ]
    },
    {
     "data": {
      "text/plain": [
       "10"
      ]
     },
     "execution_count": 29,
     "metadata": {},
     "output_type": "execute_result"
    }
   ],
   "source": [
    "#lista a quantidade de tweets existentes na coleção\n",
    "db.tweets_keywords.count()"
   ]
  },
  {
   "cell_type": "code",
   "execution_count": 30,
   "metadata": {},
   "outputs": [
    {
     "data": {
      "text/plain": [
       "10"
      ]
     },
     "execution_count": 30,
     "metadata": {},
     "output_type": "execute_result"
    }
   ],
   "source": [
    "#lista a quantidade de tweets existentes na coleção\n",
    "db.tweets_keywords.count_documents({})"
   ]
  },
  {
   "cell_type": "code",
   "execution_count": 28,
   "metadata": {},
   "outputs": [],
   "source": [
    "i = 0\n",
    "#para cada tweet no vetor de resultados tweets\n",
    "for tweet in tweets:\n",
    "    db.tweets_keywords.insert_one(tweet._json)\n",
    "    i=i+1\n",
    "    #print(\"Tweet inserido com sucesso !!\")"
   ]
  },
  {
   "cell_type": "code",
   "execution_count": 31,
   "metadata": {},
   "outputs": [
    {
     "name": "stdout",
     "output_type": "stream",
     "text": [
      "Quantidade de tweets inseridos: 10\n"
     ]
    }
   ],
   "source": [
    "#lista a quantidade de tweets inseridos\n",
    "print(\"Quantidade de tweets inseridos: %s\" % i)"
   ]
  },
  {
   "cell_type": "code",
   "execution_count": 32,
   "metadata": {},
   "outputs": [
    {
     "data": {
      "text/plain": [
       "10"
      ]
     },
     "execution_count": 32,
     "metadata": {},
     "output_type": "execute_result"
    }
   ],
   "source": [
    "#lista a quantidade de tweets existentes na coleção\n",
    "db.tweets_keywords.count_documents({})"
   ]
  },
  {
   "cell_type": "markdown",
   "metadata": {},
   "source": [
    "#### Fim"
   ]
  }
 ],
 "metadata": {
  "kernelspec": {
   "display_name": "Python 3",
   "language": "python",
   "name": "python3"
  },
  "language_info": {
   "codemirror_mode": {
    "name": "ipython",
    "version": 3
   },
   "file_extension": ".py",
   "mimetype": "text/x-python",
   "name": "python",
   "nbconvert_exporter": "python",
   "pygments_lexer": "ipython3",
   "version": "3.7.1"
  }
 },
 "nbformat": 4,
 "nbformat_minor": 4
}

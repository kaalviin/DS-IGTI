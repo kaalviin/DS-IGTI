{
 "cells": [
  {
   "cell_type": "markdown",
   "metadata": {},
   "source": [
    "# <font color=red>Coleta de Dados no Twitter utilizando pacote rtweet do R</font>"
   ]
  },
  {
   "cell_type": "markdown",
   "metadata": {},
   "source": [
    "### <font color=blue>Instalar o pacote rtweet</font>"
   ]
  },
  {
   "cell_type": "code",
   "execution_count": 1,
   "metadata": {},
   "outputs": [
    {
     "name": "stdout",
     "output_type": "stream",
     "text": [
      "package 'rtweet' successfully unpacked and MD5 sums checked\n",
      "\n",
      "The downloaded binary packages are in\n",
      "\tC:\\Users\\Kálvin Antunes\\AppData\\Local\\Temp\\RtmpKGpaiq\\downloaded_packages\n"
     ]
    }
   ],
   "source": [
    "#instalar pacote\n",
    "install.packages(\"rtweet\")\n"
   ]
  },
  {
   "cell_type": "code",
   "execution_count": 3,
   "metadata": {},
   "outputs": [
    {
     "name": "stderr",
     "output_type": "stream",
     "text": [
      "also installing the dependencies 'SnowballC', 'hunspell', 'tokenizers', 'janeaustenr'\n",
      "\n"
     ]
    },
    {
     "name": "stdout",
     "output_type": "stream",
     "text": [
      "package 'SnowballC' successfully unpacked and MD5 sums checked\n",
      "package 'hunspell' successfully unpacked and MD5 sums checked\n",
      "package 'tokenizers' successfully unpacked and MD5 sums checked\n",
      "package 'janeaustenr' successfully unpacked and MD5 sums checked\n",
      "package 'tidytext' successfully unpacked and MD5 sums checked\n",
      "\n",
      "The downloaded binary packages are in\n",
      "\tC:\\Users\\Kálvin Antunes\\AppData\\Local\\Temp\\RtmpKGpaiq\\downloaded_packages\n"
     ]
    }
   ],
   "source": [
    "install.packages(\"tidytext\")"
   ]
  },
  {
   "cell_type": "markdown",
   "metadata": {},
   "source": [
    "<b>Para detalhes sobre o pacote rtweet, acesse:</b>\n",
    "* https://cran.r-project.org/web/packages/rtweet/\n",
    "* https://cran.r-project.org/web/packages/rtweet/rtweet.pdf"
   ]
  },
  {
   "cell_type": "markdown",
   "metadata": {},
   "source": [
    "### <font color=blue>Instalar o pacote rtweet</font>"
   ]
  },
  {
   "cell_type": "code",
   "execution_count": 2,
   "metadata": {},
   "outputs": [
    {
     "name": "stderr",
     "output_type": "stream",
     "text": [
      "Warning message:\n",
      "\"package 'rtweet' was built under R version 3.6.3\"Registered S3 methods overwritten by 'ggplot2':\n",
      "  method         from \n",
      "  [.quosures     rlang\n",
      "  c.quosures     rlang\n",
      "  print.quosures rlang\n",
      "\n",
      "Attaching package: 'dplyr'\n",
      "\n",
      "The following objects are masked from 'package:stats':\n",
      "\n",
      "    filter, lag\n",
      "\n",
      "The following objects are masked from 'package:base':\n",
      "\n",
      "    intersect, setdiff, setequal, union\n",
      "\n"
     ]
    },
    {
     "ename": "ERROR",
     "evalue": "Error in library(tidytext): there is no package called 'tidytext'\n",
     "output_type": "error",
     "traceback": [
      "Error in library(tidytext): there is no package called 'tidytext'\nTraceback:\n",
      "1. library(tidytext)"
     ]
    }
   ],
   "source": [
    "#importar o pacote/biblioteca\n",
    "library(rtweet)\n",
    "\n",
    "\n",
    "# plotting and pipes - tidyverse!\n",
    "library(ggplot2)\n",
    "library(dplyr)\n",
    "# text mining library\n",
    "library(tidytext)"
   ]
  },
  {
   "cell_type": "markdown",
   "metadata": {},
   "source": [
    "#### Definição das credenciais de acesso e autenticação na API do Twitter"
   ]
  },
  {
   "cell_type": "code",
   "execution_count": null,
   "metadata": {},
   "outputs": [],
   "source": [
    "# Credenciais para utilização da API do Twitter\n",
    "APP_Name = \"DS-IGTI\"\n",
    "API_key <- \"uRDeiv9qwOHO7daJ40KJ0dW8g\"\n",
    "API_secret_key <- \"vAjBb6TVNdStsPuGGIIB3EQqGsHtm2gO3kA3UxeXkASP12pijm\"\n",
    "Access_token <- \"1312835177052336131-APrLiPkWQ1wPWGA2QbaLba4h4p57S2\"\n",
    "Access_token_secret <- \"6H0SpQqc8XrT2VZQQxm7HHuW4WNNKR3f9dVBjobkgBnZP\""
   ]
  },
  {
   "cell_type": "code",
   "execution_count": null,
   "metadata": {},
   "outputs": [],
   "source": [
    "APP_Name = \"Segundo Exemplo IGTI\"\n",
    "API_key = \"NQeq6TrRV9ysmnrny1Fe23Wsk\"\n",
    "API_secret_key = \"Sfojb4megUAYodpwkyJ2wUMqCo7MtA3m6AiSgsZvsWnYWEvXJV\"\n",
    "Access_token = \"2372825446-sjsr2ZcwJ4kS78RZfCIoObowoqL7lZ5224F8sIc\"\n",
    "Access_token_secret = \"1qBePRAwScQOfsY24GvqsBM2qdGY2ILz1d7R5c5DHrIG3\""
   ]
  },
  {
   "cell_type": "code",
   "execution_count": null,
   "metadata": {},
   "outputs": [],
   "source": [
    "APP_Name <- \"Primeiro Exemplo IGTI\"\n",
    "API_key <- \"7eQNUEl5SG1A8bsRbzirZPeZj\"\n",
    "API_secret_key <- \"1XXvmDZcf4t0V1Fc1NBGm8rr9ZyoHTb5j1WhueLYFzltqYSf3d\"\n",
    "Access_token <- \"2372825446-v3SVbGKb6O3wjhNBMKPSxZInZZaF0yQjvPAn0vb\"\n",
    "Access_token_secret <- \"jTRbDw58HobJnlrL7pmOlz0fEHCnsO40gDIzzqMx1Sqw5\""
   ]
  },
  {
   "cell_type": "code",
   "execution_count": null,
   "metadata": {},
   "outputs": [],
   "source": [
    "\n",
    "# criar token com authenticação \n",
    "\n",
    "token <- create_token(\n",
    "  app = APP_Name,\n",
    "  consumer_key = API_key,\n",
    "  consumer_secret = API_secret_key,\n",
    "  access_token = Access_token,\n",
    "  access_secret = Access_token_secret)"
   ]
  },
  {
   "cell_type": "code",
   "execution_count": null,
   "metadata": {},
   "outputs": [],
   "source": [
    "#Post tweet in your account\n",
    "post_tweet(\"Look, i'm tweeting from R.\")"
   ]
  },
  {
   "cell_type": "markdown",
   "metadata": {},
   "source": [
    "#### Definição dos parâmetros de busca"
   ]
  },
  {
   "cell_type": "code",
   "execution_count": null,
   "metadata": {},
   "outputs": [],
   "source": [
    "string <- c(\"corona OR coronavirus OR covid OR covid-19 OR covid19\")\n",
    "count  <-   100              #número de tweets solicitados por palavra 27000+ funciona bem\n",
    "since  <-  c(\"2020-01-01\") #data limite inferior no formato AAAA-MM-DD\n",
    "until  <-  c(\"2020-07-31\") #data limite superior\n",
    "type   <-  \"popular\"        #\"recent\", \"mixed\" ou \"popular\"\n",
    "\n",
    "#include_rts <- TRUE      #Incluir retweets ou não na pesquisa\n",
    "#retryonratelimit <- TRUE #Continuar ou não depois do limite de 18000 tweets por 15 minutos\n"
   ]
  },
  {
   "cell_type": "markdown",
   "metadata": {},
   "source": [
    "#### Buscar tweets por palavra chave"
   ]
  },
  {
   "cell_type": "code",
   "execution_count": null,
   "metadata": {},
   "outputs": [],
   "source": [
    "options(timeout = 4000000) \n",
    "#timeout(4000000)"
   ]
  },
  {
   "cell_type": "code",
   "execution_count": null,
   "metadata": {},
   "outputs": [],
   "source": [
    "## search for 100 tweets using the string key words\n",
    "tweets <- search_tweets(q = string,n = count,type = type,include_rts = TRUE,retryonratelimit = TRUE)"
   ]
  },
  {
   "cell_type": "code",
   "execution_count": null,
   "metadata": {},
   "outputs": [],
   "source": [
    "# view the first 3 rows of the dataframe\n",
    "head(tweets, n = 3)\n"
   ]
  },
  {
   "cell_type": "code",
   "execution_count": null,
   "metadata": {},
   "outputs": [],
   "source": [
    "#Salvando o data frame como CSV na codificação do portugues\n",
    "write_as_csv(tweets, \"TweetsData.csv\", fileEncoding = \"latin1//TRANSLIT\")"
   ]
  },
  {
   "cell_type": "markdown",
   "metadata": {},
   "source": [
    "## Visualização de dados"
   ]
  },
  {
   "cell_type": "code",
   "execution_count": null,
   "metadata": {},
   "outputs": [],
   "source": [
    "## preview users data\n",
    "users_data(tweets)\n",
    "\n",
    "## plot time series (if ggplot2 is installed)\n",
    "ts_plot(tweets)"
   ]
  },
  {
   "cell_type": "code",
   "execution_count": null,
   "metadata": {},
   "outputs": [],
   "source": [
    "# plot time series of tweets\n",
    "ts_plot(tweets, \"3 hours\") +\n",
    "  ggplot2::theme_minimal() +\n",
    "  ggplot2::theme(plot.title = ggplot2::element_text(face = \"bold\")) +\n",
    "  ggplot2::labs(\n",
    "    x = NULL, y = NULL,\n",
    "    title = \"Frequency of covid words Twitter statuses from past 9 days\",\n",
    "    subtitle = \"Twitter status (tweet) counts aggregated using three-hour intervals\",\n",
    "    caption = \"\\nSource: Data collected from Twitter's REST API via rtweet\"\n",
    "  )"
   ]
  },
  {
   "cell_type": "code",
   "execution_count": null,
   "metadata": {},
   "outputs": [],
   "source": [
    "# how many locations are represented in tweets\n",
    "length(unique(tweets$location))\n",
    "\n",
    "#Plot graph\n",
    "tweets %>%\n",
    "  count(location, sort = TRUE) %>%\n",
    "  mutate(location = reorder(location, n)) %>%\n",
    "  top_n(20) %>%\n",
    "  ggplot(aes(x = location, y = n)) +\n",
    "  geom_col() +\n",
    "  coord_flip() +\n",
    "      labs(x = \"Count\",\n",
    "      y = \"Location\",\n",
    "      title = \"Where tweets are from - unique locations \")"
   ]
  },
  {
   "cell_type": "code",
   "execution_count": null,
   "metadata": {},
   "outputs": [],
   "source": [
    "## identify tweet source\n",
    "table(tweets$source)"
   ]
  },
  {
   "cell_type": "code",
   "execution_count": null,
   "metadata": {},
   "outputs": [],
   "source": [
    "# what users are tweeting with #covid\n",
    "users <- search_users(\"#covid\",\n",
    "                      n = 500)\n",
    "# just view the first 2 users - the data frame is large!\n",
    "head(users, n = 2)"
   ]
  },
  {
   "cell_type": "code",
   "execution_count": null,
   "metadata": {},
   "outputs": [],
   "source": [
    "# how many locations are represented\n",
    "length(unique(users$location))\n",
    "## [1] 299\n",
    "\n",
    "users %>%\n",
    "  ggplot(aes(location)) +\n",
    "  geom_bar() + coord_flip() +\n",
    "      labs(x = \"Count\",\n",
    "      y = \"Location\",\n",
    "      title = \"Twitter users - unique locations \")"
   ]
  },
  {
   "cell_type": "code",
   "execution_count": null,
   "metadata": {},
   "outputs": [],
   "source": [
    "## get most recent 200 tweets posted by Donald Trump's account\n",
    "tweets_timeline <- get_timeline(\"IGTI_Oficial\", n = 200)\n"
   ]
  },
  {
   "cell_type": "code",
   "execution_count": null,
   "metadata": {},
   "outputs": [],
   "source": [
    "ts_plot(tweets_timeline)"
   ]
  },
  {
   "cell_type": "code",
   "execution_count": null,
   "metadata": {},
   "outputs": [],
   "source": [
    "# plot time series of tweets\n",
    "ts_plot(tweets_timeline, \"3 hours\") +\n",
    "  ggplot2::theme_minimal() +\n",
    "  ggplot2::theme(plot.title = ggplot2::element_text(face = \"bold\")) +\n",
    "  ggplot2::labs(\n",
    "    x = NULL, y = NULL,\n",
    "    title = \"Frequency of covid words Twitter statuses from past 9 days\",\n",
    "    subtitle = \"Twitter status (tweet) counts aggregated using three-hour intervals\",\n",
    "    caption = \"\\nSource: Data collected from Twitter's REST API via rtweet\"\n",
    "  )"
   ]
  },
  {
   "cell_type": "markdown",
   "metadata": {},
   "source": [
    "Para mais detlhes sobre o pacote **Rtweet** acesse:\n",
    "* https://cran.r-project.org/web/packages/rtweet/vignettes/intro.html\n",
    "* https://cran.r-project.org/web/packages/rtweet/rtweet.pdf"
   ]
  }
 ],
 "metadata": {
  "kernelspec": {
   "display_name": "R",
   "language": "R",
   "name": "ir"
  },
  "language_info": {
   "codemirror_mode": "r",
   "file_extension": ".r",
   "mimetype": "text/x-r-source",
   "name": "R",
   "pygments_lexer": "r",
   "version": "3.6.1"
  }
 },
 "nbformat": 4,
 "nbformat_minor": 4
}

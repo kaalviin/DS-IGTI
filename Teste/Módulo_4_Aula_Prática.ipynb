{
  "nbformat": 4,
  "nbformat_minor": 0,
  "metadata": {
    "colab": {
      "name": "Módulo 4 - Aula Prática.ipynb",
      "provenance": [],
      "collapsed_sections": []
    },
    "kernelspec": {
      "name": "python3",
      "display_name": "Python 3"
    }
  },
  "cells": [
    {
      "cell_type": "code",
      "metadata": {
        "id": "nXRnXRRBIQz8"
      },
      "source": [
        "#importando as bibliotecas\n",
        "import pandas as pd  #biblioteca utilizada para criar os dataframes\n",
        "import numpy as np  #biblioteca utilizada para trabalhar com vetores ou matrizes\n",
        "import matplotlib.pyplot as plt #biblioteca utilizada para construção de gráficos\n",
        "from sklearn.cluster import KMeans #biblioteca utilizada para a construção K-means\n",
        "from sklearn.decomposition import PCA #biblioteca utilizada para a construção do PCA\n",
        "from sklearn.preprocessing import StandardScaler #biblioteca utilizada para a normalização dos dados\n",
        "import seaborn as sns #biblioteca utilizada para o plot dos gráficos de forma mais \"bonita\""
      ],
      "execution_count": null,
      "outputs": []
    },
    {
      "cell_type": "code",
      "metadata": {
        "id": "zHjGfvVMJKQ8"
      },
      "source": [
        "#upload do dataset\n",
        "df_carros = pd.read_csv('cars.csv')"
      ],
      "execution_count": null,
      "outputs": []
    },
    {
      "cell_type": "code",
      "metadata": {
        "id": "orhprdt1KkOB",
        "colab": {
          "base_uri": "https://localhost:8080/",
          "height": 195
        },
        "outputId": "45d03f41-e825-4c0d-af46-c0dc061b0254"
      },
      "source": [
        "#mostrando as 5 primeiras linhas do dataset\n",
        "df_carros.head()"
      ],
      "execution_count": null,
      "outputs": [
        {
          "output_type": "execute_result",
          "data": {
            "text/html": [
              "<div>\n",
              "<style scoped>\n",
              "    .dataframe tbody tr th:only-of-type {\n",
              "        vertical-align: middle;\n",
              "    }\n",
              "\n",
              "    .dataframe tbody tr th {\n",
              "        vertical-align: top;\n",
              "    }\n",
              "\n",
              "    .dataframe thead th {\n",
              "        text-align: right;\n",
              "    }\n",
              "</style>\n",
              "<table border=\"1\" class=\"dataframe\">\n",
              "  <thead>\n",
              "    <tr style=\"text-align: right;\">\n",
              "      <th></th>\n",
              "      <th>mpg</th>\n",
              "      <th>cylinders</th>\n",
              "      <th>cubicinches</th>\n",
              "      <th>hp</th>\n",
              "      <th>weightlbs</th>\n",
              "      <th>time-to-60</th>\n",
              "      <th>year</th>\n",
              "      <th>brand</th>\n",
              "    </tr>\n",
              "  </thead>\n",
              "  <tbody>\n",
              "    <tr>\n",
              "      <th>0</th>\n",
              "      <td>14.0</td>\n",
              "      <td>8</td>\n",
              "      <td>350</td>\n",
              "      <td>165</td>\n",
              "      <td>4209</td>\n",
              "      <td>12</td>\n",
              "      <td>1972</td>\n",
              "      <td>US.</td>\n",
              "    </tr>\n",
              "    <tr>\n",
              "      <th>1</th>\n",
              "      <td>31.9</td>\n",
              "      <td>4</td>\n",
              "      <td>89</td>\n",
              "      <td>71</td>\n",
              "      <td>1925</td>\n",
              "      <td>14</td>\n",
              "      <td>1980</td>\n",
              "      <td>Europe.</td>\n",
              "    </tr>\n",
              "    <tr>\n",
              "      <th>2</th>\n",
              "      <td>17.0</td>\n",
              "      <td>8</td>\n",
              "      <td>302</td>\n",
              "      <td>140</td>\n",
              "      <td>3449</td>\n",
              "      <td>11</td>\n",
              "      <td>1971</td>\n",
              "      <td>US.</td>\n",
              "    </tr>\n",
              "    <tr>\n",
              "      <th>3</th>\n",
              "      <td>15.0</td>\n",
              "      <td>8</td>\n",
              "      <td>400</td>\n",
              "      <td>150</td>\n",
              "      <td>3761</td>\n",
              "      <td>10</td>\n",
              "      <td>1971</td>\n",
              "      <td>US.</td>\n",
              "    </tr>\n",
              "    <tr>\n",
              "      <th>4</th>\n",
              "      <td>30.5</td>\n",
              "      <td>4</td>\n",
              "      <td>98</td>\n",
              "      <td>63</td>\n",
              "      <td>2051</td>\n",
              "      <td>17</td>\n",
              "      <td>1978</td>\n",
              "      <td>US.</td>\n",
              "    </tr>\n",
              "  </tbody>\n",
              "</table>\n",
              "</div>"
            ],
            "text/plain": [
              "    mpg  cylinders cubicinches   hp weightlbs  time-to-60  year     brand\n",
              "0  14.0          8         350  165      4209          12  1972       US.\n",
              "1  31.9          4          89   71      1925          14  1980   Europe.\n",
              "2  17.0          8         302  140      3449          11  1971       US.\n",
              "3  15.0          8         400  150      3761          10  1971       US.\n",
              "4  30.5          4          98   63      2051          17  1978       US."
            ]
          },
          "metadata": {
            "tags": []
          },
          "execution_count": 3
        }
      ]
    },
    {
      "cell_type": "code",
      "metadata": {
        "id": "pCf6cFHqJQxV",
        "colab": {
          "base_uri": "https://localhost:8080/"
        },
        "outputId": "cb8b6be9-7fe4-45e5-d179-7c242a762b13"
      },
      "source": [
        "#encontrando as características do dataset\n",
        "df_carros.info()"
      ],
      "execution_count": null,
      "outputs": [
        {
          "output_type": "stream",
          "text": [
            "<class 'pandas.core.frame.DataFrame'>\n",
            "RangeIndex: 261 entries, 0 to 260\n",
            "Data columns (total 8 columns):\n",
            " #   Column       Non-Null Count  Dtype  \n",
            "---  ------       --------------  -----  \n",
            " 0   mpg          261 non-null    float64\n",
            " 1   cylinders    261 non-null    int64  \n",
            " 2   cubicinches  261 non-null    object \n",
            " 3   hp           261 non-null    int64  \n",
            " 4   weightlbs    261 non-null    object \n",
            " 5   time-to-60   261 non-null    int64  \n",
            " 6   year         261 non-null    int64  \n",
            " 7   brand        261 non-null    object \n",
            "dtypes: float64(1), int64(4), object(3)\n",
            "memory usage: 16.4+ KB\n"
          ],
          "name": "stdout"
        }
      ]
    },
    {
      "cell_type": "code",
      "metadata": {
        "id": "tvM3kdYiKey6",
        "colab": {
          "base_uri": "https://localhost:8080/"
        },
        "outputId": "d62db2ba-4527-41b4-c5c4-150f5c7d71d8"
      },
      "source": [
        "#encontrando as colunas\n",
        "df_carros.columns"
      ],
      "execution_count": null,
      "outputs": [
        {
          "output_type": "execute_result",
          "data": {
            "text/plain": [
              "Index(['mpg', 'cylinders', 'cubicinches', 'hp', 'weightlbs', 'time-to-60',\n",
              "       'year', 'brand'],\n",
              "      dtype='object')"
            ]
          },
          "metadata": {
            "tags": []
          },
          "execution_count": 6
        }
      ]
    },
    {
      "cell_type": "code",
      "metadata": {
        "id": "DgzCmVPnKvUa"
      },
      "source": [
        "#pegando apenas os dados numéricos\n",
        "df_carros=df_carros[['mpg', 'cylinders', 'cubicinches', 'hp', 'weightlbs', 'time-to-60',\n",
        "       'year']]"
      ],
      "execution_count": null,
      "outputs": []
    },
    {
      "cell_type": "code",
      "metadata": {
        "id": "ZwyHUIK5KvaD",
        "colab": {
          "base_uri": "https://localhost:8080/"
        },
        "outputId": "c43c923b-d886-425a-e4c3-576d50fd0dd1"
      },
      "source": [
        "#verificando as mudanças\n",
        "df_carros.info()"
      ],
      "execution_count": null,
      "outputs": [
        {
          "output_type": "stream",
          "text": [
            "<class 'pandas.core.frame.DataFrame'>\n",
            "RangeIndex: 261 entries, 0 to 260\n",
            "Data columns (total 7 columns):\n",
            " #   Column       Non-Null Count  Dtype  \n",
            "---  ------       --------------  -----  \n",
            " 0   mpg          261 non-null    float64\n",
            " 1   cylinders    261 non-null    int64  \n",
            " 2   cubicinches  259 non-null    float64\n",
            " 3   hp           261 non-null    int64  \n",
            " 4   weightlbs    258 non-null    float64\n",
            " 5   time-to-60   261 non-null    int64  \n",
            " 6   year         261 non-null    int64  \n",
            "dtypes: float64(3), int64(4)\n",
            "memory usage: 14.4 KB\n"
          ],
          "name": "stdout"
        }
      ]
    },
    {
      "cell_type": "code",
      "metadata": {
        "id": "M2Wrc224KvfK"
      },
      "source": [
        "#transformando os dados para numéricos\n",
        "df_carros['cubicinches']=pd.to_numeric(df_carros['cubicinches'], errors='coerce')\n",
        "df_carros['weightlbs']=pd.to_numeric(df_carros['weightlbs'], errors='coerce')"
      ],
      "execution_count": null,
      "outputs": []
    },
    {
      "cell_type": "code",
      "metadata": {
        "id": "HdBxxhBRLe0k",
        "colab": {
          "base_uri": "https://localhost:8080/"
        },
        "outputId": "97cb3dd4-1be0-4bee-f31d-bcf115f96101"
      },
      "source": [
        "#verificando as mudanças\n",
        "df_carros.info()"
      ],
      "execution_count": null,
      "outputs": [
        {
          "output_type": "stream",
          "text": [
            "<class 'pandas.core.frame.DataFrame'>\n",
            "Int64Index: 256 entries, 0 to 260\n",
            "Data columns (total 7 columns):\n",
            " #   Column       Non-Null Count  Dtype  \n",
            "---  ------       --------------  -----  \n",
            " 0   mpg          256 non-null    float64\n",
            " 1   cylinders    256 non-null    int64  \n",
            " 2   cubicinches  256 non-null    float64\n",
            " 3   hp           256 non-null    int64  \n",
            " 4   weightlbs    256 non-null    float64\n",
            " 5   time-to-60   256 non-null    int64  \n",
            " 6   year         256 non-null    int64  \n",
            "dtypes: float64(3), int64(4)\n",
            "memory usage: 16.0 KB\n"
          ],
          "name": "stdout"
        }
      ]
    },
    {
      "cell_type": "code",
      "metadata": {
        "id": "q5QGlkXYLnq5",
        "colab": {
          "base_uri": "https://localhost:8080/"
        },
        "outputId": "4c93e2d9-9d9f-4bcb-c9dd-9b7772d58535"
      },
      "source": [
        "#verificando a existencia de valroes nulos\n",
        "df_carros.isnull().sum()"
      ],
      "execution_count": null,
      "outputs": [
        {
          "output_type": "execute_result",
          "data": {
            "text/plain": [
              "mpg            0\n",
              "cylinders      0\n",
              "cubicinches    0\n",
              "hp             0\n",
              "weightlbs      0\n",
              "time-to-60     0\n",
              "year           0\n",
              "dtype: int64"
            ]
          },
          "metadata": {
            "tags": []
          },
          "execution_count": 14
        }
      ]
    },
    {
      "cell_type": "code",
      "metadata": {
        "id": "sNPcp18oLh1O"
      },
      "source": [
        "#retirando as linhas com dados NaN\n",
        "df_carros=df_carros.dropna()"
      ],
      "execution_count": null,
      "outputs": []
    },
    {
      "cell_type": "code",
      "metadata": {
        "id": "jhsELjTxMTKW",
        "colab": {
          "base_uri": "https://localhost:8080/"
        },
        "outputId": "4d85c0d6-47a5-4aea-a669-cfd940918ed5"
      },
      "source": [
        "#encontra o número de linhas e colunas dos dados\n",
        "df_carros.shape"
      ],
      "execution_count": null,
      "outputs": [
        {
          "output_type": "execute_result",
          "data": {
            "text/plain": [
              "(256, 7)"
            ]
          },
          "metadata": {
            "tags": []
          },
          "execution_count": 16
        }
      ]
    },
    {
      "cell_type": "code",
      "metadata": {
        "id": "SjRAtLJWgHQH",
        "colab": {
          "base_uri": "https://localhost:8080/"
        },
        "outputId": "9a6d2816-2f47-4a93-d806-dee490713a91"
      },
      "source": [
        "#verificando a existencia de valroes nulos\n",
        "df_carros.isnull().sum()"
      ],
      "execution_count": null,
      "outputs": [
        {
          "output_type": "execute_result",
          "data": {
            "text/plain": [
              "mpg            0\n",
              "cylinders      0\n",
              "cubicinches    0\n",
              "hp             0\n",
              "weightlbs      0\n",
              "time-to-60     0\n",
              "year           0\n",
              "dtype: int64"
            ]
          },
          "metadata": {
            "tags": []
          },
          "execution_count": 17
        }
      ]
    },
    {
      "cell_type": "markdown",
      "metadata": {
        "id": "RotjwSa5MlYm"
      },
      "source": [
        "**Conhecendo o dataset**"
      ]
    },
    {
      "cell_type": "code",
      "metadata": {
        "id": "e9L4QDflyFwP",
        "colab": {
          "base_uri": "https://localhost:8080/",
          "height": 321
        },
        "outputId": "de936356-cb1e-4800-dde9-0e106b7154a5"
      },
      "source": [
        "#encontrando as \"estatísticas\" do dataset\n",
        "df_carros.describe()"
      ],
      "execution_count": null,
      "outputs": [
        {
          "output_type": "execute_result",
          "data": {
            "text/html": [
              "<div>\n",
              "<style scoped>\n",
              "    .dataframe tbody tr th:only-of-type {\n",
              "        vertical-align: middle;\n",
              "    }\n",
              "\n",
              "    .dataframe tbody tr th {\n",
              "        vertical-align: top;\n",
              "    }\n",
              "\n",
              "    .dataframe thead th {\n",
              "        text-align: right;\n",
              "    }\n",
              "</style>\n",
              "<table border=\"1\" class=\"dataframe\">\n",
              "  <thead>\n",
              "    <tr style=\"text-align: right;\">\n",
              "      <th></th>\n",
              "      <th>mpg</th>\n",
              "      <th>cylinders</th>\n",
              "      <th>cubicinches</th>\n",
              "      <th>hp</th>\n",
              "      <th>weightlbs</th>\n",
              "      <th>time-to-60</th>\n",
              "      <th>year</th>\n",
              "    </tr>\n",
              "  </thead>\n",
              "  <tbody>\n",
              "    <tr>\n",
              "      <th>count</th>\n",
              "      <td>256.000000</td>\n",
              "      <td>256.000000</td>\n",
              "      <td>256.000000</td>\n",
              "      <td>256.000000</td>\n",
              "      <td>256.000000</td>\n",
              "      <td>256.000000</td>\n",
              "      <td>256.000000</td>\n",
              "    </tr>\n",
              "    <tr>\n",
              "      <th>mean</th>\n",
              "      <td>23.187109</td>\n",
              "      <td>5.589844</td>\n",
              "      <td>201.351562</td>\n",
              "      <td>106.800781</td>\n",
              "      <td>3006.445312</td>\n",
              "      <td>15.496094</td>\n",
              "      <td>1976.828125</td>\n",
              "    </tr>\n",
              "    <tr>\n",
              "      <th>std</th>\n",
              "      <td>7.870573</td>\n",
              "      <td>1.746631</td>\n",
              "      <td>109.572151</td>\n",
              "      <td>40.686792</td>\n",
              "      <td>855.572147</td>\n",
              "      <td>2.905030</td>\n",
              "      <td>3.635575</td>\n",
              "    </tr>\n",
              "    <tr>\n",
              "      <th>min</th>\n",
              "      <td>10.000000</td>\n",
              "      <td>3.000000</td>\n",
              "      <td>70.000000</td>\n",
              "      <td>46.000000</td>\n",
              "      <td>1613.000000</td>\n",
              "      <td>8.000000</td>\n",
              "      <td>1971.000000</td>\n",
              "    </tr>\n",
              "    <tr>\n",
              "      <th>25%</th>\n",
              "      <td>16.800000</td>\n",
              "      <td>4.000000</td>\n",
              "      <td>100.250000</td>\n",
              "      <td>75.000000</td>\n",
              "      <td>2245.750000</td>\n",
              "      <td>14.000000</td>\n",
              "      <td>1974.000000</td>\n",
              "    </tr>\n",
              "    <tr>\n",
              "      <th>50%</th>\n",
              "      <td>22.000000</td>\n",
              "      <td>5.000000</td>\n",
              "      <td>156.000000</td>\n",
              "      <td>95.000000</td>\n",
              "      <td>2832.500000</td>\n",
              "      <td>16.000000</td>\n",
              "      <td>1977.000000</td>\n",
              "    </tr>\n",
              "    <tr>\n",
              "      <th>75%</th>\n",
              "      <td>28.850000</td>\n",
              "      <td>8.000000</td>\n",
              "      <td>304.000000</td>\n",
              "      <td>139.000000</td>\n",
              "      <td>3666.000000</td>\n",
              "      <td>17.000000</td>\n",
              "      <td>1980.000000</td>\n",
              "    </tr>\n",
              "    <tr>\n",
              "      <th>max</th>\n",
              "      <td>46.600000</td>\n",
              "      <td>8.000000</td>\n",
              "      <td>455.000000</td>\n",
              "      <td>230.000000</td>\n",
              "      <td>4997.000000</td>\n",
              "      <td>25.000000</td>\n",
              "      <td>1983.000000</td>\n",
              "    </tr>\n",
              "  </tbody>\n",
              "</table>\n",
              "</div>"
            ],
            "text/plain": [
              "              mpg   cylinders  ...  time-to-60         year\n",
              "count  256.000000  256.000000  ...  256.000000   256.000000\n",
              "mean    23.187109    5.589844  ...   15.496094  1976.828125\n",
              "std      7.870573    1.746631  ...    2.905030     3.635575\n",
              "min     10.000000    3.000000  ...    8.000000  1971.000000\n",
              "25%     16.800000    4.000000  ...   14.000000  1974.000000\n",
              "50%     22.000000    5.000000  ...   16.000000  1977.000000\n",
              "75%     28.850000    8.000000  ...   17.000000  1980.000000\n",
              "max     46.600000    8.000000  ...   25.000000  1983.000000\n",
              "\n",
              "[8 rows x 7 columns]"
            ]
          },
          "metadata": {
            "tags": []
          },
          "execution_count": 19
        }
      ]
    },
    {
      "cell_type": "code",
      "metadata": {
        "id": "oCDCC4ceMj8Q",
        "colab": {
          "base_uri": "https://localhost:8080/",
          "height": 420
        },
        "outputId": "cb4ce66d-fd60-4712-bd6d-6b55572a92e7"
      },
      "source": [
        "#encontrando a matriz de correlação entre alguns dados\n",
        "plt.rcParams[\"figure.figsize\"] = [16, 9]\n",
        "matriz_correlacao=df_carros[['mpg','cylinders','hp','time-to-60']].corr()\n",
        "sns.heatmap(matriz_correlacao, annot=True)  #realiza o plot da matriz de correlação\n",
        "plt.show()"
      ],
      "execution_count": null,
      "outputs": [
        {
          "output_type": "display_data",
          "data": {
            "image/png": "[encoded data removed]",
            "text/plain": [
              "<Figure size 1152x648 with 2 Axes>"
            ]
          },
          "metadata": {
            "tags": [],
            "needs_background": "light"
          }
        }
      ]
    },
    {
      "cell_type": "code",
      "metadata": {
        "id": "N8nv75brNvP9",
        "colab": {
          "base_uri": "https://localhost:8080/",
          "height": 379
        },
        "outputId": "9a4e2195-ba0f-4145-b91b-134f1117e8d2"
      },
      "source": [
        "#plotando alguns gráficos\n",
        "df_carros['cylinders'].hist(bins=3);  #histograma"
      ],
      "execution_count": null,
      "outputs": [
        {
          "output_type": "display_data",
          "data": {
            "image/png": "[encoded data removed]",
            "text/plain": [
              "<Figure size 1152x648 with 1 Axes>"
            ]
          },
          "metadata": {
            "tags": [],
            "needs_background": "light"
          }
        }
      ]
    },
    {
      "cell_type": "code",
      "metadata": {
        "id": "QEg5Q_3bOn3V",
        "colab": {
          "base_uri": "https://localhost:8080/",
          "height": 386
        },
        "outputId": "ec2b81e5-19bf-4202-e2cf-b2685b32070b"
      },
      "source": [
        "#plotando o scatterplot\n",
        "cmap = sns.cubehelix_palette(dark=.2, light=.9, as_cmap=True) #definindo as cores para serem utilizadas\n",
        "sns.scatterplot(x=\"hp\", y=\"mpg\", hue=\"cylinders\", data=df_carros, palette=cmap); # realizando o plot do gráfico"
      ],
      "execution_count": null,
      "outputs": [
        {
          "output_type": "display_data",
          "data": {
            "image/png": "[encoded data removed]",
            "text/plain": [
              "<Figure size 1152x648 with 1 Axes>"
            ]
          },
          "metadata": {
            "tags": [],
            "needs_background": "light"
          }
        }
      ]
    },
    {
      "cell_type": "markdown",
      "metadata": {
        "id": "M1L7gd7gw_0B"
      },
      "source": [
        "**Identificando possíveis outliers**"
      ]
    },
    {
      "cell_type": "code",
      "metadata": {
        "id": "dXCSIVA2w9id",
        "colab": {
          "base_uri": "https://localhost:8080/",
          "height": 396
        },
        "outputId": "467c319f-b3e7-46b4-b907-2cc8ca51c2ad"
      },
      "source": [
        "#realizando o plot do boxplot\n",
        "df_carros[['hp']].boxplot()"
      ],
      "execution_count": null,
      "outputs": [
        {
          "output_type": "execute_result",
          "data": {
            "text/plain": [
              "<matplotlib.axes._subplots.AxesSubplot at 0x7f12b8dac0b8>"
            ]
          },
          "metadata": {
            "tags": []
          },
          "execution_count": 23
        },
        {
          "output_type": "display_data",
          "data": {
            "image/png": "[encoded data removed]",
            "text/plain": [
              "<Figure size 1152x648 with 1 Axes>"
            ]
          },
          "metadata": {
            "tags": [],
            "needs_background": "light"
          }
        }
      ]
    },
    {
      "cell_type": "code",
      "metadata": {
        "id": "-e3DL0Dbx5AT",
        "colab": {
          "base_uri": "https://localhost:8080/",
          "height": 554
        },
        "outputId": "c8006638-1242-49ad-b657-38803b77a89d"
      },
      "source": [
        "df_carros[['time-to-60']].boxplot()"
      ],
      "execution_count": null,
      "outputs": [
        {
          "output_type": "execute_result",
          "data": {
            "text/plain": [
              "<matplotlib.axes._subplots.AxesSubplot at 0x7f2ecbba16a0>"
            ]
          },
          "metadata": {
            "tags": []
          },
          "execution_count": 20
        },
        {
          "output_type": "display_data",
          "data": {
            "image/png": "[encoded data removed]",
            "text/plain": [
              "<Figure size 1152x648 with 1 Axes>"
            ]
          },
          "metadata": {
            "tags": [],
            "needs_background": "light"
          }
        }
      ]
    },
    {
      "cell_type": "markdown",
      "metadata": {
        "id": "uOxuzqHbQaBO"
      },
      "source": [
        "**Inicalizando o PCA**"
      ]
    },
    {
      "cell_type": "code",
      "metadata": {
        "id": "b0qOUvHkQNVU"
      },
      "source": [
        "#Normalização com média 0 e desvio 1\n",
        "normaliza = StandardScaler() #objeto para a normalização\n",
        "X_std=normaliza.fit_transform(df_carros) #aplica a normalização"
      ],
      "execution_count": null,
      "outputs": []
    },
    {
      "cell_type": "code",
      "metadata": {
        "id": "B0lFAmDMmsj4",
        "colab": {
          "base_uri": "https://localhost:8080/",
          "height": 235
        },
        "outputId": "8a4c4d39-3968-4de9-ba65-1114043fa943"
      },
      "source": [
        "X_std"
      ],
      "execution_count": null,
      "outputs": [
        {
          "output_type": "execute_result",
          "data": {
            "text/plain": [
              "array([[-1.16955986,  1.38259161,  1.35928352, ...,  1.40830944,\n",
              "        -1.20581953, -1.33062399],\n",
              "       [ 1.10918971, -0.91201748, -1.02737459, ..., -1.26647849,\n",
              "        -0.51600992,  0.87416398],\n",
              "       [-0.78764653,  1.38259161,  0.92035789, ...,  0.51827493,\n",
              "        -1.55072433, -1.60622249],\n",
              "       ...,\n",
              "       [-0.1511243 ,  0.23528707,  0.28025802, ..., -0.20077927,\n",
              "        -0.17110512,  1.70095947],\n",
              "       [-0.66034208,  0.23528707,  0.28025802, ...,  0.32972814,\n",
              "         0.17379969, -1.33062399],\n",
              "       [-0.1511243 ,  0.23528707,  0.44485513, ...,  0.40584952,\n",
              "        -0.17110512,  0.04736849]])"
            ]
          },
          "metadata": {
            "tags": []
          },
          "execution_count": 23
        }
      ]
    },
    {
      "cell_type": "code",
      "metadata": {
        "id": "b7mcQu7QQ2yC"
      },
      "source": [
        "#inicalizando o objeto PCA\n",
        "pca = PCA(n_components=7)  #instancia o objeto\n",
        "principalComponents = pca.fit_transform(X_std) #aplica a identificação do pca"
      ],
      "execution_count": null,
      "outputs": []
    },
    {
      "cell_type": "code",
      "metadata": {
        "id": "FLt3TNIgREdE",
        "colab": {
          "base_uri": "https://localhost:8080/",
          "height": 567
        },
        "outputId": "8e713941-d7bc-45b3-96ab-30d238e79b81"
      },
      "source": [
        "#plot das componentes principais\n",
        "features = range(pca.n_components_)\n",
        "plt.bar(features, pca.explained_variance_ratio_, color='black');\n",
        "plt.xlabel('PCA características (autovetores vetores)')\n",
        "plt.ylabel('% de variância')\n",
        "plt.title(\"Componentes Principais\")\n",
        "plt.xticks(features);"
      ],
      "execution_count": null,
      "outputs": [
        {
          "output_type": "display_data",
          "data": {
            "image/png": "[encoded data removed]",
            "text/plain": [
              "<Figure size 1152x648 with 1 Axes>"
            ]
          },
          "metadata": {
            "tags": [],
            "needs_background": "light"
          }
        }
      ]
    },
    {
      "cell_type": "code",
      "metadata": {
        "id": "M9DhvcThRc4z",
        "colab": {
          "base_uri": "https://localhost:8080/",
          "height": 585
        },
        "outputId": "efb5e80b-ad18-437f-f81b-85a335f43e82"
      },
      "source": [
        "\n",
        "#plot cumulativo das variâncias explicadas\n",
        "pca.explained_variance_ratio_\n",
        "\n",
        "plt.plot(range(1,8),pca.explained_variance_ratio_.cumsum(), marker='o', linestyle='--') #plot dos valores acumulados para os dados\n",
        "plt.xlabel('Número de Componentes')\n",
        "plt.ylabel('Variância Acumulada')\n",
        "plt.title(\"Componentes Principais - Acumulada\")"
      ],
      "execution_count": null,
      "outputs": [
        {
          "output_type": "execute_result",
          "data": {
            "text/plain": [
              "Text(0.5, 1.0, 'Componentes Principais - Acumulada')"
            ]
          },
          "metadata": {
            "tags": []
          },
          "execution_count": 27
        },
        {
          "output_type": "display_data",
          "data": {
            "image/png": "[encoded data removed]",
            "text/plain": [
              "<Figure size 1152x648 with 1 Axes>"
            ]
          },
          "metadata": {
            "tags": [],
            "needs_background": "light"
          }
        }
      ]
    },
    {
      "cell_type": "code",
      "metadata": {
        "id": "PIJOzlhKRw30"
      },
      "source": [
        "#criando o dataset com as componentes\n",
        "PCA_components = pd.DataFrame(principalComponents)"
      ],
      "execution_count": null,
      "outputs": []
    },
    {
      "cell_type": "code",
      "metadata": {
        "id": "61blOdWrR3hk",
        "colab": {
          "base_uri": "https://localhost:8080/",
          "height": 343
        },
        "outputId": "e3f52950-8297-4016-f2b1-2542237f997e"
      },
      "source": [
        "PCA_components.head(10)"
      ],
      "execution_count": null,
      "outputs": [
        {
          "output_type": "execute_result",
          "data": {
            "text/html": [
              "<div>\n",
              "<style scoped>\n",
              "    .dataframe tbody tr th:only-of-type {\n",
              "        vertical-align: middle;\n",
              "    }\n",
              "\n",
              "    .dataframe tbody tr th {\n",
              "        vertical-align: top;\n",
              "    }\n",
              "\n",
              "    .dataframe thead th {\n",
              "        text-align: right;\n",
              "    }\n",
              "</style>\n",
              "<table border=\"1\" class=\"dataframe\">\n",
              "  <thead>\n",
              "    <tr style=\"text-align: right;\">\n",
              "      <th></th>\n",
              "      <th>0</th>\n",
              "      <th>1</th>\n",
              "      <th>2</th>\n",
              "      <th>3</th>\n",
              "      <th>4</th>\n",
              "      <th>5</th>\n",
              "      <th>6</th>\n",
              "    </tr>\n",
              "  </thead>\n",
              "  <tbody>\n",
              "    <tr>\n",
              "      <th>0</th>\n",
              "      <td>3.462364</td>\n",
              "      <td>0.521006</td>\n",
              "      <td>-0.126173</td>\n",
              "      <td>0.256198</td>\n",
              "      <td>0.081114</td>\n",
              "      <td>-0.179353</td>\n",
              "      <td>-0.096898</td>\n",
              "    </tr>\n",
              "    <tr>\n",
              "      <th>1</th>\n",
              "      <td>-2.169734</td>\n",
              "      <td>-0.289448</td>\n",
              "      <td>-1.283082</td>\n",
              "      <td>-0.086480</td>\n",
              "      <td>-0.287733</td>\n",
              "      <td>-0.030423</td>\n",
              "      <td>0.015327</td>\n",
              "    </tr>\n",
              "    <tr>\n",
              "      <th>2</th>\n",
              "      <td>2.670404</td>\n",
              "      <td>1.037925</td>\n",
              "      <td>-0.721314</td>\n",
              "      <td>0.510539</td>\n",
              "      <td>-0.529940</td>\n",
              "      <td>-0.062964</td>\n",
              "      <td>-0.163207</td>\n",
              "    </tr>\n",
              "    <tr>\n",
              "      <th>3</th>\n",
              "      <td>3.514979</td>\n",
              "      <td>0.837653</td>\n",
              "      <td>-0.787981</td>\n",
              "      <td>0.517371</td>\n",
              "      <td>-0.429775</td>\n",
              "      <td>-0.186952</td>\n",
              "      <td>0.467418</td>\n",
              "    </tr>\n",
              "    <tr>\n",
              "      <th>4</th>\n",
              "      <td>-2.293086</td>\n",
              "      <td>0.199693</td>\n",
              "      <td>-0.199599</td>\n",
              "      <td>0.081984</td>\n",
              "      <td>-0.175801</td>\n",
              "      <td>0.005917</td>\n",
              "      <td>0.069508</td>\n",
              "    </tr>\n",
              "    <tr>\n",
              "      <th>5</th>\n",
              "      <td>1.423201</td>\n",
              "      <td>-1.578994</td>\n",
              "      <td>0.991427</td>\n",
              "      <td>0.714038</td>\n",
              "      <td>-0.197613</td>\n",
              "      <td>0.084843</td>\n",
              "      <td>0.176480</td>\n",
              "    </tr>\n",
              "    <tr>\n",
              "      <th>6</th>\n",
              "      <td>3.288916</td>\n",
              "      <td>0.008542</td>\n",
              "      <td>0.255324</td>\n",
              "      <td>0.018004</td>\n",
              "      <td>0.012136</td>\n",
              "      <td>-0.203194</td>\n",
              "      <td>-0.065238</td>\n",
              "    </tr>\n",
              "    <tr>\n",
              "      <th>7</th>\n",
              "      <td>4.766886</td>\n",
              "      <td>0.517902</td>\n",
              "      <td>-1.101200</td>\n",
              "      <td>0.488425</td>\n",
              "      <td>0.741767</td>\n",
              "      <td>0.081763</td>\n",
              "      <td>0.281947</td>\n",
              "    </tr>\n",
              "    <tr>\n",
              "      <th>8</th>\n",
              "      <td>-1.061240</td>\n",
              "      <td>-0.868275</td>\n",
              "      <td>1.477076</td>\n",
              "      <td>-0.108841</td>\n",
              "      <td>0.194492</td>\n",
              "      <td>-0.446807</td>\n",
              "      <td>0.050987</td>\n",
              "    </tr>\n",
              "    <tr>\n",
              "      <th>9</th>\n",
              "      <td>-2.941313</td>\n",
              "      <td>-0.972843</td>\n",
              "      <td>-0.521614</td>\n",
              "      <td>0.442657</td>\n",
              "      <td>-0.032815</td>\n",
              "      <td>-0.079485</td>\n",
              "      <td>-0.009475</td>\n",
              "    </tr>\n",
              "  </tbody>\n",
              "</table>\n",
              "</div>"
            ],
            "text/plain": [
              "          0         1         2         3         4         5         6\n",
              "0  3.462364  0.521006 -0.126173  0.256198  0.081114 -0.179353 -0.096898\n",
              "1 -2.169734 -0.289448 -1.283082 -0.086480 -0.287733 -0.030423  0.015327\n",
              "2  2.670404  1.037925 -0.721314  0.510539 -0.529940 -0.062964 -0.163207\n",
              "3  3.514979  0.837653 -0.787981  0.517371 -0.429775 -0.186952  0.467418\n",
              "4 -2.293086  0.199693 -0.199599  0.081984 -0.175801  0.005917  0.069508\n",
              "5  1.423201 -1.578994  0.991427  0.714038 -0.197613  0.084843  0.176480\n",
              "6  3.288916  0.008542  0.255324  0.018004  0.012136 -0.203194 -0.065238\n",
              "7  4.766886  0.517902 -1.101200  0.488425  0.741767  0.081763  0.281947\n",
              "8 -1.061240 -0.868275  1.477076 -0.108841  0.194492 -0.446807  0.050987\n",
              "9 -2.941313 -0.972843 -0.521614  0.442657 -0.032815 -0.079485 -0.009475"
            ]
          },
          "metadata": {
            "tags": []
          },
          "execution_count": 29
        }
      ]
    },
    {
      "cell_type": "code",
      "metadata": {
        "id": "RjXOp2UAZ-lS",
        "colab": {
          "base_uri": "https://localhost:8080/",
          "height": 34
        },
        "outputId": "f3083529-7000-43e6-d97f-e8c7b4fdaf5f"
      },
      "source": [
        "PCA_components.shape"
      ],
      "execution_count": null,
      "outputs": [
        {
          "output_type": "execute_result",
          "data": {
            "text/plain": [
              "(256, 7)"
            ]
          },
          "metadata": {
            "tags": []
          },
          "execution_count": 30
        }
      ]
    },
    {
      "cell_type": "code",
      "metadata": {
        "id": "hDopy0n1SB6X",
        "colab": {
          "base_uri": "https://localhost:8080/",
          "height": 551
        },
        "outputId": "6b6dc4dd-4d78-4cdf-fdc7-b4cb2f9f2fa8"
      },
      "source": [
        "#realizando o plot em duas dimensões (componentes 1 e 2 )\n",
        "plt.scatter(PCA_components[0], PCA_components[1], alpha=.4, color='black')\n",
        "plt.xlabel('PCA 1')\n",
        "plt.ylabel('PCA 2');"
      ],
      "execution_count": null,
      "outputs": [
        {
          "output_type": "display_data",
          "data": {
            "image/png": "[encoded data removed]",
            "text/plain": [
              "<Figure size 1152x648 with 1 Axes>"
            ]
          },
          "metadata": {
            "tags": [],
            "needs_background": "light"
          }
        }
      ]
    },
    {
      "cell_type": "code",
      "metadata": {
        "id": "u0PqCNPBSN0h",
        "colab": {
          "base_uri": "https://localhost:8080/",
          "height": 551
        },
        "outputId": "7dcd75e4-bcb1-414d-faeb-702673d78c75"
      },
      "source": [
        "#aplicando o curva do cootovelo para encontrar o número de clusters\n",
        "ks = range(1, 10)\n",
        "inertias = []\n",
        "for k in ks:\n",
        "    # Cria o obeto para modelo kmens para os testes\n",
        "    model = KMeans(n_clusters=k)\n",
        "    \n",
        "    # Aplica nas componentes selecionadas (3 componentes)\n",
        "    model.fit(PCA_components.iloc[:,:3])\n",
        "    \n",
        "    # Adiciona os valores para a distância (agitação)\n",
        "    inertias.append(model.inertia_)\n",
        "    \n",
        "plt.plot(ks, inertias, '-o', color='black')\n",
        "plt.xlabel('Numero de Cluster, k')\n",
        "plt.ylabel('Distâncias')\n",
        "plt.xticks(ks)\n",
        "plt.show()"
      ],
      "execution_count": null,
      "outputs": [
        {
          "output_type": "display_data",
          "data": {
            "image/png": "[encoded data removed]",
            "text/plain": [
              "<Figure size 1152x648 with 1 Axes>"
            ]
          },
          "metadata": {
            "tags": [],
            "needs_background": "light"
          }
        }
      ]
    },
    {
      "cell_type": "code",
      "metadata": {
        "id": "G9EUVYrvSaXZ",
        "colab": {
          "base_uri": "https://localhost:8080/",
          "height": 195
        },
        "outputId": "c2f0f30c-42a1-4c8c-e994-83d741610951"
      },
      "source": [
        "#---------------------------------------------------------------------------\n",
        "# implementando o K-means com 3 clusters \n",
        "#---------------------------------------------------------------------------\n",
        "k_means_pca=KMeans(n_clusters=3)\n",
        "k_means_pca.fit(PCA_components.iloc[:,:3])\n",
        "\n",
        "\n",
        "#df com os dados iniciais e de cada uma das componentes\n",
        "df_segment_pca_kmeans=pd.concat([df_carros.reset_index(drop=True),PCA_components.iloc[:,:3]],axis=1)\n",
        "df_segment_pca_kmeans.columns.values[-3:]=['Componente 1','Componente 2','Componente 3']\n",
        "df_segment_pca_kmeans['Seguimento no Kmeans']=k_means_pca.labels_\n",
        "\n",
        "\n",
        "df_segment_pca_kmeans.head()"
      ],
      "execution_count": null,
      "outputs": [
        {
          "output_type": "execute_result",
          "data": {
            "text/html": [
              "<div>\n",
              "<style scoped>\n",
              "    .dataframe tbody tr th:only-of-type {\n",
              "        vertical-align: middle;\n",
              "    }\n",
              "\n",
              "    .dataframe tbody tr th {\n",
              "        vertical-align: top;\n",
              "    }\n",
              "\n",
              "    .dataframe thead th {\n",
              "        text-align: right;\n",
              "    }\n",
              "</style>\n",
              "<table border=\"1\" class=\"dataframe\">\n",
              "  <thead>\n",
              "    <tr style=\"text-align: right;\">\n",
              "      <th></th>\n",
              "      <th>mpg</th>\n",
              "      <th>cylinders</th>\n",
              "      <th>cubicinches</th>\n",
              "      <th>hp</th>\n",
              "      <th>weightlbs</th>\n",
              "      <th>time-to-60</th>\n",
              "      <th>year</th>\n",
              "      <th>Componente 1</th>\n",
              "      <th>Componente 2</th>\n",
              "      <th>Componente 3</th>\n",
              "      <th>Seguimento no Kmeans</th>\n",
              "    </tr>\n",
              "  </thead>\n",
              "  <tbody>\n",
              "    <tr>\n",
              "      <th>0</th>\n",
              "      <td>14.0</td>\n",
              "      <td>8</td>\n",
              "      <td>350.0</td>\n",
              "      <td>165</td>\n",
              "      <td>4209.0</td>\n",
              "      <td>12</td>\n",
              "      <td>1972</td>\n",
              "      <td>3.462364</td>\n",
              "      <td>0.521006</td>\n",
              "      <td>-0.126173</td>\n",
              "      <td>0</td>\n",
              "    </tr>\n",
              "    <tr>\n",
              "      <th>1</th>\n",
              "      <td>31.9</td>\n",
              "      <td>4</td>\n",
              "      <td>89.0</td>\n",
              "      <td>71</td>\n",
              "      <td>1925.0</td>\n",
              "      <td>14</td>\n",
              "      <td>1980</td>\n",
              "      <td>-2.169734</td>\n",
              "      <td>-0.289448</td>\n",
              "      <td>-1.283082</td>\n",
              "      <td>1</td>\n",
              "    </tr>\n",
              "    <tr>\n",
              "      <th>2</th>\n",
              "      <td>17.0</td>\n",
              "      <td>8</td>\n",
              "      <td>302.0</td>\n",
              "      <td>140</td>\n",
              "      <td>3449.0</td>\n",
              "      <td>11</td>\n",
              "      <td>1971</td>\n",
              "      <td>2.670404</td>\n",
              "      <td>1.037925</td>\n",
              "      <td>-0.721314</td>\n",
              "      <td>0</td>\n",
              "    </tr>\n",
              "    <tr>\n",
              "      <th>3</th>\n",
              "      <td>15.0</td>\n",
              "      <td>8</td>\n",
              "      <td>400.0</td>\n",
              "      <td>150</td>\n",
              "      <td>3761.0</td>\n",
              "      <td>10</td>\n",
              "      <td>1971</td>\n",
              "      <td>3.514979</td>\n",
              "      <td>0.837653</td>\n",
              "      <td>-0.787981</td>\n",
              "      <td>0</td>\n",
              "    </tr>\n",
              "    <tr>\n",
              "      <th>4</th>\n",
              "      <td>30.5</td>\n",
              "      <td>4</td>\n",
              "      <td>98.0</td>\n",
              "      <td>63</td>\n",
              "      <td>2051.0</td>\n",
              "      <td>17</td>\n",
              "      <td>1978</td>\n",
              "      <td>-2.293086</td>\n",
              "      <td>0.199693</td>\n",
              "      <td>-0.199599</td>\n",
              "      <td>1</td>\n",
              "    </tr>\n",
              "  </tbody>\n",
              "</table>\n",
              "</div>"
            ],
            "text/plain": [
              "    mpg  cylinders  ...  Componente 3  Seguimento no Kmeans\n",
              "0  14.0          8  ...     -0.126173                     0\n",
              "1  31.9          4  ...     -1.283082                     1\n",
              "2  17.0          8  ...     -0.721314                     0\n",
              "3  15.0          8  ...     -0.787981                     0\n",
              "4  30.5          4  ...     -0.199599                     1\n",
              "\n",
              "[5 rows x 11 columns]"
            ]
          },
          "metadata": {
            "tags": []
          },
          "execution_count": 33
        }
      ]
    },
    {
      "cell_type": "code",
      "metadata": {
        "id": "LryllAjmSvoT"
      },
      "source": [
        "#adicionando um dicionário para cada um dos seguimentos\n",
        "df_segment_pca_kmeans['Cluster']=df_segment_pca_kmeans['Seguimento no Kmeans'].map({0:'C1',\n",
        "                     1:'C2',\n",
        "                     2:'C3'})\n"
      ],
      "execution_count": null,
      "outputs": []
    },
    {
      "cell_type": "code",
      "metadata": {
        "id": "UuhXRA4Isk2s",
        "colab": {
          "base_uri": "https://localhost:8080/",
          "height": 195
        },
        "outputId": "17ecc6cb-cc72-4b5d-c64a-0184a038272b"
      },
      "source": [
        "df_segment_pca_kmeans.head()"
      ],
      "execution_count": null,
      "outputs": [
        {
          "output_type": "execute_result",
          "data": {
            "text/html": [
              "<div>\n",
              "<style scoped>\n",
              "    .dataframe tbody tr th:only-of-type {\n",
              "        vertical-align: middle;\n",
              "    }\n",
              "\n",
              "    .dataframe tbody tr th {\n",
              "        vertical-align: top;\n",
              "    }\n",
              "\n",
              "    .dataframe thead th {\n",
              "        text-align: right;\n",
              "    }\n",
              "</style>\n",
              "<table border=\"1\" class=\"dataframe\">\n",
              "  <thead>\n",
              "    <tr style=\"text-align: right;\">\n",
              "      <th></th>\n",
              "      <th>mpg</th>\n",
              "      <th>cylinders</th>\n",
              "      <th>cubicinches</th>\n",
              "      <th>hp</th>\n",
              "      <th>weightlbs</th>\n",
              "      <th>time-to-60</th>\n",
              "      <th>year</th>\n",
              "      <th>Componente 1</th>\n",
              "      <th>Componente 2</th>\n",
              "      <th>Componente 3</th>\n",
              "      <th>Seguimento no Kmeans</th>\n",
              "      <th>Cluster</th>\n",
              "    </tr>\n",
              "  </thead>\n",
              "  <tbody>\n",
              "    <tr>\n",
              "      <th>0</th>\n",
              "      <td>14.0</td>\n",
              "      <td>8</td>\n",
              "      <td>350.0</td>\n",
              "      <td>165</td>\n",
              "      <td>4209.0</td>\n",
              "      <td>12</td>\n",
              "      <td>1972</td>\n",
              "      <td>3.462364</td>\n",
              "      <td>0.521006</td>\n",
              "      <td>-0.126173</td>\n",
              "      <td>0</td>\n",
              "      <td>C1</td>\n",
              "    </tr>\n",
              "    <tr>\n",
              "      <th>1</th>\n",
              "      <td>31.9</td>\n",
              "      <td>4</td>\n",
              "      <td>89.0</td>\n",
              "      <td>71</td>\n",
              "      <td>1925.0</td>\n",
              "      <td>14</td>\n",
              "      <td>1980</td>\n",
              "      <td>-2.169734</td>\n",
              "      <td>-0.289448</td>\n",
              "      <td>-1.283082</td>\n",
              "      <td>1</td>\n",
              "      <td>C2</td>\n",
              "    </tr>\n",
              "    <tr>\n",
              "      <th>2</th>\n",
              "      <td>17.0</td>\n",
              "      <td>8</td>\n",
              "      <td>302.0</td>\n",
              "      <td>140</td>\n",
              "      <td>3449.0</td>\n",
              "      <td>11</td>\n",
              "      <td>1971</td>\n",
              "      <td>2.670404</td>\n",
              "      <td>1.037925</td>\n",
              "      <td>-0.721314</td>\n",
              "      <td>0</td>\n",
              "      <td>C1</td>\n",
              "    </tr>\n",
              "    <tr>\n",
              "      <th>3</th>\n",
              "      <td>15.0</td>\n",
              "      <td>8</td>\n",
              "      <td>400.0</td>\n",
              "      <td>150</td>\n",
              "      <td>3761.0</td>\n",
              "      <td>10</td>\n",
              "      <td>1971</td>\n",
              "      <td>3.514979</td>\n",
              "      <td>0.837653</td>\n",
              "      <td>-0.787981</td>\n",
              "      <td>0</td>\n",
              "      <td>C1</td>\n",
              "    </tr>\n",
              "    <tr>\n",
              "      <th>4</th>\n",
              "      <td>30.5</td>\n",
              "      <td>4</td>\n",
              "      <td>98.0</td>\n",
              "      <td>63</td>\n",
              "      <td>2051.0</td>\n",
              "      <td>17</td>\n",
              "      <td>1978</td>\n",
              "      <td>-2.293086</td>\n",
              "      <td>0.199693</td>\n",
              "      <td>-0.199599</td>\n",
              "      <td>1</td>\n",
              "      <td>C2</td>\n",
              "    </tr>\n",
              "  </tbody>\n",
              "</table>\n",
              "</div>"
            ],
            "text/plain": [
              "    mpg  cylinders  cubicinches  ...  Componente 3  Seguimento no Kmeans  Cluster\n",
              "0  14.0          8        350.0  ...     -0.126173                     0       C1\n",
              "1  31.9          4         89.0  ...     -1.283082                     1       C2\n",
              "2  17.0          8        302.0  ...     -0.721314                     0       C1\n",
              "3  15.0          8        400.0  ...     -0.787981                     0       C1\n",
              "4  30.5          4         98.0  ...     -0.199599                     1       C2\n",
              "\n",
              "[5 rows x 12 columns]"
            ]
          },
          "metadata": {
            "tags": []
          },
          "execution_count": 35
        }
      ]
    },
    {
      "cell_type": "code",
      "metadata": {
        "id": "S-tAb-uZS0IN",
        "colab": {
          "base_uri": "https://localhost:8080/",
          "height": 567
        },
        "outputId": "740c07ab-46f7-49d3-9e7f-6e67f44ad3ad"
      },
      "source": [
        "#plotando os resultados\n",
        "x_axis=df_segment_pca_kmeans['Componente 2']\n",
        "y_axis=df_segment_pca_kmeans['Componente 1']\n",
        "sns.scatterplot(x_axis,y_axis,hue=df_segment_pca_kmeans['Cluster'],palette=['g','r','c'])\n",
        "plt.title('Segmentação Utilizando PCA e K-means')\n",
        "plt.show()"
      ],
      "execution_count": null,
      "outputs": [
        {
          "output_type": "display_data",
          "data": {
            "image/png": "[encoded data removed]",
            "text/plain": [
              "<Figure size 1152x648 with 1 Axes>"
            ]
          },
          "metadata": {
            "tags": [],
            "needs_background": "light"
          }
        }
      ]
    },
    {
      "cell_type": "markdown",
      "metadata": {
        "id": "WgMBRamsd8uX"
      },
      "source": [
        "**Árvore de Decisão**"
      ]
    },
    {
      "cell_type": "code",
      "metadata": {
        "id": "G1ggKy6OeAwZ"
      },
      "source": [
        "#importando as bibliotecas\n",
        "from sklearn.tree import DecisionTreeClassifier # importa o classificador árvore de decisão\n",
        "from sklearn import metrics #importa as métricas para avaliação"
      ],
      "execution_count": null,
      "outputs": []
    },
    {
      "cell_type": "code",
      "metadata": {
        "id": "OSv93oDsfVp7"
      },
      "source": [
        "#preparando o dataset\n",
        "df_carros_arvore=pd.read_csv('cars.csv')"
      ],
      "execution_count": null,
      "outputs": []
    },
    {
      "cell_type": "code",
      "metadata": {
        "id": "qfWLwfwPlFuB"
      },
      "source": [
        "#transformando os dados para numéricos\n",
        "df_carros_arvore['cubicinches']=pd.to_numeric(df_carros_arvore['cubicinches'], errors='coerce')\n",
        "df_carros_arvore['weightlbs']=pd.to_numeric(df_carros_arvore['weightlbs'], errors='coerce')"
      ],
      "execution_count": null,
      "outputs": []
    },
    {
      "cell_type": "code",
      "metadata": {
        "id": "e8oghW5xlaEJ"
      },
      "source": [
        "#retirando os valores nulos\n",
        "df_carros_arvore.dropna(inplace=True)"
      ],
      "execution_count": null,
      "outputs": []
    },
    {
      "cell_type": "code",
      "metadata": {
        "id": "vu0L_Y0Jff1w",
        "colab": {
          "base_uri": "https://localhost:8080/",
          "height": 204
        },
        "outputId": "208e5adb-11c8-4f68-93d9-f0c54303f187"
      },
      "source": [
        "#mostrando o dataset\n",
        "df_carros_arvore.head()"
      ],
      "execution_count": null,
      "outputs": [
        {
          "output_type": "execute_result",
          "data": {
            "text/html": [
              "<div>\n",
              "<style scoped>\n",
              "    .dataframe tbody tr th:only-of-type {\n",
              "        vertical-align: middle;\n",
              "    }\n",
              "\n",
              "    .dataframe tbody tr th {\n",
              "        vertical-align: top;\n",
              "    }\n",
              "\n",
              "    .dataframe thead th {\n",
              "        text-align: right;\n",
              "    }\n",
              "</style>\n",
              "<table border=\"1\" class=\"dataframe\">\n",
              "  <thead>\n",
              "    <tr style=\"text-align: right;\">\n",
              "      <th></th>\n",
              "      <th>mpg</th>\n",
              "      <th>cylinders</th>\n",
              "      <th>cubicinches</th>\n",
              "      <th>hp</th>\n",
              "      <th>weightlbs</th>\n",
              "      <th>time-to-60</th>\n",
              "      <th>year</th>\n",
              "      <th>brand</th>\n",
              "    </tr>\n",
              "  </thead>\n",
              "  <tbody>\n",
              "    <tr>\n",
              "      <th>0</th>\n",
              "      <td>14.0</td>\n",
              "      <td>8</td>\n",
              "      <td>350.0</td>\n",
              "      <td>165</td>\n",
              "      <td>4209.0</td>\n",
              "      <td>12</td>\n",
              "      <td>1972</td>\n",
              "      <td>US.</td>\n",
              "    </tr>\n",
              "    <tr>\n",
              "      <th>1</th>\n",
              "      <td>31.9</td>\n",
              "      <td>4</td>\n",
              "      <td>89.0</td>\n",
              "      <td>71</td>\n",
              "      <td>1925.0</td>\n",
              "      <td>14</td>\n",
              "      <td>1980</td>\n",
              "      <td>Europe.</td>\n",
              "    </tr>\n",
              "    <tr>\n",
              "      <th>2</th>\n",
              "      <td>17.0</td>\n",
              "      <td>8</td>\n",
              "      <td>302.0</td>\n",
              "      <td>140</td>\n",
              "      <td>3449.0</td>\n",
              "      <td>11</td>\n",
              "      <td>1971</td>\n",
              "      <td>US.</td>\n",
              "    </tr>\n",
              "    <tr>\n",
              "      <th>3</th>\n",
              "      <td>15.0</td>\n",
              "      <td>8</td>\n",
              "      <td>400.0</td>\n",
              "      <td>150</td>\n",
              "      <td>3761.0</td>\n",
              "      <td>10</td>\n",
              "      <td>1971</td>\n",
              "      <td>US.</td>\n",
              "    </tr>\n",
              "    <tr>\n",
              "      <th>4</th>\n",
              "      <td>30.5</td>\n",
              "      <td>4</td>\n",
              "      <td>98.0</td>\n",
              "      <td>63</td>\n",
              "      <td>2051.0</td>\n",
              "      <td>17</td>\n",
              "      <td>1978</td>\n",
              "      <td>US.</td>\n",
              "    </tr>\n",
              "  </tbody>\n",
              "</table>\n",
              "</div>"
            ],
            "text/plain": [
              "    mpg  cylinders  cubicinches   hp  weightlbs  time-to-60  year     brand\n",
              "0  14.0          8        350.0  165     4209.0          12  1972       US.\n",
              "1  31.9          4         89.0   71     1925.0          14  1980   Europe.\n",
              "2  17.0          8        302.0  140     3449.0          11  1971       US.\n",
              "3  15.0          8        400.0  150     3761.0          10  1971       US.\n",
              "4  30.5          4         98.0   63     2051.0          17  1978       US."
            ]
          },
          "metadata": {
            "tags": []
          },
          "execution_count": 43
        }
      ]
    },
    {
      "cell_type": "code",
      "metadata": {
        "id": "2lS0qKtbj9dT"
      },
      "source": [
        "#adicionando a coluna de classificação\n",
        "df_carros_arvore['is_efficient']=df_carros_arvore['mpg'].map(lambda x: 1 if x>25 else 0)"
      ],
      "execution_count": null,
      "outputs": []
    },
    {
      "cell_type": "code",
      "metadata": {
        "id": "6U80HgtSkhF4",
        "colab": {
          "base_uri": "https://localhost:8080/",
          "height": 204
        },
        "outputId": "58cff2b1-41f6-4c38-e086-22f586e38b1b"
      },
      "source": [
        "df_carros_arvore.head()"
      ],
      "execution_count": null,
      "outputs": [
        {
          "output_type": "execute_result",
          "data": {
            "text/html": [
              "<div>\n",
              "<style scoped>\n",
              "    .dataframe tbody tr th:only-of-type {\n",
              "        vertical-align: middle;\n",
              "    }\n",
              "\n",
              "    .dataframe tbody tr th {\n",
              "        vertical-align: top;\n",
              "    }\n",
              "\n",
              "    .dataframe thead th {\n",
              "        text-align: right;\n",
              "    }\n",
              "</style>\n",
              "<table border=\"1\" class=\"dataframe\">\n",
              "  <thead>\n",
              "    <tr style=\"text-align: right;\">\n",
              "      <th></th>\n",
              "      <th>mpg</th>\n",
              "      <th>cylinders</th>\n",
              "      <th>cubicinches</th>\n",
              "      <th>hp</th>\n",
              "      <th>weightlbs</th>\n",
              "      <th>time-to-60</th>\n",
              "      <th>year</th>\n",
              "      <th>brand</th>\n",
              "      <th>is_efficient</th>\n",
              "    </tr>\n",
              "  </thead>\n",
              "  <tbody>\n",
              "    <tr>\n",
              "      <th>0</th>\n",
              "      <td>14.0</td>\n",
              "      <td>8</td>\n",
              "      <td>350.0</td>\n",
              "      <td>165</td>\n",
              "      <td>4209.0</td>\n",
              "      <td>12</td>\n",
              "      <td>1972</td>\n",
              "      <td>US.</td>\n",
              "      <td>0</td>\n",
              "    </tr>\n",
              "    <tr>\n",
              "      <th>1</th>\n",
              "      <td>31.9</td>\n",
              "      <td>4</td>\n",
              "      <td>89.0</td>\n",
              "      <td>71</td>\n",
              "      <td>1925.0</td>\n",
              "      <td>14</td>\n",
              "      <td>1980</td>\n",
              "      <td>Europe.</td>\n",
              "      <td>1</td>\n",
              "    </tr>\n",
              "    <tr>\n",
              "      <th>2</th>\n",
              "      <td>17.0</td>\n",
              "      <td>8</td>\n",
              "      <td>302.0</td>\n",
              "      <td>140</td>\n",
              "      <td>3449.0</td>\n",
              "      <td>11</td>\n",
              "      <td>1971</td>\n",
              "      <td>US.</td>\n",
              "      <td>0</td>\n",
              "    </tr>\n",
              "    <tr>\n",
              "      <th>3</th>\n",
              "      <td>15.0</td>\n",
              "      <td>8</td>\n",
              "      <td>400.0</td>\n",
              "      <td>150</td>\n",
              "      <td>3761.0</td>\n",
              "      <td>10</td>\n",
              "      <td>1971</td>\n",
              "      <td>US.</td>\n",
              "      <td>0</td>\n",
              "    </tr>\n",
              "    <tr>\n",
              "      <th>4</th>\n",
              "      <td>30.5</td>\n",
              "      <td>4</td>\n",
              "      <td>98.0</td>\n",
              "      <td>63</td>\n",
              "      <td>2051.0</td>\n",
              "      <td>17</td>\n",
              "      <td>1978</td>\n",
              "      <td>US.</td>\n",
              "      <td>1</td>\n",
              "    </tr>\n",
              "  </tbody>\n",
              "</table>\n",
              "</div>"
            ],
            "text/plain": [
              "    mpg  cylinders  cubicinches   hp  ...  time-to-60  year     brand is_efficient\n",
              "0  14.0          8        350.0  165  ...          12  1972       US.            0\n",
              "1  31.9          4         89.0   71  ...          14  1980   Europe.            1\n",
              "2  17.0          8        302.0  140  ...          11  1971       US.            0\n",
              "3  15.0          8        400.0  150  ...          10  1971       US.            0\n",
              "4  30.5          4         98.0   63  ...          17  1978       US.            1\n",
              "\n",
              "[5 rows x 9 columns]"
            ]
          },
          "metadata": {
            "tags": []
          },
          "execution_count": 46
        }
      ]
    },
    {
      "cell_type": "code",
      "metadata": {
        "id": "OyPPyi2TlJj4",
        "colab": {
          "base_uri": "https://localhost:8080/",
          "height": 289
        },
        "outputId": "73f2b245-f2fa-4f68-ec72-e8fd8936808d"
      },
      "source": [
        "df_carros_arvore.info()"
      ],
      "execution_count": null,
      "outputs": [
        {
          "output_type": "stream",
          "text": [
            "<class 'pandas.core.frame.DataFrame'>\n",
            "Int64Index: 256 entries, 0 to 260\n",
            "Data columns (total 9 columns):\n",
            " #   Column        Non-Null Count  Dtype  \n",
            "---  ------        --------------  -----  \n",
            " 0   mpg           256 non-null    float64\n",
            " 1   cylinders     256 non-null    int64  \n",
            " 2   cubicinches   256 non-null    float64\n",
            " 3   hp            256 non-null    int64  \n",
            " 4   weightlbs     256 non-null    float64\n",
            " 5   time-to-60    256 non-null    int64  \n",
            " 6   year          256 non-null    int64  \n",
            " 7   brand         256 non-null    object \n",
            " 8   is_efficient  256 non-null    int64  \n",
            "dtypes: float64(3), int64(5), object(1)\n",
            "memory usage: 20.0+ KB\n"
          ],
          "name": "stdout"
        }
      ]
    },
    {
      "cell_type": "code",
      "metadata": {
        "id": "S66lhfFDf1rT"
      },
      "source": [
        "#definindo as entradas e as saídas\n",
        "entradas_arvore=df_carros_arvore[['cylinders'\t,'cubicinches'\t,'hp'\t,'weightlbs'\t,'time-to-60']]\n",
        "saidas_arvore=df_carros_arvore['is_efficient']"
      ],
      "execution_count": null,
      "outputs": []
    },
    {
      "cell_type": "code",
      "metadata": {
        "id": "eec3k15akqKj"
      },
      "source": [
        "#realiza a divisão dos dados entre treinamento e teste\n",
        "from sklearn.model_selection import train_test_split   # função que realiza a divisão do dataset\n",
        "X_train, X_test, y_train, y_test = train_test_split(entradas_arvore, saidas_arvore, test_size=0.30)# divide 20% para teste"
      ],
      "execution_count": null,
      "outputs": []
    },
    {
      "cell_type": "code",
      "metadata": {
        "id": "uX0d56TffLkZ"
      },
      "source": [
        "# Cria o objeto de classificação através do \n",
        "clf = DecisionTreeClassifier()\n",
        "\n",
        "# Realiza o treinamento do classificador\n",
        "clf = clf.fit(X_train,y_train)\n",
        "\n",
        "#Realiza a previsão de classificaçao \n",
        "y_pred = clf.predict(X_test)"
      ],
      "execution_count": null,
      "outputs": []
    },
    {
      "cell_type": "code",
      "metadata": {
        "id": "fmoNDbsVlwi0",
        "colab": {
          "base_uri": "https://localhost:8080/",
          "height": 204
        },
        "outputId": "45c50e2e-cb7a-42af-b45f-f200081bff76"
      },
      "source": [
        "#constroi a matriz de confusão para comparar o modelo criado\n",
        "from sklearn.metrics import classification_report, confusion_matrix\n",
        "print(confusion_matrix(y_test, y_pred))\n",
        "print(classification_report(y_test, y_pred))"
      ],
      "execution_count": null,
      "outputs": [
        {
          "output_type": "stream",
          "text": [
            "[[33  8]\n",
            " [ 7 29]]\n",
            "              precision    recall  f1-score   support\n",
            "\n",
            "           0       0.82      0.80      0.81        41\n",
            "           1       0.78      0.81      0.79        36\n",
            "\n",
            "    accuracy                           0.81        77\n",
            "   macro avg       0.80      0.81      0.80        77\n",
            "weighted avg       0.81      0.81      0.81        77\n",
            "\n"
          ],
          "name": "stdout"
        }
      ]
    },
    {
      "cell_type": "code",
      "metadata": {
        "id": "76K2W_iOfPOD",
        "colab": {
          "base_uri": "https://localhost:8080/",
          "height": 551
        },
        "outputId": "237366b2-13a7-4446-c063-4629e038f0ad"
      },
      "source": [
        "#Avaliando o modelo \n",
        "\n",
        "#realiza o plot da matriz de confusão\n",
        "matriz_confusao = confusion_matrix(y_test, y_pred)\n",
        "from mlxtend.plotting import plot_confusion_matrix\n",
        "\n",
        "fig, ax = plot_confusion_matrix(conf_mat=matriz_confusao)\n",
        "plt.show()"
      ],
      "execution_count": null,
      "outputs": [
        {
          "output_type": "display_data",
          "data": {
            "image/png": "[encoded data removed]",
            "text/plain": [
              "<Figure size 1152x648 with 1 Axes>"
            ]
          },
          "metadata": {
            "tags": [],
            "needs_background": "light"
          }
        }
      ]
    }
  ]
}
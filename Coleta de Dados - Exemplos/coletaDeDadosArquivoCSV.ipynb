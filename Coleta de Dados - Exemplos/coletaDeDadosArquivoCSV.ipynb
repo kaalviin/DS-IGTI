{
 "cells": [
  {
   "cell_type": "markdown",
   "metadata": {},
   "source": [
    "# Coleta de Dados em Arquivo CSV"
   ]
  },
  {
   "cell_type": "code",
   "execution_count": null,
   "metadata": {},
   "outputs": [],
   "source": [
    "# -*- coding: utf-8 -*-"
   ]
  },
  {
   "cell_type": "markdown",
   "metadata": {},
   "source": [
    "### <font color=red>Lembre-se , SEMPRE é necessário instalar um pacote/biblioteca do Python antes de usá-lo</font>\n",
    "\n",
    "A instalação é realizada apenas na primeira vez, uma vez instalado, você pode atualizar (update) se necessário.\n",
    "\n",
    "O comando abaixo é usado para a instalação de pacote via <font color=green>prompt de comando do Anaconda</font>\n",
    "\n",
    "**Sintaxe:**  *conda install -c nome-do-canal nome-do-pacote*\n",
    "    \n",
    "    *Exemplo:* conda install -c anaconda pandas"
   ]
  },
  {
   "cell_type": "markdown",
   "metadata": {},
   "source": [
    "#### 1º) Importa bibliotecas "
   ]
  },
  {
   "cell_type": "code",
   "execution_count": 2,
   "metadata": {},
   "outputs": [],
   "source": [
    "import csv\n",
    "import os\n",
    "import pandas as pd\n",
    "import matplotlib.pyplot as plt"
   ]
  },
  {
   "cell_type": "markdown",
   "metadata": {},
   "source": [
    "#### 2º) Define métodos "
   ]
  },
  {
   "cell_type": "code",
   "execution_count": 3,
   "metadata": {},
   "outputs": [],
   "source": [
    "#classe para formatar a função print()\n",
    "class color:\n",
    "   PURPLE = '\\033[95m'\n",
    "   CYAN = '\\033[96m'\n",
    "   DARKCYAN = '\\033[36m'\n",
    "   BLUE = '\\033[94m'\n",
    "   GREEN = '\\033[92m'\n",
    "   YELLOW = '\\033[93m'\n",
    "   RED = '\\033[91m'\n",
    "   ORANGE ='\\033[33m'\n",
    "   BOLD = '\\033[1m'\n",
    "   UNDERLINE = '\\033[4m'\n",
    "   END = '\\033[0m'"
   ]
  },
  {
   "cell_type": "code",
   "execution_count": 4,
   "metadata": {},
   "outputs": [],
   "source": [
    "# Função que retorna o diretório de Datasets \n",
    "def setDatasetPath():\n",
    "    return 'C:\\Bootcamp\\Datasets\\CSV'"
   ]
  },
  {
   "cell_type": "markdown",
   "metadata": {},
   "source": [
    "#### 3º) Executa os métodos e comandos (Main) "
   ]
  },
  {
   "cell_type": "code",
   "execution_count": 5,
   "metadata": {},
   "outputs": [],
   "source": [
    "#Define o diretório dos arquivos\n",
    "\n",
    "datasetPath = setDatasetPath()"
   ]
  },
  {
   "cell_type": "markdown",
   "metadata": {},
   "source": [
    "##### Leitura de arquivo sem utilizar biblioteca Pandas"
   ]
  },
  {
   "cell_type": "code",
   "execution_count": 6,
   "metadata": {},
   "outputs": [
    {
     "name": "stdout",
     "output_type": "stream",
     "text": [
      "['sepal.length', 'sepal.width', 'petal.length', 'petal.width', 'variety']\n",
      "['5.1', '3.5', '1.4', '.2', 'Setosa']\n",
      "['4.9', '3', '1.4', '.2', 'Setosa']\n",
      "['4.7', '3.2', '1.3', '.2', 'Setosa']\n",
      "['4.6', '3.1', '1.5', '.2', 'Setosa']\n",
      "['5', '3.6', '1.4', '.2', 'Setosa']\n",
      "['5.4', '3.9', '1.7', '.4', 'Setosa']\n",
      "['4.6', '3.4', '1.4', '.3', 'Setosa']\n",
      "['5', '3.4', '1.5', '.2', 'Setosa']\n",
      "['4.4', '2.9', '1.4', '.2', 'Setosa']\n",
      "['4.9', '3.1', '1.5', '.1', 'Setosa']\n",
      "['5.4', '3.7', '1.5', '.2', 'Setosa']\n",
      "['4.8', '3.4', '1.6', '.2', 'Setosa']\n",
      "['4.8', '3', '1.4', '.1', 'Setosa']\n",
      "['4.3', '3', '1.1', '.1', 'Setosa']\n",
      "['5.8', '4', '1.2', '.2', 'Setosa']\n",
      "['5.7', '4.4', '1.5', '.4', 'Setosa']\n",
      "['5.4', '3.9', '1.3', '.4', 'Setosa']\n",
      "['5.1', '3.5', '1.4', '.3', 'Setosa']\n",
      "['5.7', '3.8', '1.7', '.3', 'Setosa']\n",
      "['5.1', '3.8', '1.5', '.3', 'Setosa']\n",
      "['5.4', '3.4', '1.7', '.2', 'Setosa']\n",
      "['5.1', '3.7', '1.5', '.4', 'Setosa']\n",
      "['4.6', '3.6', '1', '.2', 'Setosa']\n",
      "['5.1', '3.3', '1.7', '.5', 'Setosa']\n",
      "['4.8', '3.4', '1.9', '.2', 'Setosa']\n",
      "['5', '3', '1.6', '.2', 'Setosa']\n",
      "['5', '3.4', '1.6', '.4', 'Setosa']\n",
      "['5.2', '3.5', '1.5', '.2', 'Setosa']\n",
      "['5.2', '3.4', '1.4', '.2', 'Setosa']\n",
      "['4.7', '3.2', '1.6', '.2', 'Setosa']\n",
      "['4.8', '3.1', '1.6', '.2', 'Setosa']\n",
      "['5.4', '3.4', '1.5', '.4', 'Setosa']\n",
      "['5.2', '4.1', '1.5', '.1', 'Setosa']\n",
      "['5.5', '4.2', '1.4', '.2', 'Setosa']\n",
      "['4.9', '3.1', '1.5', '.2', 'Setosa']\n",
      "['5', '3.2', '1.2', '.2', 'Setosa']\n",
      "['5.5', '3.5', '1.3', '.2', 'Setosa']\n",
      "['4.9', '3.6', '1.4', '.1', 'Setosa']\n",
      "['4.4', '3', '1.3', '.2', 'Setosa']\n",
      "['5.1', '3.4', '1.5', '.2', 'Setosa']\n",
      "['5', '3.5', '1.3', '.3', 'Setosa']\n",
      "['4.5', '2.3', '1.3', '.3', 'Setosa']\n",
      "['4.4', '3.2', '1.3', '.2', 'Setosa']\n",
      "['5', '3.5', '1.6', '.6', 'Setosa']\n",
      "['5.1', '3.8', '1.9', '.4', 'Setosa']\n",
      "['4.8', '3', '1.4', '.3', 'Setosa']\n",
      "['5.1', '3.8', '1.6', '.2', 'Setosa']\n",
      "['4.6', '3.2', '1.4', '.2', 'Setosa']\n",
      "['5.3', '3.7', '1.5', '.2', 'Setosa']\n",
      "['5', '3.3', '1.4', '.2', 'Setosa']\n",
      "['7', '3.2', '4.7', '1.4', 'Versicolor']\n",
      "['6.4', '3.2', '4.5', '1.5', 'Versicolor']\n",
      "['6.9', '3.1', '4.9', '1.5', 'Versicolor']\n",
      "['5.5', '2.3', '4', '1.3', 'Versicolor']\n",
      "['6.5', '2.8', '4.6', '1.5', 'Versicolor']\n",
      "['5.7', '2.8', '4.5', '1.3', 'Versicolor']\n",
      "['6.3', '3.3', '4.7', '1.6', 'Versicolor']\n",
      "['4.9', '2.4', '3.3', '1', 'Versicolor']\n",
      "['6.6', '2.9', '4.6', '1.3', 'Versicolor']\n",
      "['5.2', '2.7', '3.9', '1.4', 'Versicolor']\n",
      "['5', '2', '3.5', '1', 'Versicolor']\n",
      "['5.9', '3', '4.2', '1.5', 'Versicolor']\n",
      "['6', '2.2', '4', '1', 'Versicolor']\n",
      "['6.1', '2.9', '4.7', '1.4', 'Versicolor']\n",
      "['5.6', '2.9', '3.6', '1.3', 'Versicolor']\n",
      "['6.7', '3.1', '4.4', '1.4', 'Versicolor']\n",
      "['5.6', '3', '4.5', '1.5', 'Versicolor']\n",
      "['5.8', '2.7', '4.1', '1', 'Versicolor']\n",
      "['6.2', '2.2', '4.5', '1.5', 'Versicolor']\n",
      "['5.6', '2.5', '3.9', '1.1', 'Versicolor']\n",
      "['5.9', '3.2', '4.8', '1.8', 'Versicolor']\n",
      "['6.1', '2.8', '4', '1.3', 'Versicolor']\n",
      "['6.3', '2.5', '4.9', '1.5', 'Versicolor']\n",
      "['6.1', '2.8', '4.7', '1.2', 'Versicolor']\n",
      "['6.4', '2.9', '4.3', '1.3', 'Versicolor']\n",
      "['6.6', '3', '4.4', '1.4', 'Versicolor']\n",
      "['6.8', '2.8', '4.8', '1.4', 'Versicolor']\n",
      "['6.7', '3', '5', '1.7', 'Versicolor']\n",
      "['6', '2.9', '4.5', '1.5', 'Versicolor']\n",
      "['5.7', '2.6', '3.5', '1', 'Versicolor']\n",
      "['5.5', '2.4', '3.8', '1.1', 'Versicolor']\n",
      "['5.5', '2.4', '3.7', '1', 'Versicolor']\n",
      "['5.8', '2.7', '3.9', '1.2', 'Versicolor']\n",
      "['6', '2.7', '5.1', '1.6', 'Versicolor']\n",
      "['5.4', '3', '4.5', '1.5', 'Versicolor']\n",
      "['6', '3.4', '4.5', '1.6', 'Versicolor']\n",
      "['6.7', '3.1', '4.7', '1.5', 'Versicolor']\n",
      "['6.3', '2.3', '4.4', '1.3', 'Versicolor']\n",
      "['5.6', '3', '4.1', '1.3', 'Versicolor']\n",
      "['5.5', '2.5', '4', '1.3', 'Versicolor']\n",
      "['5.5', '2.6', '4.4', '1.2', 'Versicolor']\n",
      "['6.1', '3', '4.6', '1.4', 'Versicolor']\n",
      "['5.8', '2.6', '4', '1.2', 'Versicolor']\n",
      "['5', '2.3', '3.3', '1', 'Versicolor']\n",
      "['5.6', '2.7', '4.2', '1.3', 'Versicolor']\n",
      "['5.7', '3', '4.2', '1.2', 'Versicolor']\n",
      "['5.7', '2.9', '4.2', '1.3', 'Versicolor']\n",
      "['6.2', '2.9', '4.3', '1.3', 'Versicolor']\n",
      "['5.1', '2.5', '3', '1.1', 'Versicolor']\n",
      "['5.7', '2.8', '4.1', '1.3', 'Versicolor']\n",
      "['6.3', '3.3', '6', '2.5', 'Virginica']\n",
      "['5.8', '2.7', '5.1', '1.9', 'Virginica']\n",
      "['7.1', '3', '5.9', '2.1', 'Virginica']\n",
      "['6.3', '2.9', '5.6', '1.8', 'Virginica']\n",
      "['6.5', '3', '5.8', '2.2', 'Virginica']\n",
      "['7.6', '3', '6.6', '2.1', 'Virginica']\n",
      "['4.9', '2.5', '4.5', '1.7', 'Virginica']\n",
      "['7.3', '2.9', '6.3', '1.8', 'Virginica']\n",
      "['6.7', '2.5', '5.8', '1.8', 'Virginica']\n",
      "['7.2', '3.6', '6.1', '2.5', 'Virginica']\n",
      "['6.5', '3.2', '5.1', '2', 'Virginica']\n",
      "['6.4', '2.7', '5.3', '1.9', 'Virginica']\n",
      "['6.8', '3', '5.5', '2.1', 'Virginica']\n",
      "['5.7', '2.5', '5', '2', 'Virginica']\n",
      "['5.8', '2.8', '5.1', '2.4', 'Virginica']\n",
      "['6.4', '3.2', '5.3', '2.3', 'Virginica']\n",
      "['6.5', '3', '5.5', '1.8', 'Virginica']\n",
      "['7.7', '3.8', '6.7', '2.2', 'Virginica']\n",
      "['7.7', '2.6', '6.9', '2.3', 'Virginica']\n",
      "['6', '2.2', '5', '1.5', 'Virginica']\n",
      "['6.9', '3.2', '5.7', '2.3', 'Virginica']\n",
      "['5.6', '2.8', '4.9', '2', 'Virginica']\n",
      "['7.7', '2.8', '6.7', '2', 'Virginica']\n",
      "['6.3', '2.7', '4.9', '1.8', 'Virginica']\n",
      "['6.7', '3.3', '5.7', '2.1', 'Virginica']\n",
      "['7.2', '3.2', '6', '1.8', 'Virginica']\n",
      "['6.2', '2.8', '4.8', '1.8', 'Virginica']\n",
      "['6.1', '3', '4.9', '1.8', 'Virginica']\n",
      "['6.4', '2.8', '5.6', '2.1', 'Virginica']\n",
      "['7.2', '3', '5.8', '1.6', 'Virginica']\n",
      "['7.4', '2.8', '6.1', '1.9', 'Virginica']\n",
      "['7.9', '3.8', '6.4', '2', 'Virginica']\n",
      "['6.4', '2.8', '5.6', '2.2', 'Virginica']\n",
      "['6.3', '2.8', '5.1', '1.5', 'Virginica']\n",
      "['6.1', '2.6', '5.6', '1.4', 'Virginica']\n",
      "['7.7', '3', '6.1', '2.3', 'Virginica']\n",
      "['6.3', '3.4', '5.6', '2.4', 'Virginica']\n",
      "['6.4', '3.1', '5.5', '1.8', 'Virginica']\n",
      "['6', '3', '4.8', '1.8', 'Virginica']\n",
      "['6.9', '3.1', '5.4', '2.1', 'Virginica']\n",
      "['6.7', '3.1', '5.6', '2.4', 'Virginica']\n",
      "['6.9', '3.1', '5.1', '2.3', 'Virginica']\n",
      "['5.8', '2.7', '5.1', '1.9', 'Virginica']\n",
      "['6.8', '3.2', '5.9', '2.3', 'Virginica']\n",
      "['6.7', '3.3', '5.7', '2.5', 'Virginica']\n",
      "['6.7', '3', '5.2', '2.3', 'Virginica']\n",
      "['6.3', '2.5', '5', '1.9', 'Virginica']\n",
      "['6.5', '3', '5.2', '2', 'Virginica']\n",
      "['6.2', '3.4', '5.4', '2.3', 'Virginica']\n",
      "['5.9', '3', '5.1', '1.8', 'Virginica']\n"
     ]
    }
   ],
   "source": [
    "#Leitura de arquivo sem utilizar biblioteca Pandas\n",
    "\n",
    "filename = datasetPath +'\\\\iris.csv'\n",
    "\n",
    "with open(filename, 'r') as incsvfile:\n",
    "    reader = csv.reader(incsvfile, delimiter=',')\n",
    "    for line in reader:\n",
    "        print(line)\n",
    "\n",
    "incsvfile.close()"
   ]
  },
  {
   "cell_type": "code",
   "execution_count": 7,
   "metadata": {},
   "outputs": [],
   "source": [
    "with open(datasetPath +'\\\\sumarioIris.csv', 'w', newline='') as outcsvfile:\n",
    "    \n",
    "    writer = csv.writer(outcsvfile)\n",
    "    writer.writerow(['ID', 'CAP', 'TAM', 'PL'])\n",
    "    with open(filename, 'r') as incsvfile:\n",
    "        \n",
    "        fieldnames = ['ID', 'CAP', 'TAM', 'PL']\n",
    "        reader = csv.DictReader(incsvfile, fieldnames=fieldnames)\n",
    "    \n",
    "        reader.__next__()\n",
    "    \n",
    "        for row in reader:\n",
    "            #print( row['ID'] + ', ' +  row['CAP'] + ', ' +  row['TAM'] + ', ' +  row['PL'])\n",
    "            writer.writerow([row['ID'], row['CAP'], row['TAM'], row['PL']])           \n",
    "\n",
    "incsvfile.close()\n",
    "outcsvfile.close()"
   ]
  },
  {
   "cell_type": "code",
   "execution_count": 8,
   "metadata": {},
   "outputs": [
    {
     "name": "stdout",
     "output_type": "stream",
     "text": [
      "\u001b[1m\u001b[91m\n",
      "A lista de arquivos e/ou diretórios é:\u001b[0m\n",
      "['caracteristicageralimovel.csv', 'caracteristicasgerais.csv', 'caracteristicasgeraisBD.csv', 'cidades.csv', 'estadosDB.csv', 'imoveis.csv', 'imoveisBD.csv', 'iris.csv', 'sumarioIris.csv']\n"
     ]
    }
   ],
   "source": [
    "#Lê os arquivos de um diretório específico\n",
    "filelist = os.listdir(datasetPath)\n",
    "print(color.BOLD+color.RED+'\\nA lista de arquivos e/ou diretórios é:'+color.END)\n",
    "print(filelist)"
   ]
  },
  {
   "cell_type": "markdown",
   "metadata": {},
   "source": [
    "##### Leitura de arquivo utilizando a biblioteca Pandas"
   ]
  },
  {
   "cell_type": "code",
   "execution_count": 9,
   "metadata": {},
   "outputs": [],
   "source": [
    "#Lê o arquivo\n",
    "iris = pd.read_csv(datasetPath +'\\\\Iris.csv')\n"
   ]
  },
  {
   "cell_type": "code",
   "execution_count": 10,
   "metadata": {},
   "outputs": [
    {
     "data": {
      "text/html": [
       "<div>\n",
       "<style scoped>\n",
       "    .dataframe tbody tr th:only-of-type {\n",
       "        vertical-align: middle;\n",
       "    }\n",
       "\n",
       "    .dataframe tbody tr th {\n",
       "        vertical-align: top;\n",
       "    }\n",
       "\n",
       "    .dataframe thead th {\n",
       "        text-align: right;\n",
       "    }\n",
       "</style>\n",
       "<table border=\"1\" class=\"dataframe\">\n",
       "  <thead>\n",
       "    <tr style=\"text-align: right;\">\n",
       "      <th></th>\n",
       "      <th>sepal.length</th>\n",
       "      <th>sepal.width</th>\n",
       "      <th>petal.length</th>\n",
       "      <th>petal.width</th>\n",
       "      <th>variety</th>\n",
       "    </tr>\n",
       "  </thead>\n",
       "  <tbody>\n",
       "    <tr>\n",
       "      <th>0</th>\n",
       "      <td>5.1</td>\n",
       "      <td>3.5</td>\n",
       "      <td>1.4</td>\n",
       "      <td>0.2</td>\n",
       "      <td>Setosa</td>\n",
       "    </tr>\n",
       "    <tr>\n",
       "      <th>1</th>\n",
       "      <td>4.9</td>\n",
       "      <td>3.0</td>\n",
       "      <td>1.4</td>\n",
       "      <td>0.2</td>\n",
       "      <td>Setosa</td>\n",
       "    </tr>\n",
       "    <tr>\n",
       "      <th>2</th>\n",
       "      <td>4.7</td>\n",
       "      <td>3.2</td>\n",
       "      <td>1.3</td>\n",
       "      <td>0.2</td>\n",
       "      <td>Setosa</td>\n",
       "    </tr>\n",
       "    <tr>\n",
       "      <th>3</th>\n",
       "      <td>4.6</td>\n",
       "      <td>3.1</td>\n",
       "      <td>1.5</td>\n",
       "      <td>0.2</td>\n",
       "      <td>Setosa</td>\n",
       "    </tr>\n",
       "    <tr>\n",
       "      <th>4</th>\n",
       "      <td>5.0</td>\n",
       "      <td>3.6</td>\n",
       "      <td>1.4</td>\n",
       "      <td>0.2</td>\n",
       "      <td>Setosa</td>\n",
       "    </tr>\n",
       "  </tbody>\n",
       "</table>\n",
       "</div>"
      ],
      "text/plain": [
       "   sepal.length  sepal.width  petal.length  petal.width variety\n",
       "0           5.1          3.5           1.4          0.2  Setosa\n",
       "1           4.9          3.0           1.4          0.2  Setosa\n",
       "2           4.7          3.2           1.3          0.2  Setosa\n",
       "3           4.6          3.1           1.5          0.2  Setosa\n",
       "4           5.0          3.6           1.4          0.2  Setosa"
      ]
     },
     "execution_count": 10,
     "metadata": {},
     "output_type": "execute_result"
    }
   ],
   "source": [
    "iris.head() #imprime as 5 primeiras linhas (Default)"
   ]
  },
  {
   "cell_type": "code",
   "execution_count": 11,
   "metadata": {},
   "outputs": [
    {
     "data": {
      "text/html": [
       "<div>\n",
       "<style scoped>\n",
       "    .dataframe tbody tr th:only-of-type {\n",
       "        vertical-align: middle;\n",
       "    }\n",
       "\n",
       "    .dataframe tbody tr th {\n",
       "        vertical-align: top;\n",
       "    }\n",
       "\n",
       "    .dataframe thead th {\n",
       "        text-align: right;\n",
       "    }\n",
       "</style>\n",
       "<table border=\"1\" class=\"dataframe\">\n",
       "  <thead>\n",
       "    <tr style=\"text-align: right;\">\n",
       "      <th></th>\n",
       "      <th>sepal.length</th>\n",
       "      <th>sepal.width</th>\n",
       "      <th>petal.length</th>\n",
       "      <th>petal.width</th>\n",
       "      <th>variety</th>\n",
       "    </tr>\n",
       "  </thead>\n",
       "  <tbody>\n",
       "    <tr>\n",
       "      <th>0</th>\n",
       "      <td>5.1</td>\n",
       "      <td>3.5</td>\n",
       "      <td>1.4</td>\n",
       "      <td>0.2</td>\n",
       "      <td>Setosa</td>\n",
       "    </tr>\n",
       "    <tr>\n",
       "      <th>1</th>\n",
       "      <td>4.9</td>\n",
       "      <td>3.0</td>\n",
       "      <td>1.4</td>\n",
       "      <td>0.2</td>\n",
       "      <td>Setosa</td>\n",
       "    </tr>\n",
       "  </tbody>\n",
       "</table>\n",
       "</div>"
      ],
      "text/plain": [
       "   sepal.length  sepal.width  petal.length  petal.width variety\n",
       "0           5.1          3.5           1.4          0.2  Setosa\n",
       "1           4.9          3.0           1.4          0.2  Setosa"
      ]
     },
     "execution_count": 11,
     "metadata": {},
     "output_type": "execute_result"
    }
   ],
   "source": [
    "iris.head(2) #imprime as 2 primeiras linhas"
   ]
  },
  {
   "cell_type": "code",
   "execution_count": 12,
   "metadata": {},
   "outputs": [
    {
     "data": {
      "text/html": [
       "<div>\n",
       "<style scoped>\n",
       "    .dataframe tbody tr th:only-of-type {\n",
       "        vertical-align: middle;\n",
       "    }\n",
       "\n",
       "    .dataframe tbody tr th {\n",
       "        vertical-align: top;\n",
       "    }\n",
       "\n",
       "    .dataframe thead th {\n",
       "        text-align: right;\n",
       "    }\n",
       "</style>\n",
       "<table border=\"1\" class=\"dataframe\">\n",
       "  <thead>\n",
       "    <tr style=\"text-align: right;\">\n",
       "      <th></th>\n",
       "      <th>sepal.length</th>\n",
       "      <th>sepal.width</th>\n",
       "      <th>petal.length</th>\n",
       "      <th>petal.width</th>\n",
       "      <th>variety</th>\n",
       "    </tr>\n",
       "  </thead>\n",
       "  <tbody>\n",
       "    <tr>\n",
       "      <th>145</th>\n",
       "      <td>6.7</td>\n",
       "      <td>3.0</td>\n",
       "      <td>5.2</td>\n",
       "      <td>2.3</td>\n",
       "      <td>Virginica</td>\n",
       "    </tr>\n",
       "    <tr>\n",
       "      <th>146</th>\n",
       "      <td>6.3</td>\n",
       "      <td>2.5</td>\n",
       "      <td>5.0</td>\n",
       "      <td>1.9</td>\n",
       "      <td>Virginica</td>\n",
       "    </tr>\n",
       "    <tr>\n",
       "      <th>147</th>\n",
       "      <td>6.5</td>\n",
       "      <td>3.0</td>\n",
       "      <td>5.2</td>\n",
       "      <td>2.0</td>\n",
       "      <td>Virginica</td>\n",
       "    </tr>\n",
       "    <tr>\n",
       "      <th>148</th>\n",
       "      <td>6.2</td>\n",
       "      <td>3.4</td>\n",
       "      <td>5.4</td>\n",
       "      <td>2.3</td>\n",
       "      <td>Virginica</td>\n",
       "    </tr>\n",
       "    <tr>\n",
       "      <th>149</th>\n",
       "      <td>5.9</td>\n",
       "      <td>3.0</td>\n",
       "      <td>5.1</td>\n",
       "      <td>1.8</td>\n",
       "      <td>Virginica</td>\n",
       "    </tr>\n",
       "  </tbody>\n",
       "</table>\n",
       "</div>"
      ],
      "text/plain": [
       "     sepal.length  sepal.width  petal.length  petal.width    variety\n",
       "145           6.7          3.0           5.2          2.3  Virginica\n",
       "146           6.3          2.5           5.0          1.9  Virginica\n",
       "147           6.5          3.0           5.2          2.0  Virginica\n",
       "148           6.2          3.4           5.4          2.3  Virginica\n",
       "149           5.9          3.0           5.1          1.8  Virginica"
      ]
     },
     "execution_count": 12,
     "metadata": {},
     "output_type": "execute_result"
    }
   ],
   "source": [
    "iris.tail() #imprime as 5 últimas linhas"
   ]
  },
  {
   "cell_type": "code",
   "execution_count": null,
   "metadata": {},
   "outputs": [],
   "source": [
    "# removendo a coluna id, a qual não é necessária para análise\n",
    "del iris['Id']"
   ]
  },
  {
   "cell_type": "code",
   "execution_count": null,
   "metadata": {},
   "outputs": [],
   "source": [
    "iris.head(2) #imprime as 2 primeiras linhas"
   ]
  },
  {
   "cell_type": "code",
   "execution_count": null,
   "metadata": {},
   "outputs": [],
   "source": [
    "#Salva o resultado em outro arquivo csv\n",
    "\n",
    "iris.to_csv(datasetPath +'\\\\Iris_Novo.csv')"
   ]
  },
  {
   "cell_type": "code",
   "execution_count": null,
   "metadata": {},
   "outputs": [],
   "source": [
    "#Lê os arquivos de um diretório específico\n",
    "filelist = os.listdir(datasetPath)\n",
    "print(color.BOLD+color.RED+'\\nA lista de arquivos e/ou diretórios é:'+color.END)\n",
    "print(filelist)"
   ]
  },
  {
   "cell_type": "code",
   "execution_count": null,
   "metadata": {},
   "outputs": [],
   "source": [
    "#fazer a indexação do dataframe\n",
    "iris.index.values"
   ]
  },
  {
   "cell_type": "code",
   "execution_count": null,
   "metadata": {},
   "outputs": [],
   "source": [
    "iris.head(2)"
   ]
  },
  {
   "cell_type": "code",
   "execution_count": null,
   "metadata": {},
   "outputs": [],
   "source": [
    "#Renomear a nova coluna\n",
    "b = iris.set_index('Especie')\n",
    "b.head()"
   ]
  },
  {
   "cell_type": "code",
   "execution_count": null,
   "metadata": {},
   "outputs": [],
   "source": [
    "#reveter\n",
    "c = b.reset_index()\n",
    "c.index.values\n",
    "c.head()"
   ]
  },
  {
   "cell_type": "code",
   "execution_count": null,
   "metadata": {},
   "outputs": [],
   "source": [
    "iris1 = pd.read_csv(datasetPath +'\\\\Iris.csv')\n",
    "iris1.head()"
   ]
  },
  {
   "cell_type": "code",
   "execution_count": null,
   "metadata": {},
   "outputs": [],
   "source": [
    "iris2 = pd.DataFrame([{'Nome' : 'Iris-setosa', 'Especies' : 'setosa'},\n",
    "                  {'Nome':'Iris-versicolor','Especies':'versicolor'},\n",
    "                   {'Nome':'Iris-virginica','Especies':'virginica'}])\n",
    "iris2"
   ]
  },
  {
   "cell_type": "code",
   "execution_count": null,
   "metadata": {},
   "outputs": [],
   "source": [
    "#Combina os dois frames\n",
    "\n",
    "iris3 = pd.merge(iris1,iris2,how='inner',left_on='Especie',right_on='Nome')\n",
    "iris3.head()\n"
   ]
  },
  {
   "cell_type": "code",
   "execution_count": null,
   "metadata": {},
   "outputs": [],
   "source": [
    "#Média do comprimento de Sepala\n",
    "iris1.groupby('Especie')['Comprimento_Sepala_Cm'].mean()"
   ]
  },
  {
   "cell_type": "code",
   "execution_count": null,
   "metadata": {},
   "outputs": [],
   "source": [
    "iris1.describe() "
   ]
  },
  {
   "cell_type": "code",
   "execution_count": null,
   "metadata": {},
   "outputs": [],
   "source": [
    "iris1.info()"
   ]
  },
  {
   "cell_type": "code",
   "execution_count": null,
   "metadata": {},
   "outputs": [],
   "source": [
    "plt.figure(figsize = (10, 7)) \n",
    "x = iris1[\"Comprimento_Sepala_Cm\"] \n",
    "  \n",
    "plt.hist(x, bins = 10, color = \"green\") \n",
    "plt.title(\"Comprimento de Sepala em cm\") \n",
    "plt.xlabel(\"Comprimento_Sepala_Cm\") \n",
    "plt.ylabel(\"Quantidade\") \n",
    "#plt.show() "
   ]
  },
  {
   "cell_type": "code",
   "execution_count": null,
   "metadata": {},
   "outputs": [],
   "source": [
    "# removing Id column\n",
    "del iris1['Id']"
   ]
  },
  {
   "cell_type": "code",
   "execution_count": null,
   "metadata": {},
   "outputs": [],
   "source": [
    "#Gráfico de caixas\n",
    "#O boxplot (gráfico de caixa) é um gráfico utilizado para avaliar a distribuição empírica do dados.\n",
    "#O boxplot é formado pelo primeiro e terceiro quartil e pela mediana. \n",
    "\n",
    "plt.figure(figsize = (10, 7)) \n",
    "iris1.boxplot() \n",
    "plt.title(\"Comprimento de Sepala em cm\") \n",
    "plt.ylabel(\"Medida em cm\")\n"
   ]
  },
  {
   "cell_type": "code",
   "execution_count": null,
   "metadata": {},
   "outputs": [],
   "source": [
    "a = iris1[(iris1.Largura_Sepala_Cm>3)]\n",
    "a.head()\n"
   ]
  },
  {
   "cell_type": "code",
   "execution_count": null,
   "metadata": {},
   "outputs": [],
   "source": [
    "c = iris1[iris1['Especie']=='Iris-versicolor']\n",
    "c.head()\n"
   ]
  },
  {
   "cell_type": "markdown",
   "metadata": {},
   "source": [
    "Fim!"
   ]
  }
 ],
 "metadata": {
  "kernelspec": {
   "display_name": "Python 3",
   "language": "python",
   "name": "python3"
  },
  "language_info": {
   "codemirror_mode": {
    "name": "ipython",
    "version": 3
   },
   "file_extension": ".py",
   "mimetype": "text/x-python",
   "name": "python",
   "nbconvert_exporter": "python",
   "pygments_lexer": "ipython3",
   "version": "3.7.1"
  }
 },
 "nbformat": 4,
 "nbformat_minor": 4
}

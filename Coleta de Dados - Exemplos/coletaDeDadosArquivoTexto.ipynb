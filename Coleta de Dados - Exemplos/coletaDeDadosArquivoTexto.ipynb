{
 "cells": [
  {
   "cell_type": "markdown",
   "metadata": {},
   "source": [
    "# Coleta de Dados em Arquivo Texto (txt)"
   ]
  },
  {
   "cell_type": "code",
   "execution_count": null,
   "metadata": {},
   "outputs": [],
   "source": [
    "# -*- coding: utf-8 -*-"
   ]
  },
  {
   "cell_type": "markdown",
   "metadata": {},
   "source": [
    "### <font color=red>Lembre-se , SEMPRE é necessário instalar um pacote/biblioteca do Python antes de usá-lo</font>\n",
    "\n",
    "A instalação é realizada apenas na primeira vez, uma vez instalado, você pode atualizar (update) se necessário.\n",
    "\n",
    "O comando abaixo é usado para a instalação de pacote via <font color=green>prompt de comando do Anaconda</font>\n",
    "\n",
    "**Sintaxe:**  *conda install -c nome-do-canal nome-do-pacote*\n",
    "    \n",
    "    *Exemplo:* conda install -c anaconda pandas"
   ]
  },
  {
   "cell_type": "markdown",
   "metadata": {},
   "source": [
    "#### 1º) Importa bibliotecas"
   ]
  },
  {
   "cell_type": "code",
   "execution_count": 2,
   "metadata": {},
   "outputs": [],
   "source": [
    "# SEMPRE é necessário importar o pacote antes de utilizá-lo\n",
    "import os \n",
    "from datetime import datetime "
   ]
  },
  {
   "cell_type": "markdown",
   "metadata": {},
   "source": [
    "#### 2º) Define métodos e/ou classes"
   ]
  },
  {
   "cell_type": "code",
   "execution_count": 3,
   "metadata": {},
   "outputs": [],
   "source": [
    "#classe para formatar a função print()\n",
    "class color:\n",
    "   PURPLE = '\\033[95m'\n",
    "   CYAN = '\\033[96m'\n",
    "   DARKCYAN = '\\033[36m'\n",
    "   BLUE = '\\033[94m'\n",
    "   GREEN = '\\033[92m'\n",
    "   YELLOW = '\\033[93m'\n",
    "   RED = '\\033[91m'\n",
    "   ORANGE ='\\033[33m'\n",
    "   BOLD = '\\033[1m'\n",
    "   UNDERLINE = '\\033[4m'\n",
    "   END = '\\033[0m'"
   ]
  },
  {
   "cell_type": "code",
   "execution_count": 4,
   "metadata": {},
   "outputs": [],
   "source": [
    "# Função (método) que retorna o diretório de Datasets \n",
    "def setDatasetPath():\n",
    "    return 'C:\\Bootcamp\\Datasets\\TXT'\n",
    "\n",
    "#----------------------------------------------------------------\n",
    "# Método para leitura de arquivo (Lê todo o conteúdo de uma vez)\n",
    "def readFileContent(filename): \n",
    "    try:\n",
    "        \n",
    "        fileobject=open(filename, \"r\", encoding='utf-8')\n",
    "        \n",
    "        print(color.BOLD+color.BLUE+'\\nO conteúdo do arquivo '+filename+' é:\\n'+color.END)\n",
    "        print('\\n')\n",
    "        \n",
    "        if fileobject.mode == 'r':\n",
    "            filecontents =fileobject.read()\n",
    "            print (filecontents) #imprime o conteúdo lido\n",
    "        \n",
    "        fileobject.close()    \n",
    "        \n",
    "    except FileNotFoundError:\n",
    "        print(color.BOLD+color.RED+'\\nERRO AO TENTAR LER O ARQUIVO !! \\nO arquivo '+filename+' não existe!'+color.END)\n",
    "\n",
    "        #----------------------------------------------------------------        \n",
    "# Método para leitura de arquivo (Lêr as linhas do arquivo, e insere em uma lista)\n",
    "def realFileLines(filename):\n",
    "    #Ler cada linha do arquivo, inserir em uma lista\n",
    "    try:\n",
    "        print(color.BOLD+color.BLUE+'\\nAs linhas do arquivo '+filename+' são:\\n'+color.END)\n",
    "        fileobject=open(filename, \"r\", encoding='utf-8')\n",
    "        filelines =fileobject.readlines()\n",
    "    \n",
    "        numline=1 #variável de apoio para controle do número de linha\n",
    "\n",
    "        #Loop -> Para cada linha (line) da lista de linhas filelines\n",
    "        for line in filelines: \n",
    "            print('Linha '+str(numline)+': '+line,end = '') #imprime o valor da linha, end='' exclui quebra de linha\n",
    "            numline=numline+1\n",
    "\n",
    "        #Fecha o objeto de leitura do arquivo        \n",
    "        fileobject.close()      \n",
    "    except FileNotFoundError:\n",
    "        print(color.BOLD+color.RED+'\\nERRO AO TENTAR LER O ARQUIVO !! \\nO arquivo '+filename+' não existe!'+color.END)        \n",
    "#----------------------------------------------------------------        \n",
    "# Método para alteração de arquivo\n",
    "def appendFile(filename):\n",
    "\n",
    "    #Abrir o arquivo em modo de alteração (append)\n",
    "    # \"a\" - append - inclui conteúdo ao final do arquivo\n",
    "    # criará um arquivo se o arquivo especificado não existir\n",
    "    fileobject=open(filename, \"a\", encoding='utf-8')\n",
    "\n",
    "    fileobject.write(\"\\n\") #adiciona uma quebra de linha\n",
    "\n",
    "    fileobject.write(\"\\nOlá pessoal!\") #adiciona uma linha informando que é o final do arquivo    \n",
    "    now = datetime.now() # current date and time\n",
    "    date_time = now.strftime(\"%d/%m/%Y, %H:%M:%S\") #busca a data e hora atual\n",
    "    fileobject.write(\"--> Hoje é: \"+str(date_time)) #adiciona uma linha informando que dia é hoje\n",
    "\n",
    "    fileobject.write(\"\\n\\n\")  #adiciona duas quebras de linha\n",
    "    fileobject.write(\"Em detalhes\") #adiciona uma linha informando que é o fina do arquivo    \n",
    "    fileobject.write(\"\\n--> Hoje é: \"+str(date_time)) #adiciona dia é hoje\n",
    "\n",
    "    fileobject.write(\"\\n   - O dia da semana é: \"+str(now.strftime(\"%A\"))) #Weekday, full version\n",
    "    fileobject.write(\"\\n   - O dia da semana é: \"+str(now.strftime(\"%a\"))) #Weekday, short version\n",
    "    fileobject.write(\"\\n   - O nome do Mês é: \"+str(now.strftime(\"%B\"))) #Month name, full version\n",
    "    fileobject.write(\"\\n   - O nome do Mês é: \"+str(now.strftime(\"%b\"))) #Month name, short version\n",
    "    \n",
    "    \n",
    "    fileobject.close()    #fecha o arquivo        \n",
    "#----------------------------------------------------------------\n",
    "# Método para escrita de arquivo\n",
    "def writeFile(filename):\n",
    "    #Abrir o arquivo em modo de escrita (write)\n",
    "    # \"w\" - Write - substituirá qualquer conteúdo existente\n",
    "    #    criará um arquivo se o arquivo especificado não existir\n",
    "\n",
    "    fileobject=open(filename, \"w\", encoding='utf-8')\n",
    "    fileobject.write (\"Abri o arquivo \"+filename+\" em modo de escrita (w)!\")\n",
    "    \n",
    "    now = datetime.now() # current date and time\n",
    "    date_time = now.strftime(\"%d/%m/%Y, %H:%M:%S\") #busca a data e hora atual\n",
    "    fileobject.write(\"\\n--> O ano corrente: \"+str(now.year)) #adiciona uma linha informando o ano corrente\n",
    "    fileobject.write(\"\\n--> O mês corrente: \"+str(now.month)) #adiciona uma linha informando o mês corrente\n",
    "    fileobject.write(\"\\n--> O dia corrente: \"+str(now.day)) #adiciona uma linha informando o dia corrente   \n",
    "      \n",
    "    fileobject.close()    #fecha o arquivo    \n",
    "    \n",
    "#----------------------------------------------------------------\n",
    "# Método para criação de arquivo    \n",
    "def createFile(filename):\n",
    "\n",
    "    #Cria um novo arquivo usando o método open ()\n",
    "    #\"x\" - criará um arquivo, retornará um erro se o arquivo existir\n",
    "    #filename = setDatasetPath() + \"\\escritorCreate1.txt\"\n",
    "    try:\n",
    "        fileobject=open(filename, \"x\", encoding='utf-8')\n",
    "        fileobject.write(\"Este é um novo arquivo criado usando o modo de criação (x).\")\n",
    "        fileobject.close()    #fecha o arquivo\n",
    "    except FileExistsError:\n",
    "        print('\\nERRO AO TENTAR CRIAR O ARQUIVO !! \\nO arquivo '+filename+' já existe!')\n",
    "        "
   ]
  },
  {
   "cell_type": "markdown",
   "metadata": {},
   "source": [
    "Para ver a documentação completa de coma tratar datas no Python acesse:\n",
    "* https://www.w3schools.com/python/python_datetime.asp"
   ]
  },
  {
   "cell_type": "markdown",
   "metadata": {},
   "source": [
    "<b><font color=red>Observação:</b></font> Para executar este notebook, verifique se seu ambiente esta de acordo com a imagem a seguir."
   ]
  },
  {
   "attachments": {
    "image.png": {
     "image/png": "[encoded data removed]"
    }
   },
   "cell_type": "markdown",
   "metadata": {},
   "source": [
    "![image.png](attachment:image.png)"
   ]
  },
  {
   "cell_type": "markdown",
   "metadata": {},
   "source": [
    "#### 3º) Executa os métodos criados (Main)"
   ]
  },
  {
   "cell_type": "code",
   "execution_count": null,
   "metadata": {},
   "outputs": [],
   "source": [
    "# Verifica o diretório de trabalho e Define o diretório dos arquivos\n",
    "# Observe no método setDatasetPath() que o caminho definido foi -> 'C:\\Bootcamp\\Datasets\\TXT'\n",
    "# Para executar as demais céluas, seus arquivo devem seguir a mesma estrutura de pastas, ou você precisa ajustar\n",
    "# os métodos conforme sua estrutura.\n",
    "\n",
    "datasetPath = setDatasetPath()"
   ]
  },
  {
   "cell_type": "markdown",
   "metadata": {},
   "source": [
    "######  3.1 - Leitura de arquivo TXT"
   ]
  },
  {
   "cell_type": "code",
   "execution_count": null,
   "metadata": {},
   "outputs": [],
   "source": [
    "# Define arquivo para leitura\n",
    "filename = datasetPath + \"\\\\arquivoTextoRead.txt\"\n",
    "\n",
    "# Imprimir texto com alinhamento ao centro\n",
    "print(color.CYAN+'Será lido o seguinte arquivo: '+color.END+filename)"
   ]
  },
  {
   "cell_type": "code",
   "execution_count": null,
   "metadata": {},
   "outputs": [],
   "source": [
    "#Invoca o método readFileContent(filename)\n",
    "readFileContent(filename)"
   ]
  },
  {
   "cell_type": "code",
   "execution_count": null,
   "metadata": {},
   "outputs": [],
   "source": [
    "#Invoca o método realFileLines(filename)\n",
    "realFileLines(filename)"
   ]
  },
  {
   "cell_type": "markdown",
   "metadata": {},
   "source": [
    "######  3.2 - Alteração (append) de arquivo TXT"
   ]
  },
  {
   "cell_type": "code",
   "execution_count": null,
   "metadata": {},
   "outputs": [],
   "source": [
    "    print(color.BOLD+color.GREEN+'Append em um arquivo que já existe!\\n'+color.END)\n",
    "    \n",
    "    #Abrir o arquivo em modo de alteração (append)\n",
    "    filename = datasetPath + \"\\\\arquivoTextoAppend1.txt\"    \n",
    "    \n",
    "    #Vamos PRIMEIRO ler o arquivo para conferir o conteúdo\n",
    "    readFileContent(filename)\n",
    "    \n",
    "    #Invoca método appendFile(filename)\n",
    "    appendFile(filename)\n",
    "    \n",
    "    print(color.BOLD+color.RED+'Arquivo alterado.\\n'+color.END)\n",
    "    #Vamos AGORA ler o arquivo para conferir o conteúdo após append\n",
    "    readFileContent(filename)"
   ]
  },
  {
   "cell_type": "code",
   "execution_count": null,
   "metadata": {},
   "outputs": [],
   "source": [
    "    print(color.BOLD+color.GREEN+'Append em um arquivo que não existe!\\n'+color.END)\n",
    "    \n",
    "    filename = datasetPath + \"\\\\arquivoTextoAppend2.txt\"\n",
    "    \n",
    "    #Vamos PRIMEIRO ler o arquivo para conferir o conteúdo\n",
    "    readFileContent(filename)\n",
    "    \n",
    "    #Invoca método appendFile(filename)\n",
    "    appendFile(filename)\n",
    "\n",
    "    print(color.BOLD+color.RED+'Arquivo alterado.\\n'+color.END)\n",
    "    #Vamos AGORA ler o arquivo para conferir o conteúdo após append\n",
    "    readFileContent(filename)"
   ]
  },
  {
   "cell_type": "markdown",
   "metadata": {},
   "source": [
    "######  3.3 - Escrita (write) de arquivo TXT"
   ]
  },
  {
   "cell_type": "code",
   "execution_count": null,
   "metadata": {},
   "outputs": [],
   "source": [
    "    print(color.BOLD+color.PURPLE+'Escrever (sobrescrever) um arquivo que já existe!\\n'+color.END)\n",
    "    \n",
    "    #Abrir o arquivo em modo de escrita (write)\n",
    "    filename = datasetPath + \"\\\\arquivoTextoWrite1.txt\"\n",
    "    \n",
    "    #Vamos PRIMEIRO ler o arquivo para conferir o conteúdo\n",
    "    readFileContent(filename)\n",
    "    \n",
    "    #Invoca método writeFile(filename)\n",
    "    writeFile(filename)\n",
    "\n",
    "    print(color.BOLD+color.RED+'Arquivo alterado.\\n'+color.END)    \n",
    "    #Vamos AGORA ler o arquivo para conferir o conteúdo após escrita\n",
    "    readFileContent(filename)"
   ]
  },
  {
   "cell_type": "code",
   "execution_count": null,
   "metadata": {},
   "outputs": [],
   "source": [
    "    print(color.BOLD+color.PURPLE+'Escrever um arquivo que não existe!\\n'+color.END)\n",
    "    \n",
    "    filename = datasetPath + \"\\\\arquivoTextoWrite2.txt\"\n",
    "    \n",
    "    #Vamos PRIMEIRO ler o arquivo para conferir o conteúdo\n",
    "    readFileContent(filename)\n",
    "    \n",
    "    #Invoca método writeFile(filename)\n",
    "    writeFile(filename)\n",
    "    \n",
    "    #Vamos AGORA ler o arquivo para conferir o conteúdo após escrita\n",
    "    readFileContent(filename)"
   ]
  },
  {
   "cell_type": "markdown",
   "metadata": {},
   "source": [
    "######  3.4 - Escrita (create) de arquivo TXT "
   ]
  },
  {
   "cell_type": "code",
   "execution_count": null,
   "metadata": {},
   "outputs": [],
   "source": [
    "    print(color.BOLD+color.ORANGE+'Criar um arquivo que já existe!\\n'+color.END)\n",
    "    \n",
    "    #Cria um novo arquivo usando o método open ()\n",
    "    filename = datasetPath + \"\\\\arquivoTextoCreate1.txt\"\n",
    "    \n",
    "    #Vamos PRIMEIRO ler o arquivo para conferir o conteúdo ou ver se ele existe\n",
    "    readFileContent(filename)\n",
    "    \n",
    "    #Invoca o método createFile(filename)\n",
    "    createFile(filename)\n",
    "\n",
    "    print(color.BOLD+color.ORANGE+'\\nCriar um arquivo que não existe!\\n'+color.END)       \n",
    "    filename = datasetPath + \"\\\\arquivoTextoCreate2.txt\"\n",
    "    \n",
    "    #Vamos ler o arquivo para conferir o conteúdo ou ver se ele existe\n",
    "    readFileContent(filename)\n",
    "    \n",
    "    createFile(filename)\n",
    "   \n",
    "    #Vamos AGORA ler o arquivo para conferir o conteúdo após escrita\n",
    "    readFileContent(filename)"
   ]
  },
  {
   "cell_type": "markdown",
   "metadata": {},
   "source": [
    "######  3.5 - Listar arquivos de diretório"
   ]
  },
  {
   "cell_type": "code",
   "execution_count": null,
   "metadata": {},
   "outputs": [],
   "source": [
    "#Lê o diretório de trabalho\n",
    "working_directory = os.getcwd() #\n",
    "\n",
    "print('O diretório de trabalho é: ' + working_directory)\n",
    "\n",
    "#Lê os arquivos de um diretório específico\n",
    "filelist = os.listdir(datasetPath)\n",
    "print(color.BOLD+'\\nA lista de arquivos e/ou diretórios é:'+color.END)\n",
    "print(filelist)"
   ]
  },
  {
   "cell_type": "markdown",
   "metadata": {},
   "source": [
    "######  3.6 - Lê o conteúdo de cada arquivo do diretório "
   ]
  },
  {
   "cell_type": "code",
   "execution_count": null,
   "metadata": {},
   "outputs": [],
   "source": [
    "#for filename in filelist:\n",
    "for filename in os.listdir(datasetPath):\n",
    "    if os.path.isfile(os.path.join(datasetPath, filename)):\n",
    "        fullfilename = datasetPath+'\\\\'+filename\n",
    "        try:\n",
    "            print(color.BOLD+color.ORANGE+'\\nLendo conteúdo do arquivo: '+color.END+ fullfilename)\n",
    "            fileobject=open(fullfilename, \"r\",encoding='utf-8')\n",
    "            if fileobject.mode == 'r':\n",
    "                filecontents =fileobject.read()\n",
    "                print (filecontents) #imprime o conteúdo lido\n",
    "            fileobject.close()\n",
    "        except FileNotFoundError:\n",
    "            print(color.BOLD+color.RED+'\\nERRO: ARQUIVO NÃO EXISTE!! \\n'+color.END)\n",
    "    else: \n",
    "        print(color.BOLD+color.BLUE+'\\n'+filename+' não é um arquivo!'+color.END)"
   ]
  },
  {
   "cell_type": "markdown",
   "metadata": {},
   "source": [
    "#### Remove todos arquivo de um diretório"
   ]
  },
  {
   "cell_type": "code",
   "execution_count": null,
   "metadata": {},
   "outputs": [],
   "source": [
    "folder = 'C:\\\\Bootcamp\\\\Datasets\\\\TXT\\\\target'\n",
    "\n",
    "filelist = os.listdir(folder)\n",
    "print(color.BOLD+color.ORANGE+'Lista de arquivos:'+color.END)\n",
    "print(filelist)\n",
    "\n",
    "for filename in os.listdir(folder):\n",
    "    try:\n",
    "        if os.path.isfile(os.path.join(folder, filename)):\n",
    "            filepath = os.path.join(folder, filename)\n",
    "            os.unlink(filepath)\n",
    "        #elif os.path.isdir(filepath):\n",
    "            #shutil.rmtree(filepath)\n",
    "    except Exception as e:\n",
    "        print('Falha ao excluir %s. \\nRazão da falha: %s' % (filepath, e))\n",
    "\n",
    "print('\\n')\n",
    "\n",
    "filelist = os.listdir(folder)\n",
    "\n",
    "print(color.BOLD+color.ORANGE+'Lista de arquivos após exclusão:'+color.END)\n",
    "print(filelist)        "
   ]
  },
  {
   "cell_type": "markdown",
   "metadata": {},
   "source": [
    "#### Movendo arquivo de um diretório para outro "
   ]
  },
  {
   "cell_type": "code",
   "execution_count": null,
   "metadata": {},
   "outputs": [],
   "source": [
    "import shutil\n",
    "#import os\n",
    "\n",
    "folderSource = 'C:\\\\Bootcamp\\\\Datasets\\\\TXT\\\\source'\n",
    "folderTarget = 'C:\\\\Bootcamp\\\\Datasets\\\\TXT\\\\target'\n",
    "\n",
    "sourceList = os.listdir(folderSource)\n",
    "targetList = os.listdir(folderTarget)\n",
    "\n",
    "print(color.BOLD+color.ORANGE+'Lista de arquivos na origem: '+color.END)\n",
    "print(sourceList)\n",
    "\n",
    "print(color.BOLD+color.ORANGE+'Lista de arquivos no destino: '+color.END)\n",
    "print(targetList)\n",
    "\n",
    "# Move a pasta source para dentro da pasta target --> shutil.move(folderSource, folderTarget)\n",
    "\n",
    "for filename in sourceList:\n",
    "    try:\n",
    "        #print(filename)\n",
    "        if os.path.isfile(os.path.join(folderSource, filename)):\n",
    "            filepath = os.path.join(folderSource, filename)\n",
    "            shutil.move(filepath, folderTarget) #Move o arquivo para pasta target\n",
    "    except Exception as e:\n",
    "        print('Falha ao excluir %s. \\nRazão da falha: %s' % (filepath, e))\n",
    "\n",
    "sourceList = os.listdir(folderSource)\n",
    "targetList = os.listdir(folderTarget)\n",
    "\n",
    "print(color.BOLD+color.BLUE+'Arquivos na origem após mover:'+color.END)\n",
    "print(sourceList)\n",
    "\n",
    "print(color.BOLD+color.BLUE+'Arquivos no destino após mover:'+color.END)\n",
    "print(targetList)"
   ]
  },
  {
   "cell_type": "markdown",
   "metadata": {},
   "source": [
    "#### Copiando arquivo de um diretório para outro "
   ]
  },
  {
   "cell_type": "code",
   "execution_count": null,
   "metadata": {},
   "outputs": [],
   "source": [
    "sourceList = os.listdir(folderSource)\n",
    "targetList = os.listdir(folderTarget)\n",
    "\n",
    "for filename in targetList:\n",
    "    try:\n",
    "        #print(filename)\n",
    "        if os.path.isfile(os.path.join(folderTarget, filename)):\n",
    "            filepath = os.path.join(folderTarget, filename)\n",
    "            filepath2 = os.path.join(folderSource, filename)\n",
    "            #print(filepath)\n",
    "            shutil.copy(filepath, filepath2) #Copia o arquivo para pasta source\n",
    "    except Exception as e:\n",
    "        print('Falha ao excluir %s. \\nRazão da falha: %s' % (filepath, e))\n",
    "\n",
    "sourceList = os.listdir(folderSource)\n",
    "targetList = os.listdir(folderTarget)\n",
    "\n",
    "\n",
    "print(color.BOLD+color.BLUE+'Arquivos na origem após cópia:'+color.END)\n",
    "print(sourceList)\n",
    "\n",
    "print(color.BOLD+color.BLUE+'Arquivos no destino após cópia:'+color.END)\n",
    "print(targetList)"
   ]
  },
  {
   "cell_type": "markdown",
   "metadata": {},
   "source": [
    "#### Renomeando arquivo"
   ]
  },
  {
   "cell_type": "code",
   "execution_count": null,
   "metadata": {},
   "outputs": [],
   "source": [
    "#folderTarget = 'C:\\\\Bootcamp\\\\Datasets\\\\TXT\\\\target'\n",
    "\n",
    "filenameSource = 'arquivoTexto.txt'\n",
    "filenameTarget = 'arquivoTextoRenomeado.txt'\n",
    "\n",
    "\n",
    "old_file = os.path.join(folderTarget, filenameSource)\n",
    "new_file = os.path.join(folderTarget, filenameTarget)\n",
    "\n",
    "\n",
    "filelist = os.listdir(folderTarget)\n",
    "print('\\nLista de Arquivos: ',sep=\"\")\n",
    "print(filelist)\n",
    "\n",
    "os.rename(old_file, new_file)\n",
    "#os.link(filenameTarget)\n",
    "\n",
    "filelist = os.listdir(folderTarget)\n",
    "print('\\nLista de Arquivos após renomear: ',sep=\"\")\n",
    "print(filelist)\n"
   ]
  },
  {
   "cell_type": "markdown",
   "metadata": {},
   "source": [
    "Fim!"
   ]
  }
 ],
 "metadata": {
  "kernelspec": {
   "display_name": "Python 3",
   "language": "python",
   "name": "python3"
  },
  "language_info": {
   "codemirror_mode": {
    "name": "ipython",
    "version": 3
   },
   "file_extension": ".py",
   "mimetype": "text/x-python",
   "name": "python",
   "nbconvert_exporter": "python",
   "pygments_lexer": "ipython3",
   "version": "3.7.1"
  }
 },
 "nbformat": 4,
 "nbformat_minor": 4
}

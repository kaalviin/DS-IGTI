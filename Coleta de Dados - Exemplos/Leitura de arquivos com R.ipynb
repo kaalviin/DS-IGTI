{
 "cells": [
  {
   "cell_type": "markdown",
   "metadata": {},
   "source": [
    "# Leitura de arquivos com R"
   ]
  },
  {
   "cell_type": "markdown",
   "metadata": {},
   "source": [
    "#### Leitura de arquivo"
   ]
  },
  {
   "cell_type": "code",
   "execution_count": 3,
   "metadata": {},
   "outputs": [],
   "source": [
    "#instala pacote\n",
    "#install.packages('readr')\n",
    "\n",
    "#importa pacote\n",
    "library('readr')\n"
   ]
  },
  {
   "cell_type": "code",
   "execution_count": 4,
   "metadata": {},
   "outputs": [],
   "source": [
    "datasetpath <- 'C:/Bootcamp/Datasets/CSV'"
   ]
  },
  {
   "cell_type": "code",
   "execution_count": 6,
   "metadata": {},
   "outputs": [
    {
     "name": "stdout",
     "output_type": "stream",
     "text": [
      "   CodEstadoIBGE          NomeEstado SiglaEstado       Regiao\n",
      "1             11            Rondónia          RO        Norte\n",
      "2             12                Acre          AC        Norte\n",
      "3             13            Amazonas          AM        Norte\n",
      "4             14             Roraima           R        Norte\n",
      "5             15                Pará          PA        Norte\n",
      "6             16               Amapá          AP        Norte\n",
      "7             17           Tocantins          TO        Norte\n",
      "8             21            Maranhão          MA     Nordeste\n",
      "9             22               Piauí          PI     Nordeste\n",
      "10            23               Ceará          CE     Nordeste\n",
      "11            24 Rio Grande do Norte          RN     Nordeste\n",
      "12            25             Paraíba          PB     Nordeste\n",
      "13            26          Pernambuco          PE     Nordeste\n",
      "14            27             Alagoas          AL     Nordeste\n",
      "15            28             Sergipe          SE     Nordeste\n",
      "16            29               Bahia          BA     Nordeste\n",
      "17            31        Minas Gerais          MG      Sudeste\n",
      "18            32      Espírito Santo          ES      Sudeste\n",
      "19            33      Rio de Janeiro          RJ      Sudeste\n",
      "20            35           São Paulo          SP      Sudeste\n",
      "21            41              Paraná          PR          Sul\n",
      "22            42      Santa Catarina          SC          Sul\n",
      "23            43   Rio Grande do Sul          RS          Sul\n",
      "24            50  Mato Grosso do Sul          MS Centro-Oeste\n",
      "25            51         Mato Grosso          MT Centro-Oeste\n",
      "26            52               Goiás          GO Centro-Oeste\n",
      "27            53    Distrito Federal          DF Centro-Oeste\n"
     ]
    }
   ],
   "source": [
    "# Importar (ler) os dados do arquivo CSV de valores separados por virgulas\n",
    "file1 <- paste(datasetpath,\"/estadosDB.csv\",sep=\"\")\n",
    "\n",
    "data0 <- read.csv(file1)\n",
    "print(data0)"
   ]
  },
  {
   "cell_type": "code",
   "execution_count": 7,
   "metadata": {},
   "outputs": [
    {
     "name": "stdout",
     "output_type": "stream",
     "text": [
      "   CodEstadoIBGE.NomeEstado.SiglaEstado.Regiao\n",
      "1                         11,Rondónia,RO,Norte\n",
      "2                             12,Acre,AC,Norte\n",
      "3                         13,Amazonas,AM,Norte\n",
      "4                           14,Roraima,R,Norte\n",
      "5                             15,Pará,PA,Norte\n",
      "6                            16,Amapá,AP,Norte\n",
      "7                        17,Tocantins,TO,Norte\n",
      "8                      21,Maranhão,MA,Nordeste\n",
      "9                         22,Piauí,PI,Nordeste\n",
      "10                        23,Ceará,CE,Nordeste\n",
      "11          24,Rio Grande do Norte,RN,Nordeste\n",
      "12                      25,Paraíba,PB,Nordeste\n",
      "13                   26,Pernambuco,PE,Nordeste\n",
      "14                      27,Alagoas,AL,Nordeste\n",
      "15                      28,Sergipe,SE,Nordeste\n",
      "16                        29,Bahia,BA,Nordeste\n",
      "17                  31,Minas Gerais,MG,Sudeste\n",
      "18                32,Espírito Santo,ES,Sudeste\n",
      "19                33,Rio de Janeiro,RJ,Sudeste\n",
      "20                     35,São Paulo,SP,Sudeste\n",
      "21                            41,Paraná,PR,Sul\n",
      "22                    42,Santa Catarina,SC,Sul\n",
      "23                 43,Rio Grande do Sul,RS,Sul\n",
      "24       50,Mato Grosso do Sul,MS,Centro-Oeste\n",
      "25              51,Mato Grosso,MT,Centro-Oeste\n",
      "26                    52,Goiás,GO,Centro-Oeste\n",
      "27         53,Distrito Federal,DF,Centro-Oeste\n"
     ]
    }
   ],
   "source": [
    "data1 <- read.csv2(file1)\n",
    "print(data1)"
   ]
  },
  {
   "cell_type": "code",
   "execution_count": 8,
   "metadata": {},
   "outputs": [
    {
     "data": {
      "text/html": [
       "<table>\n",
       "<thead><tr><th scope=col>sepal.length</th><th scope=col>sepal.width</th><th scope=col>petal.length</th><th scope=col>petal.width</th><th scope=col>variety</th></tr></thead>\n",
       "<tbody>\n",
       "\t<tr><td>5.1   </td><td>3.5   </td><td>1.4   </td><td>0.2   </td><td>Setosa</td></tr>\n",
       "\t<tr><td>4.9   </td><td>3.0   </td><td>1.4   </td><td>0.2   </td><td>Setosa</td></tr>\n",
       "\t<tr><td>4.7   </td><td>3.2   </td><td>1.3   </td><td>0.2   </td><td>Setosa</td></tr>\n",
       "\t<tr><td>4.6   </td><td>3.1   </td><td>1.5   </td><td>0.2   </td><td>Setosa</td></tr>\n",
       "\t<tr><td>5.0   </td><td>3.6   </td><td>1.4   </td><td>0.2   </td><td>Setosa</td></tr>\n",
       "\t<tr><td>5.4   </td><td>3.9   </td><td>1.7   </td><td>0.4   </td><td>Setosa</td></tr>\n",
       "</tbody>\n",
       "</table>\n"
      ],
      "text/latex": [
       "\\begin{tabular}{r|lllll}\n",
       " sepal.length & sepal.width & petal.length & petal.width & variety\\\\\n",
       "\\hline\n",
       "\t 5.1    & 3.5    & 1.4    & 0.2    & Setosa\\\\\n",
       "\t 4.9    & 3.0    & 1.4    & 0.2    & Setosa\\\\\n",
       "\t 4.7    & 3.2    & 1.3    & 0.2    & Setosa\\\\\n",
       "\t 4.6    & 3.1    & 1.5    & 0.2    & Setosa\\\\\n",
       "\t 5.0    & 3.6    & 1.4    & 0.2    & Setosa\\\\\n",
       "\t 5.4    & 3.9    & 1.7    & 0.4    & Setosa\\\\\n",
       "\\end{tabular}\n"
      ],
      "text/markdown": [
       "\n",
       "| sepal.length | sepal.width | petal.length | petal.width | variety |\n",
       "|---|---|---|---|---|\n",
       "| 5.1    | 3.5    | 1.4    | 0.2    | Setosa |\n",
       "| 4.9    | 3.0    | 1.4    | 0.2    | Setosa |\n",
       "| 4.7    | 3.2    | 1.3    | 0.2    | Setosa |\n",
       "| 4.6    | 3.1    | 1.5    | 0.2    | Setosa |\n",
       "| 5.0    | 3.6    | 1.4    | 0.2    | Setosa |\n",
       "| 5.4    | 3.9    | 1.7    | 0.4    | Setosa |\n",
       "\n"
      ],
      "text/plain": [
       "  sepal.length sepal.width petal.length petal.width variety\n",
       "1 5.1          3.5         1.4          0.2         Setosa \n",
       "2 4.9          3.0         1.4          0.2         Setosa \n",
       "3 4.7          3.2         1.3          0.2         Setosa \n",
       "4 4.6          3.1         1.5          0.2         Setosa \n",
       "5 5.0          3.6         1.4          0.2         Setosa \n",
       "6 5.4          3.9         1.7          0.4         Setosa "
      ]
     },
     "metadata": {},
     "output_type": "display_data"
    }
   ],
   "source": [
    "data2 <- read.table(paste(datasetpath,\"/Iris.csv\",sep=\"\"),header=T,sep=\",\")\n",
    "head(data2)"
   ]
  },
  {
   "cell_type": "code",
   "execution_count": 9,
   "metadata": {},
   "outputs": [
    {
     "data": {
      "text/plain": [
       "  sepal.length    sepal.width     petal.length    petal.width   \n",
       " Min.   :4.300   Min.   :2.000   Min.   :1.000   Min.   :0.100  \n",
       " 1st Qu.:5.100   1st Qu.:2.800   1st Qu.:1.600   1st Qu.:0.300  \n",
       " Median :5.800   Median :3.000   Median :4.350   Median :1.300  \n",
       " Mean   :5.843   Mean   :3.057   Mean   :3.758   Mean   :1.199  \n",
       " 3rd Qu.:6.400   3rd Qu.:3.300   3rd Qu.:5.100   3rd Qu.:1.800  \n",
       " Max.   :7.900   Max.   :4.400   Max.   :6.900   Max.   :2.500  \n",
       "       variety  \n",
       " Setosa    :50  \n",
       " Versicolor:50  \n",
       " Virginica :50  \n",
       "                \n",
       "                \n",
       "                "
      ]
     },
     "metadata": {},
     "output_type": "display_data"
    }
   ],
   "source": [
    "summary(data2)"
   ]
  },
  {
   "cell_type": "code",
   "execution_count": 15,
   "metadata": {},
   "outputs": [
    {
     "name": "stderr",
     "output_type": "stream",
     "text": [
      "Warning message in read.table(file = file, header = header, sep = sep, quote = quote, :\n",
      "\"incomplete final line found by readTableHeader on 'C:\\Bootcamp\\Datasets\\TXT\\noticia.txt'\""
     ]
    },
    {
     "data": {
      "text/html": [
       "<table>\n",
       "<thead><tr><th scope=col>A.populaÃ.Ã.o.do.MarajÃ³..PA..recebeu.mais.de.190.mil.itens.de.higiene.pessoal.e.12.5.mil.cestas.de.alimentos..As.doaÃ.Ãµes.sÃ.o.parte.da.segunda.fase.da.OperaÃ.Ã.o.PÃ.o.da.Vida.e.foram.entregues.em.solenidade.simbÃ³lica.nesta.sexta.feira..31...no.municÃ.pio.de.Breves..PA..</th></tr></thead>\n",
       "<tbody>\n",
       "\t<tr><td>Na aÃ§Ã£o, que integra o programa Abrace o MarajÃ³, foram distribuÃ­das 5,5 mil cestas bÃ¡sicas para Breves, 3 mil para MelgaÃ§o e 4 mil para Portel. Entre as doaÃ§Ãµes, estÃ£o itens de proteÃ§Ã£o e higiene. SÃ£o 5 mil mÃ¡scaras, 3,5 mil escovas de dentes e cerca de 1,8 mil caixas de sabonetes. Cada caixa contÃ©m 108 unidades, totalizando mais de 190 mil sabonetes.                             </td></tr>\n",
       "\t<tr><td>â€œNos coube essa missÃ£o e junto com a sociedade civil organizada, terceiro setor, pastorais catÃ³licas, igrejas evangÃ©licas nos mobilizamos para dar auxÃ­lio a esta regiÃ£o. Aqui entregamos doaÃ§Ãµes que vem de todo o Brasil e eles nÃ£o querem sÃ³ doar, mas conhecer o MarajÃ³ e futuramente trazer indÃºstrias e trabalhoâ€, destacou a coordenadora do programa Abrace o MarajÃ³, Marisa RomÃ£o.</td></tr>\n",
       "\t<tr><td>Toninho Barbosa, prefeito da cidade de Breves (PA), agradeceu ao Governo Federal por estar presente na regiÃ£o. â€œO que mais precisamos aqui no MarajÃ³ Ã© ajuda diante da pandemia e eu me sinto muito feliz em ter o apoio do Governo Federal e ver a uniÃ£o de todosâ€, conclui.                                                                                                                       </td></tr>\n",
       "\t<tr><td>Nesta fase do projeto, cerca de 180 mil pessoas foram alcanÃ§adas. As doaÃ§Ãµes sÃ£o fruto do apoio de empresÃ¡rios e outros membros da sociedade civil e do terceiro setor, a maioria do estado de SÃ£o Paulo, com destaque para a Virada Feminina. O movimento visa a contribuir com os desafios enfrentados pelas pessoas em Ã¡reas como saÃºde, inclusÃ£o social e enfrentamento Ã  violÃªncia.         </td></tr>\n",
       "</tbody>\n",
       "</table>\n"
      ],
      "text/latex": [
       "\\begin{tabular}{r|l}\n",
       " A.populaÃ.Ã.o.do.MarajÃ³..PA..recebeu.mais.de.190.mil.itens.de.higiene.pessoal.e.12.5.mil.cestas.de.alimentos..As.doaÃ.Ãµes.sÃ.o.parte.da.segunda.fase.da.OperaÃ.Ã.o.PÃ.o.da.Vida.e.foram.entregues.em.solenidade.simbÃ³lica.nesta.sexta.feira..31...no.municÃ.pio.de.Breves..PA..\\\\\n",
       "\\hline\n",
       "\t Na aÃ§Ã£o, que integra o programa Abrace o MarajÃ³, foram distribuÃ­das 5,5 mil cestas bÃ¡sicas para Breves, 3 mil para MelgaÃ§o e 4 mil para Portel. Entre as doaÃ§Ãµes, estÃ£o itens de proteÃ§Ã£o e higiene. SÃ£o 5 mil mÃ¡scaras, 3,5 mil escovas de dentes e cerca de 1,8 mil caixas de sabonetes. Cada caixa contÃ©m 108 unidades, totalizando mais de 190 mil sabonetes.                             \\\\\n",
       "\t â€œNos coube essa missÃ£o e junto com a sociedade civil organizada, terceiro setor, pastorais catÃ³licas, igrejas evangÃ©licas nos mobilizamos para dar auxÃ­lio a esta regiÃ£o. Aqui entregamos doaÃ§Ãµes que vem de todo o Brasil e eles nÃ£o querem sÃ³ doar, mas conhecer o MarajÃ³ e futuramente trazer indÃºstrias e trabalhoâ€, destacou a coordenadora do programa Abrace o MarajÃ³, Marisa RomÃ£o.\\\\\n",
       "\t Toninho Barbosa, prefeito da cidade de Breves (PA), agradeceu ao Governo Federal por estar presente na regiÃ£o. â€œO que mais precisamos aqui no MarajÃ³ Ã© ajuda diante da pandemia e eu me sinto muito feliz em ter o apoio do Governo Federal e ver a uniÃ£o de todosâ€, conclui.                                                                                                                       \\\\\n",
       "\t Nesta fase do projeto, cerca de 180 mil pessoas foram alcanÃ§adas. As doaÃ§Ãµes sÃ£o fruto do apoio de empresÃ¡rios e outros membros da sociedade civil e do terceiro setor, a maioria do estado de SÃ£o Paulo, com destaque para a Virada Feminina. O movimento visa a contribuir com os desafios enfrentados pelas pessoas em Ã¡reas como saÃºde, inclusÃ£o social e enfrentamento Ã  violÃªncia.         \\\\\n",
       "\\end{tabular}\n"
      ],
      "text/markdown": [
       "\n",
       "| A.populaÃ.Ã.o.do.MarajÃ³..PA..recebeu.mais.de.190.mil.itens.de.higiene.pessoal.e.12.5.mil.cestas.de.alimentos..As.doaÃ.Ãµes.sÃ.o.parte.da.segunda.fase.da.OperaÃ.Ã.o.PÃ.o.da.Vida.e.foram.entregues.em.solenidade.simbÃ³lica.nesta.sexta.feira..31...no.municÃ.pio.de.Breves..PA.. |\n",
       "|---|\n",
       "| Na aÃ§Ã£o, que integra o programa Abrace o MarajÃ³, foram distribuÃ­das 5,5 mil cestas bÃ¡sicas para Breves, 3 mil para MelgaÃ§o e 4 mil para Portel. Entre as doaÃ§Ãµes, estÃ£o itens de proteÃ§Ã£o e higiene. SÃ£o 5 mil mÃ¡scaras, 3,5 mil escovas de dentes e cerca de 1,8 mil caixas de sabonetes. Cada caixa contÃ©m 108 unidades, totalizando mais de 190 mil sabonetes.                              |\n",
       "| â€œNos coube essa missÃ£o e junto com a sociedade civil organizada, terceiro setor, pastorais catÃ³licas, igrejas evangÃ©licas nos mobilizamos para dar auxÃ­lio a esta regiÃ£o. Aqui entregamos doaÃ§Ãµes que vem de todo o Brasil e eles nÃ£o querem sÃ³ doar, mas conhecer o MarajÃ³ e futuramente trazer indÃºstrias e trabalhoâ€, destacou a coordenadora do programa Abrace o MarajÃ³, Marisa RomÃ£o. |\n",
       "| Toninho Barbosa, prefeito da cidade de Breves (PA), agradeceu ao Governo Federal por estar presente na regiÃ£o. â€œO que mais precisamos aqui no MarajÃ³ Ã© ajuda diante da pandemia e eu me sinto muito feliz em ter o apoio do Governo Federal e ver a uniÃ£o de todosâ€, conclui.                                                                                                                        |\n",
       "| Nesta fase do projeto, cerca de 180 mil pessoas foram alcanÃ§adas. As doaÃ§Ãµes sÃ£o fruto do apoio de empresÃ¡rios e outros membros da sociedade civil e do terceiro setor, a maioria do estado de SÃ£o Paulo, com destaque para a Virada Feminina. O movimento visa a contribuir com os desafios enfrentados pelas pessoas em Ã¡reas como saÃºde, inclusÃ£o social e enfrentamento Ã  violÃªncia.          |\n",
       "\n"
      ],
      "text/plain": [
       "  A.populaÃ.Ã.o.do.MarajÃ³..PA..recebeu.mais.de.190.mil.itens.de.higiene.pessoal.e.12.5.mil.cestas.de.alimentos..As.doaÃ.Ãµes.sÃ.o.parte.da.segunda.fase.da.OperaÃ.Ã.o.PÃ.o.da.Vida.e.foram.entregues.em.solenidade.simbÃ³lica.nesta.sexta.feira..31...no.municÃ.pio.de.Breves..PA..                                                                                                                          \n",
       "1 Na aÃ§Ã£o, que integra o programa Abrace o MarajÃ³, foram distribuÃ­das 5,5 mil cestas bÃ¡sicas para Breves, 3 mil para MelgaÃ§o e 4 mil para Portel. Entre as doaÃ§Ãµes, estÃ£o itens de proteÃ§Ã£o e higiene. SÃ£o 5 mil mÃ¡scaras, 3,5 mil escovas de dentes e cerca de 1,8 mil caixas de sabonetes. Cada caixa contÃ©m 108 unidades, totalizando mais de 190 mil sabonetes.                             \n",
       "2 â\\200œNos coube essa missÃ£o e junto com a sociedade civil organizada, terceiro setor, pastorais catÃ³licas, igrejas evangÃ©licas nos mobilizamos para dar auxÃ­lio a esta regiÃ£o. Aqui entregamos doaÃ§Ãµes que vem de todo o Brasil e eles nÃ£o querem sÃ³ doar, mas conhecer o MarajÃ³ e futuramente trazer indÃºstrias e trabalhoâ\\200\\235, destacou a coordenadora do programa Abrace o MarajÃ³, Marisa RomÃ£o.\n",
       "3 Toninho Barbosa, prefeito da cidade de Breves (PA), agradeceu ao Governo Federal por estar presente na regiÃ£o. â\\200œO que mais precisamos aqui no MarajÃ³ Ã© ajuda diante da pandemia e eu me sinto muito feliz em ter o apoio do Governo Federal e ver a uniÃ£o de todosâ\\200\\235, conclui.                                                                                                                       \n",
       "4 Nesta fase do projeto, cerca de 180 mil pessoas foram alcanÃ§adas. As doaÃ§Ãµes sÃ£o fruto do apoio de empresÃ¡rios e outros membros da sociedade civil e do terceiro setor, a maioria do estado de SÃ£o Paulo, com destaque para a Virada Feminina. O movimento visa a contribuir com os desafios enfrentados pelas pessoas em Ã¡reas como saÃºde, inclusÃ£o social e enfrentamento Ã  violÃªncia.         "
      ]
     },
     "metadata": {},
     "output_type": "display_data"
    }
   ],
   "source": [
    "datasetpath <- 'C:\\\\Bootcamp\\\\Datasets\\\\TXT'\n",
    "file3 <- paste(datasetpath,\"\\\\noticia.txt\",sep=\"\")\n",
    "data3 <- read.delim(file3,encoding='utf-8')\n",
    "data3"
   ]
  },
  {
   "cell_type": "code",
   "execution_count": 16,
   "metadata": {},
   "outputs": [
    {
     "ename": "ERROR",
     "evalue": "Error in file.choose(): escolha de arquivo cancelada\n",
     "output_type": "error",
     "traceback": [
      "Error in file.choose(): escolha de arquivo cancelada\nTraceback:\n",
      "1. read.delim(file.choose(), encoding = \"utf-8\")",
      "2. read.table(file = file, header = header, sep = sep, quote = quote, \n .     dec = dec, fill = fill, comment.char = comment.char, ...)",
      "3. file.choose()"
     ]
    }
   ],
   "source": [
    "data4 <- read.delim(file.choose(),encoding='utf-8')\n",
    "data4"
   ]
  },
  {
   "cell_type": "code",
   "execution_count": 17,
   "metadata": {},
   "outputs": [
    {
     "name": "stdout",
     "output_type": "stream",
     "text": [
      "package 'readxl' successfully unpacked and MD5 sums checked\n",
      "\n",
      "The downloaded binary packages are in\n",
      "\tC:\\Users\\Kálvin Antunes\\AppData\\Local\\Temp\\RtmpMBKp55\\downloaded_packages\n"
     ]
    }
   ],
   "source": [
    "install.packages(\"readxl\")"
   ]
  },
  {
   "cell_type": "code",
   "execution_count": 18,
   "metadata": {},
   "outputs": [
    {
     "name": "stderr",
     "output_type": "stream",
     "text": [
      "Warning message:\n",
      "\"package 'readxl' was built under R version 3.6.3\""
     ]
    }
   ],
   "source": [
    "library(readxl)"
   ]
  },
  {
   "cell_type": "code",
   "execution_count": 35,
   "metadata": {},
   "outputs": [
    {
     "data": {
      "text/html": [
       "<table>\n",
       "<thead><tr><th scope=col>CodEstadoIBGE</th><th scope=col>nomeestado</th><th scope=col>siglaestado</th><th scope=col>regiao</th></tr></thead>\n",
       "<tbody>\n",
       "\t<tr><td>11                 </td><td>Rondónia           </td><td>RO                 </td><td>Norte              </td></tr>\n",
       "\t<tr><td>12                 </td><td>Acre               </td><td>AC                 </td><td>Norte              </td></tr>\n",
       "\t<tr><td>13                 </td><td>Amazonas           </td><td>AM                 </td><td>Norte              </td></tr>\n",
       "\t<tr><td>14                 </td><td>Roraima            </td><td>R                  </td><td>Norte              </td></tr>\n",
       "\t<tr><td>15                 </td><td>Pará               </td><td>PA                 </td><td>Norte              </td></tr>\n",
       "\t<tr><td>16                 </td><td>Amapá              </td><td>AP                 </td><td>Norte              </td></tr>\n",
       "\t<tr><td>17                 </td><td>Tocantins          </td><td>TO                 </td><td>Norte              </td></tr>\n",
       "\t<tr><td>21                 </td><td>Maranhão           </td><td>MA                 </td><td>Nordeste           </td></tr>\n",
       "\t<tr><td>22                 </td><td>Piauí              </td><td>PI                 </td><td>Nordeste           </td></tr>\n",
       "\t<tr><td>23                 </td><td>Ceará              </td><td>CE                 </td><td>Nordeste           </td></tr>\n",
       "\t<tr><td>24                 </td><td>Rio Grande do Norte</td><td>RN                 </td><td>Nordeste           </td></tr>\n",
       "\t<tr><td>25                 </td><td>Paraíba            </td><td>PB                 </td><td>Nordeste           </td></tr>\n",
       "\t<tr><td>26                 </td><td>Pernambuco         </td><td>PE                 </td><td>Nordeste           </td></tr>\n",
       "\t<tr><td>27                 </td><td>Alagoas            </td><td>AL                 </td><td>Nordeste           </td></tr>\n",
       "\t<tr><td>28                 </td><td>Sergipe            </td><td>SE                 </td><td>Nordeste           </td></tr>\n",
       "\t<tr><td>29                 </td><td>Bahia              </td><td>BA                 </td><td>Nordeste           </td></tr>\n",
       "\t<tr><td>31                 </td><td>Minas Gerais       </td><td>MG                 </td><td>Sudeste            </td></tr>\n",
       "\t<tr><td>32                 </td><td>Espírito Santo     </td><td>ES                 </td><td>Sudeste            </td></tr>\n",
       "\t<tr><td>33                 </td><td>Rio de Janeiro     </td><td>RJ                 </td><td>Sudeste            </td></tr>\n",
       "\t<tr><td>35                 </td><td>São Paulo          </td><td>SP                 </td><td>Sudeste            </td></tr>\n",
       "\t<tr><td>41                 </td><td>Paraná             </td><td>PR                 </td><td>Sul                </td></tr>\n",
       "\t<tr><td>42                 </td><td>Santa Catarina     </td><td>SC                 </td><td>Sul                </td></tr>\n",
       "\t<tr><td>43                 </td><td>Rio Grande do Sul  </td><td>RS                 </td><td>Sul                </td></tr>\n",
       "\t<tr><td>50                 </td><td>Mato Grosso do Sul </td><td>MS                 </td><td>Centro-Oeste       </td></tr>\n",
       "\t<tr><td>51                 </td><td>Mato Grosso        </td><td>MT                 </td><td>Centro-Oeste       </td></tr>\n",
       "\t<tr><td>52                 </td><td>Goiás              </td><td>GO                 </td><td>Centro-Oeste       </td></tr>\n",
       "\t<tr><td>53                 </td><td>Distrito Federal   </td><td>DF                 </td><td>Centro-Oeste       </td></tr>\n",
       "</tbody>\n",
       "</table>\n"
      ],
      "text/latex": [
       "\\begin{tabular}{r|llll}\n",
       " CodEstadoIBGE & nomeestado & siglaestado & regiao\\\\\n",
       "\\hline\n",
       "\t 11                  & Rondónia            & RO                  & Norte              \\\\\n",
       "\t 12                  & Acre                & AC                  & Norte              \\\\\n",
       "\t 13                  & Amazonas            & AM                  & Norte              \\\\\n",
       "\t 14                  & Roraima             & R                   & Norte              \\\\\n",
       "\t 15                  & Pará                & PA                  & Norte              \\\\\n",
       "\t 16                  & Amapá               & AP                  & Norte              \\\\\n",
       "\t 17                  & Tocantins           & TO                  & Norte              \\\\\n",
       "\t 21                  & Maranhão            & MA                  & Nordeste           \\\\\n",
       "\t 22                  & Piauí               & PI                  & Nordeste           \\\\\n",
       "\t 23                  & Ceará               & CE                  & Nordeste           \\\\\n",
       "\t 24                  & Rio Grande do Norte & RN                  & Nordeste           \\\\\n",
       "\t 25                  & Paraíba             & PB                  & Nordeste           \\\\\n",
       "\t 26                  & Pernambuco          & PE                  & Nordeste           \\\\\n",
       "\t 27                  & Alagoas             & AL                  & Nordeste           \\\\\n",
       "\t 28                  & Sergipe             & SE                  & Nordeste           \\\\\n",
       "\t 29                  & Bahia               & BA                  & Nordeste           \\\\\n",
       "\t 31                  & Minas Gerais        & MG                  & Sudeste            \\\\\n",
       "\t 32                  & Espírito Santo      & ES                  & Sudeste            \\\\\n",
       "\t 33                  & Rio de Janeiro      & RJ                  & Sudeste            \\\\\n",
       "\t 35                  & São Paulo           & SP                  & Sudeste            \\\\\n",
       "\t 41                  & Paraná              & PR                  & Sul                \\\\\n",
       "\t 42                  & Santa Catarina      & SC                  & Sul                \\\\\n",
       "\t 43                  & Rio Grande do Sul   & RS                  & Sul                \\\\\n",
       "\t 50                  & Mato Grosso do Sul  & MS                  & Centro-Oeste       \\\\\n",
       "\t 51                  & Mato Grosso         & MT                  & Centro-Oeste       \\\\\n",
       "\t 52                  & Goiás               & GO                  & Centro-Oeste       \\\\\n",
       "\t 53                  & Distrito Federal    & DF                  & Centro-Oeste       \\\\\n",
       "\\end{tabular}\n"
      ],
      "text/markdown": [
       "\n",
       "| CodEstadoIBGE | nomeestado | siglaestado | regiao |\n",
       "|---|---|---|---|\n",
       "| 11                  | Rondónia            | RO                  | Norte               |\n",
       "| 12                  | Acre                | AC                  | Norte               |\n",
       "| 13                  | Amazonas            | AM                  | Norte               |\n",
       "| 14                  | Roraima             | R                   | Norte               |\n",
       "| 15                  | Pará                | PA                  | Norte               |\n",
       "| 16                  | Amapá               | AP                  | Norte               |\n",
       "| 17                  | Tocantins           | TO                  | Norte               |\n",
       "| 21                  | Maranhão            | MA                  | Nordeste            |\n",
       "| 22                  | Piauí               | PI                  | Nordeste            |\n",
       "| 23                  | Ceará               | CE                  | Nordeste            |\n",
       "| 24                  | Rio Grande do Norte | RN                  | Nordeste            |\n",
       "| 25                  | Paraíba             | PB                  | Nordeste            |\n",
       "| 26                  | Pernambuco          | PE                  | Nordeste            |\n",
       "| 27                  | Alagoas             | AL                  | Nordeste            |\n",
       "| 28                  | Sergipe             | SE                  | Nordeste            |\n",
       "| 29                  | Bahia               | BA                  | Nordeste            |\n",
       "| 31                  | Minas Gerais        | MG                  | Sudeste             |\n",
       "| 32                  | Espírito Santo      | ES                  | Sudeste             |\n",
       "| 33                  | Rio de Janeiro      | RJ                  | Sudeste             |\n",
       "| 35                  | São Paulo           | SP                  | Sudeste             |\n",
       "| 41                  | Paraná              | PR                  | Sul                 |\n",
       "| 42                  | Santa Catarina      | SC                  | Sul                 |\n",
       "| 43                  | Rio Grande do Sul   | RS                  | Sul                 |\n",
       "| 50                  | Mato Grosso do Sul  | MS                  | Centro-Oeste        |\n",
       "| 51                  | Mato Grosso         | MT                  | Centro-Oeste        |\n",
       "| 52                  | Goiás               | GO                  | Centro-Oeste        |\n",
       "| 53                  | Distrito Federal    | DF                  | Centro-Oeste        |\n",
       "\n"
      ],
      "text/plain": [
       "   CodEstadoIBGE nomeestado          siglaestado regiao      \n",
       "1  11            Rondónia            RO          Norte       \n",
       "2  12            Acre                AC          Norte       \n",
       "3  13            Amazonas            AM          Norte       \n",
       "4  14            Roraima             R           Norte       \n",
       "5  15            Pará                PA          Norte       \n",
       "6  16            Amapá               AP          Norte       \n",
       "7  17            Tocantins           TO          Norte       \n",
       "8  21            Maranhão            MA          Nordeste    \n",
       "9  22            Piauí               PI          Nordeste    \n",
       "10 23            Ceará               CE          Nordeste    \n",
       "11 24            Rio Grande do Norte RN          Nordeste    \n",
       "12 25            Paraíba             PB          Nordeste    \n",
       "13 26            Pernambuco          PE          Nordeste    \n",
       "14 27            Alagoas             AL          Nordeste    \n",
       "15 28            Sergipe             SE          Nordeste    \n",
       "16 29            Bahia               BA          Nordeste    \n",
       "17 31            Minas Gerais        MG          Sudeste     \n",
       "18 32            Espírito Santo      ES          Sudeste     \n",
       "19 33            Rio de Janeiro      RJ          Sudeste     \n",
       "20 35            São Paulo           SP          Sudeste     \n",
       "21 41            Paraná              PR          Sul         \n",
       "22 42            Santa Catarina      SC          Sul         \n",
       "23 43            Rio Grande do Sul   RS          Sul         \n",
       "24 50            Mato Grosso do Sul  MS          Centro-Oeste\n",
       "25 51            Mato Grosso         MT          Centro-Oeste\n",
       "26 52            Goiás               GO          Centro-Oeste\n",
       "27 53            Distrito Federal    DF          Centro-Oeste"
      ]
     },
     "metadata": {},
     "output_type": "display_data"
    }
   ],
   "source": [
    "data5 <- read_excel(file.choose())\n",
    "data5"
   ]
  },
  {
   "cell_type": "code",
   "execution_count": 19,
   "metadata": {},
   "outputs": [],
   "source": [
    "# Importar (ler) os dados do arquivo CSV de valores separados por virgulas\n",
    "iris <- read.csv('C:/Bootcamp/Datasets/CSV/Iris.csv')"
   ]
  },
  {
   "cell_type": "code",
   "execution_count": 20,
   "metadata": {},
   "outputs": [
    {
     "data": {
      "text/html": [
       "<table>\n",
       "<thead><tr><th scope=col>sepal.length</th><th scope=col>sepal.width</th><th scope=col>petal.length</th><th scope=col>petal.width</th><th scope=col>variety</th></tr></thead>\n",
       "<tbody>\n",
       "\t<tr><td>5.1   </td><td>3.5   </td><td>1.4   </td><td>0.2   </td><td>Setosa</td></tr>\n",
       "\t<tr><td>4.9   </td><td>3.0   </td><td>1.4   </td><td>0.2   </td><td>Setosa</td></tr>\n",
       "\t<tr><td>4.7   </td><td>3.2   </td><td>1.3   </td><td>0.2   </td><td>Setosa</td></tr>\n",
       "\t<tr><td>4.6   </td><td>3.1   </td><td>1.5   </td><td>0.2   </td><td>Setosa</td></tr>\n",
       "\t<tr><td>5.0   </td><td>3.6   </td><td>1.4   </td><td>0.2   </td><td>Setosa</td></tr>\n",
       "\t<tr><td>5.4   </td><td>3.9   </td><td>1.7   </td><td>0.4   </td><td>Setosa</td></tr>\n",
       "</tbody>\n",
       "</table>\n"
      ],
      "text/latex": [
       "\\begin{tabular}{r|lllll}\n",
       " sepal.length & sepal.width & petal.length & petal.width & variety\\\\\n",
       "\\hline\n",
       "\t 5.1    & 3.5    & 1.4    & 0.2    & Setosa\\\\\n",
       "\t 4.9    & 3.0    & 1.4    & 0.2    & Setosa\\\\\n",
       "\t 4.7    & 3.2    & 1.3    & 0.2    & Setosa\\\\\n",
       "\t 4.6    & 3.1    & 1.5    & 0.2    & Setosa\\\\\n",
       "\t 5.0    & 3.6    & 1.4    & 0.2    & Setosa\\\\\n",
       "\t 5.4    & 3.9    & 1.7    & 0.4    & Setosa\\\\\n",
       "\\end{tabular}\n"
      ],
      "text/markdown": [
       "\n",
       "| sepal.length | sepal.width | petal.length | petal.width | variety |\n",
       "|---|---|---|---|---|\n",
       "| 5.1    | 3.5    | 1.4    | 0.2    | Setosa |\n",
       "| 4.9    | 3.0    | 1.4    | 0.2    | Setosa |\n",
       "| 4.7    | 3.2    | 1.3    | 0.2    | Setosa |\n",
       "| 4.6    | 3.1    | 1.5    | 0.2    | Setosa |\n",
       "| 5.0    | 3.6    | 1.4    | 0.2    | Setosa |\n",
       "| 5.4    | 3.9    | 1.7    | 0.4    | Setosa |\n",
       "\n"
      ],
      "text/plain": [
       "  sepal.length sepal.width petal.length petal.width variety\n",
       "1 5.1          3.5         1.4          0.2         Setosa \n",
       "2 4.9          3.0         1.4          0.2         Setosa \n",
       "3 4.7          3.2         1.3          0.2         Setosa \n",
       "4 4.6          3.1         1.5          0.2         Setosa \n",
       "5 5.0          3.6         1.4          0.2         Setosa \n",
       "6 5.4          3.9         1.7          0.4         Setosa "
      ]
     },
     "metadata": {},
     "output_type": "display_data"
    }
   ],
   "source": [
    "# Imprimir as 6 primeiras linhas do vetor iris \n",
    "head (iris);"
   ]
  },
  {
   "cell_type": "code",
   "execution_count": 21,
   "metadata": {},
   "outputs": [
    {
     "data": {
      "text/html": [
       "<table>\n",
       "<thead><tr><th scope=col>sepal.length</th><th scope=col>sepal.width</th><th scope=col>petal.length</th><th scope=col>petal.width</th><th scope=col>variety</th></tr></thead>\n",
       "<tbody>\n",
       "\t<tr><td>5.1   </td><td>3.5   </td><td>1.4   </td><td>0.2   </td><td>Setosa</td></tr>\n",
       "\t<tr><td>4.9   </td><td>3.0   </td><td>1.4   </td><td>0.2   </td><td>Setosa</td></tr>\n",
       "\t<tr><td>4.7   </td><td>3.2   </td><td>1.3   </td><td>0.2   </td><td>Setosa</td></tr>\n",
       "</tbody>\n",
       "</table>\n"
      ],
      "text/latex": [
       "\\begin{tabular}{r|lllll}\n",
       " sepal.length & sepal.width & petal.length & petal.width & variety\\\\\n",
       "\\hline\n",
       "\t 5.1    & 3.5    & 1.4    & 0.2    & Setosa\\\\\n",
       "\t 4.9    & 3.0    & 1.4    & 0.2    & Setosa\\\\\n",
       "\t 4.7    & 3.2    & 1.3    & 0.2    & Setosa\\\\\n",
       "\\end{tabular}\n"
      ],
      "text/markdown": [
       "\n",
       "| sepal.length | sepal.width | petal.length | petal.width | variety |\n",
       "|---|---|---|---|---|\n",
       "| 5.1    | 3.5    | 1.4    | 0.2    | Setosa |\n",
       "| 4.9    | 3.0    | 1.4    | 0.2    | Setosa |\n",
       "| 4.7    | 3.2    | 1.3    | 0.2    | Setosa |\n",
       "\n"
      ],
      "text/plain": [
       "  sepal.length sepal.width petal.length petal.width variety\n",
       "1 5.1          3.5         1.4          0.2         Setosa \n",
       "2 4.9          3.0         1.4          0.2         Setosa \n",
       "3 4.7          3.2         1.3          0.2         Setosa "
      ]
     },
     "metadata": {},
     "output_type": "display_data"
    }
   ],
   "source": [
    "# Imprimir as 3 primeiras linhas do vetor iris \n",
    "head (iris, 3);"
   ]
  },
  {
   "cell_type": "code",
   "execution_count": 22,
   "metadata": {},
   "outputs": [
    {
     "name": "stdout",
     "output_type": "stream",
     "text": [
      "    sepal.length sepal.width petal.length petal.width    variety\n",
      "1            5.1         3.5          1.4         0.2     Setosa\n",
      "2            4.9         3.0          1.4         0.2     Setosa\n",
      "3            4.7         3.2          1.3         0.2     Setosa\n",
      "4            4.6         3.1          1.5         0.2     Setosa\n",
      "5            5.0         3.6          1.4         0.2     Setosa\n",
      "6            5.4         3.9          1.7         0.4     Setosa\n",
      "7            4.6         3.4          1.4         0.3     Setosa\n",
      "8            5.0         3.4          1.5         0.2     Setosa\n",
      "9            4.4         2.9          1.4         0.2     Setosa\n",
      "10           4.9         3.1          1.5         0.1     Setosa\n",
      "11           5.4         3.7          1.5         0.2     Setosa\n",
      "12           4.8         3.4          1.6         0.2     Setosa\n",
      "13           4.8         3.0          1.4         0.1     Setosa\n",
      "14           4.3         3.0          1.1         0.1     Setosa\n",
      "15           5.8         4.0          1.2         0.2     Setosa\n",
      "16           5.7         4.4          1.5         0.4     Setosa\n",
      "17           5.4         3.9          1.3         0.4     Setosa\n",
      "18           5.1         3.5          1.4         0.3     Setosa\n",
      "19           5.7         3.8          1.7         0.3     Setosa\n",
      "20           5.1         3.8          1.5         0.3     Setosa\n",
      "21           5.4         3.4          1.7         0.2     Setosa\n",
      "22           5.1         3.7          1.5         0.4     Setosa\n",
      "23           4.6         3.6          1.0         0.2     Setosa\n",
      "24           5.1         3.3          1.7         0.5     Setosa\n",
      "25           4.8         3.4          1.9         0.2     Setosa\n",
      "26           5.0         3.0          1.6         0.2     Setosa\n",
      "27           5.0         3.4          1.6         0.4     Setosa\n",
      "28           5.2         3.5          1.5         0.2     Setosa\n",
      "29           5.2         3.4          1.4         0.2     Setosa\n",
      "30           4.7         3.2          1.6         0.2     Setosa\n",
      "31           4.8         3.1          1.6         0.2     Setosa\n",
      "32           5.4         3.4          1.5         0.4     Setosa\n",
      "33           5.2         4.1          1.5         0.1     Setosa\n",
      "34           5.5         4.2          1.4         0.2     Setosa\n",
      "35           4.9         3.1          1.5         0.2     Setosa\n",
      "36           5.0         3.2          1.2         0.2     Setosa\n",
      "37           5.5         3.5          1.3         0.2     Setosa\n",
      "38           4.9         3.6          1.4         0.1     Setosa\n",
      "39           4.4         3.0          1.3         0.2     Setosa\n",
      "40           5.1         3.4          1.5         0.2     Setosa\n",
      "41           5.0         3.5          1.3         0.3     Setosa\n",
      "42           4.5         2.3          1.3         0.3     Setosa\n",
      "43           4.4         3.2          1.3         0.2     Setosa\n",
      "44           5.0         3.5          1.6         0.6     Setosa\n",
      "45           5.1         3.8          1.9         0.4     Setosa\n",
      "46           4.8         3.0          1.4         0.3     Setosa\n",
      "47           5.1         3.8          1.6         0.2     Setosa\n",
      "48           4.6         3.2          1.4         0.2     Setosa\n",
      "49           5.3         3.7          1.5         0.2     Setosa\n",
      "50           5.0         3.3          1.4         0.2     Setosa\n",
      "51           7.0         3.2          4.7         1.4 Versicolor\n",
      "52           6.4         3.2          4.5         1.5 Versicolor\n",
      "53           6.9         3.1          4.9         1.5 Versicolor\n",
      "54           5.5         2.3          4.0         1.3 Versicolor\n",
      "55           6.5         2.8          4.6         1.5 Versicolor\n",
      "56           5.7         2.8          4.5         1.3 Versicolor\n",
      "57           6.3         3.3          4.7         1.6 Versicolor\n",
      "58           4.9         2.4          3.3         1.0 Versicolor\n",
      "59           6.6         2.9          4.6         1.3 Versicolor\n",
      "60           5.2         2.7          3.9         1.4 Versicolor\n",
      "61           5.0         2.0          3.5         1.0 Versicolor\n",
      "62           5.9         3.0          4.2         1.5 Versicolor\n",
      "63           6.0         2.2          4.0         1.0 Versicolor\n",
      "64           6.1         2.9          4.7         1.4 Versicolor\n",
      "65           5.6         2.9          3.6         1.3 Versicolor\n",
      "66           6.7         3.1          4.4         1.4 Versicolor\n",
      "67           5.6         3.0          4.5         1.5 Versicolor\n",
      "68           5.8         2.7          4.1         1.0 Versicolor\n",
      "69           6.2         2.2          4.5         1.5 Versicolor\n",
      "70           5.6         2.5          3.9         1.1 Versicolor\n",
      "71           5.9         3.2          4.8         1.8 Versicolor\n",
      "72           6.1         2.8          4.0         1.3 Versicolor\n",
      "73           6.3         2.5          4.9         1.5 Versicolor\n",
      "74           6.1         2.8          4.7         1.2 Versicolor\n",
      "75           6.4         2.9          4.3         1.3 Versicolor\n",
      "76           6.6         3.0          4.4         1.4 Versicolor\n",
      "77           6.8         2.8          4.8         1.4 Versicolor\n",
      "78           6.7         3.0          5.0         1.7 Versicolor\n",
      "79           6.0         2.9          4.5         1.5 Versicolor\n",
      "80           5.7         2.6          3.5         1.0 Versicolor\n",
      "81           5.5         2.4          3.8         1.1 Versicolor\n",
      "82           5.5         2.4          3.7         1.0 Versicolor\n",
      "83           5.8         2.7          3.9         1.2 Versicolor\n",
      "84           6.0         2.7          5.1         1.6 Versicolor\n",
      "85           5.4         3.0          4.5         1.5 Versicolor\n",
      "86           6.0         3.4          4.5         1.6 Versicolor\n",
      "87           6.7         3.1          4.7         1.5 Versicolor\n",
      "88           6.3         2.3          4.4         1.3 Versicolor\n",
      "89           5.6         3.0          4.1         1.3 Versicolor\n",
      "90           5.5         2.5          4.0         1.3 Versicolor\n",
      "91           5.5         2.6          4.4         1.2 Versicolor\n",
      "92           6.1         3.0          4.6         1.4 Versicolor\n",
      "93           5.8         2.6          4.0         1.2 Versicolor\n",
      "94           5.0         2.3          3.3         1.0 Versicolor\n",
      "95           5.6         2.7          4.2         1.3 Versicolor\n",
      "96           5.7         3.0          4.2         1.2 Versicolor\n",
      "97           5.7         2.9          4.2         1.3 Versicolor\n",
      "98           6.2         2.9          4.3         1.3 Versicolor\n",
      "99           5.1         2.5          3.0         1.1 Versicolor\n",
      "100          5.7         2.8          4.1         1.3 Versicolor\n",
      "101          6.3         3.3          6.0         2.5  Virginica\n",
      "102          5.8         2.7          5.1         1.9  Virginica\n",
      "103          7.1         3.0          5.9         2.1  Virginica\n",
      "104          6.3         2.9          5.6         1.8  Virginica\n",
      "105          6.5         3.0          5.8         2.2  Virginica\n",
      "106          7.6         3.0          6.6         2.1  Virginica\n",
      "107          4.9         2.5          4.5         1.7  Virginica\n",
      "108          7.3         2.9          6.3         1.8  Virginica\n",
      "109          6.7         2.5          5.8         1.8  Virginica\n",
      "110          7.2         3.6          6.1         2.5  Virginica\n",
      "111          6.5         3.2          5.1         2.0  Virginica\n",
      "112          6.4         2.7          5.3         1.9  Virginica\n",
      "113          6.8         3.0          5.5         2.1  Virginica\n",
      "114          5.7         2.5          5.0         2.0  Virginica\n",
      "115          5.8         2.8          5.1         2.4  Virginica\n",
      "116          6.4         3.2          5.3         2.3  Virginica\n",
      "117          6.5         3.0          5.5         1.8  Virginica\n",
      "118          7.7         3.8          6.7         2.2  Virginica\n",
      "119          7.7         2.6          6.9         2.3  Virginica\n",
      "120          6.0         2.2          5.0         1.5  Virginica\n",
      "121          6.9         3.2          5.7         2.3  Virginica\n",
      "122          5.6         2.8          4.9         2.0  Virginica\n",
      "123          7.7         2.8          6.7         2.0  Virginica\n",
      "124          6.3         2.7          4.9         1.8  Virginica\n",
      "125          6.7         3.3          5.7         2.1  Virginica\n",
      "126          7.2         3.2          6.0         1.8  Virginica\n",
      "127          6.2         2.8          4.8         1.8  Virginica\n",
      "128          6.1         3.0          4.9         1.8  Virginica\n",
      "129          6.4         2.8          5.6         2.1  Virginica\n",
      "130          7.2         3.0          5.8         1.6  Virginica\n",
      "131          7.4         2.8          6.1         1.9  Virginica\n",
      "132          7.9         3.8          6.4         2.0  Virginica\n",
      "133          6.4         2.8          5.6         2.2  Virginica\n",
      "134          6.3         2.8          5.1         1.5  Virginica\n",
      "135          6.1         2.6          5.6         1.4  Virginica\n",
      "136          7.7         3.0          6.1         2.3  Virginica\n",
      "137          6.3         3.4          5.6         2.4  Virginica\n",
      "138          6.4         3.1          5.5         1.8  Virginica\n",
      "139          6.0         3.0          4.8         1.8  Virginica\n",
      "140          6.9         3.1          5.4         2.1  Virginica\n",
      "141          6.7         3.1          5.6         2.4  Virginica\n",
      "142          6.9         3.1          5.1         2.3  Virginica\n",
      "143          5.8         2.7          5.1         1.9  Virginica\n",
      "144          6.8         3.2          5.9         2.3  Virginica\n",
      "145          6.7         3.3          5.7         2.5  Virginica\n",
      "146          6.7         3.0          5.2         2.3  Virginica\n",
      "147          6.3         2.5          5.0         1.9  Virginica\n",
      "148          6.5         3.0          5.2         2.0  Virginica\n",
      "149          6.2         3.4          5.4         2.3  Virginica\n",
      "150          5.9         3.0          5.1         1.8  Virginica\n"
     ]
    }
   ],
   "source": [
    "# Imprimir todas as linhas do vetor iris\n",
    "print(iris);"
   ]
  },
  {
   "cell_type": "code",
   "execution_count": 24,
   "metadata": {},
   "outputs": [
    {
     "data": {
      "text/plain": [
       "  sepal.length    sepal.width     petal.length    petal.width   \n",
       " Min.   :4.300   Min.   :2.000   Min.   :1.000   Min.   :0.100  \n",
       " 1st Qu.:5.100   1st Qu.:2.800   1st Qu.:1.600   1st Qu.:0.300  \n",
       " Median :5.800   Median :3.000   Median :4.350   Median :1.300  \n",
       " Mean   :5.843   Mean   :3.057   Mean   :3.758   Mean   :1.199  \n",
       " 3rd Qu.:6.400   3rd Qu.:3.300   3rd Qu.:5.100   3rd Qu.:1.800  \n",
       " Max.   :7.900   Max.   :4.400   Max.   :6.900   Max.   :2.500  \n",
       "       variety  \n",
       " Setosa    :50  \n",
       " Versicolor:50  \n",
       " Virginica :50  \n",
       "                \n",
       "                \n",
       "                "
      ]
     },
     "metadata": {},
     "output_type": "display_data"
    }
   ],
   "source": [
    "#Resumo das estatísticas descritivas: a observação mínima, 1a quartil (25%), \n",
    "# mediana (50%), media aritmética, 3a quartil (75%) e a máxima são \n",
    "#exibidos para cada amostra.\n",
    "summary(iris);"
   ]
  },
  {
   "cell_type": "code",
   "execution_count": 25,
   "metadata": {},
   "outputs": [
    {
     "data": {
      "image/png": "[encoded data removed]",
      "text/plain": [
       "plot without title"
      ]
     },
     "metadata": {},
     "output_type": "display_data"
    }
   ],
   "source": [
    "# Boxplot mostrando a mediana (linha horizontal, quartis 25 % e 75 % (caixa verde - col=3) e observações máxima e\n",
    "#mínima (linhas verticais) – ylab e xlab são as etiquetas dos eixos y e x, respectivamente.\n",
    "boxplot(iris, col=3, ylab=\"Valores(cm)\", xlab=\"Característica\")"
   ]
  },
  {
   "cell_type": "code",
   "execution_count": 26,
   "metadata": {},
   "outputs": [
    {
     "data": {
      "image/png": "[encoded data removed]",
      "text/plain": [
       "plot without title"
      ]
     },
     "metadata": {},
     "output_type": "display_data"
    }
   ],
   "source": [
    "#Usa range=0 para não mostrar os outliers (observações extremas representadas como pontos)\n",
    "boxplot(iris, range=0, col=2, ylab=\"Valores(cm)\", xlab=\"Característica\")"
   ]
  },
  {
   "cell_type": "code",
   "execution_count": null,
   "metadata": {},
   "outputs": [],
   "source": []
  }
 ],
 "metadata": {
  "kernelspec": {
   "display_name": "R",
   "language": "R",
   "name": "ir"
  },
  "language_info": {
   "codemirror_mode": "r",
   "file_extension": ".r",
   "mimetype": "text/x-r-source",
   "name": "R",
   "pygments_lexer": "r",
   "version": "3.6.1"
  }
 },
 "nbformat": 4,
 "nbformat_minor": 4
}

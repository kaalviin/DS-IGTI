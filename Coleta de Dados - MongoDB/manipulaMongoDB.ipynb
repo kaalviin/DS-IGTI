{
 "cells": [
  {
   "cell_type": "markdown",
   "metadata": {},
   "source": [
    "# Manipulação de Dados no MongoDB com R"
   ]
  },
  {
   "cell_type": "markdown",
   "metadata": {},
   "source": [
    "Para detalhes sobre o pacote mongolite acesse:\n",
    "* https://cran.r-project.org/web/packages/mongolite/index.html"
   ]
  },
  {
   "cell_type": "code",
   "execution_count": 1,
   "metadata": {},
   "outputs": [
    {
     "name": "stdout",
     "output_type": "stream",
     "text": [
      "package 'mongolite' successfully unpacked and MD5 sums checked\n",
      "\n",
      "The downloaded binary packages are in\n",
      "\tC:\\Users\\Kálvin Antunes\\AppData\\Local\\Temp\\RtmpqYVxlv\\downloaded_packages\n"
     ]
    }
   ],
   "source": [
    "#install.packages('mongolite')"
   ]
  },
  {
   "cell_type": "code",
   "execution_count": 4,
   "metadata": {},
   "outputs": [],
   "source": [
    "#importação de biblioteca\n",
    "require(mongolite)"
   ]
  },
  {
   "cell_type": "markdown",
   "metadata": {},
   "source": [
    "**OBSERVAÇÃO:** A mensagem de erro abaixo indica que você não tem o pacote RMongo instalado\n",
    "\n",
    "*Loading required package: mongolite* - \n",
    "*Warning message in library(package, lib.loc = lib.loc, character.only = TRUE, logical.return = TRUE, :\n",
    "\"there is no package called 'mongolite'\"*\n",
    "\n",
    "**Para instalar execute o comando abaixo:**\n",
    "\n",
    "* install.packages('mongolite')"
   ]
  },
  {
   "cell_type": "markdown",
   "metadata": {},
   "source": [
    "### Ler a coleção Iris no arquivo CSV e inserir no MongoDB"
   ]
  },
  {
   "cell_type": "code",
   "execution_count": 7,
   "metadata": {},
   "outputs": [],
   "source": [
    "iris <- read.csv(\"C:/Bootcamp/Datasets/CSV/Iris.csv\");"
   ]
  },
  {
   "cell_type": "code",
   "execution_count": 8,
   "metadata": {},
   "outputs": [],
   "source": [
    "#Conecta ao SGBD MongoDB, a uma coleção específica\n",
    "\n",
    "connection <- mongo(collection = \"iris\", db = \"igti\", url = \"mongodb://localhost\")"
   ]
  },
  {
   "cell_type": "code",
   "execution_count": 9,
   "metadata": {},
   "outputs": [
    {
     "data": {
      "text/plain": [
       "List of 5\n",
       " $ nInserted  : num 150\n",
       " $ nMatched   : num 0\n",
       " $ nRemoved   : num 0\n",
       " $ nUpserted  : num 0\n",
       " $ writeErrors: list()"
      ]
     },
     "metadata": {},
     "output_type": "display_data"
    }
   ],
   "source": [
    "connection$insert(iris)"
   ]
  },
  {
   "cell_type": "code",
   "execution_count": 10,
   "metadata": {},
   "outputs": [
    {
     "data": {
      "text/html": [
       "<table>\n",
       "<thead><tr><th scope=col>sepal_length</th><th scope=col>sepal_width</th><th scope=col>petal_length</th><th scope=col>petal_width</th><th scope=col>variety</th></tr></thead>\n",
       "<tbody>\n",
       "\t<tr><td>5.1   </td><td>3.5   </td><td>1.4   </td><td>0.2   </td><td>Setosa</td></tr>\n",
       "\t<tr><td>4.9   </td><td>3.0   </td><td>1.4   </td><td>0.2   </td><td>Setosa</td></tr>\n",
       "\t<tr><td>4.7   </td><td>3.2   </td><td>1.3   </td><td>0.2   </td><td>Setosa</td></tr>\n",
       "\t<tr><td>4.6   </td><td>3.1   </td><td>1.5   </td><td>0.2   </td><td>Setosa</td></tr>\n",
       "\t<tr><td>5.0   </td><td>3.6   </td><td>1.4   </td><td>0.2   </td><td>Setosa</td></tr>\n",
       "</tbody>\n",
       "</table>\n"
      ],
      "text/latex": [
       "\\begin{tabular}{r|lllll}\n",
       " sepal\\_length & sepal\\_width & petal\\_length & petal\\_width & variety\\\\\n",
       "\\hline\n",
       "\t 5.1    & 3.5    & 1.4    & 0.2    & Setosa\\\\\n",
       "\t 4.9    & 3.0    & 1.4    & 0.2    & Setosa\\\\\n",
       "\t 4.7    & 3.2    & 1.3    & 0.2    & Setosa\\\\\n",
       "\t 4.6    & 3.1    & 1.5    & 0.2    & Setosa\\\\\n",
       "\t 5.0    & 3.6    & 1.4    & 0.2    & Setosa\\\\\n",
       "\\end{tabular}\n"
      ],
      "text/markdown": [
       "\n",
       "| sepal_length | sepal_width | petal_length | petal_width | variety |\n",
       "|---|---|---|---|---|\n",
       "| 5.1    | 3.5    | 1.4    | 0.2    | Setosa |\n",
       "| 4.9    | 3.0    | 1.4    | 0.2    | Setosa |\n",
       "| 4.7    | 3.2    | 1.3    | 0.2    | Setosa |\n",
       "| 4.6    | 3.1    | 1.5    | 0.2    | Setosa |\n",
       "| 5.0    | 3.6    | 1.4    | 0.2    | Setosa |\n",
       "\n"
      ],
      "text/plain": [
       "  sepal_length sepal_width petal_length petal_width variety\n",
       "1 5.1          3.5         1.4          0.2         Setosa \n",
       "2 4.9          3.0         1.4          0.2         Setosa \n",
       "3 4.7          3.2         1.3          0.2         Setosa \n",
       "4 4.6          3.1         1.5          0.2         Setosa \n",
       "5 5.0          3.6         1.4          0.2         Setosa "
      ]
     },
     "metadata": {},
     "output_type": "display_data"
    }
   ],
   "source": [
    "connection$find(limit = 5)"
   ]
  },
  {
   "cell_type": "code",
   "execution_count": 11,
   "metadata": {},
   "outputs": [
    {
     "data": {
      "text/plain": [
       "List of 6\n",
       " $ nInserted  : int 3\n",
       " $ nMatched   : int 0\n",
       " $ nModified  : int 0\n",
       " $ nRemoved   : int 0\n",
       " $ nUpserted  : int 0\n",
       " $ writeErrors: list()"
      ]
     },
     "metadata": {},
     "output_type": "display_data"
    }
   ],
   "source": [
    "pessoas <- mongo(collection =\"pessoas\", db = \"igti\", url = \"mongodb://localhost\")\n",
    "str <- c('{\"nome\" : \"maria\"}' , '{\"nome\": \"ana\", \"idade\" : 23}', '{\"nome\": \"joão\"}')\n",
    "pessoas$insert(str)"
   ]
  },
  {
   "cell_type": "code",
   "execution_count": 12,
   "metadata": {},
   "outputs": [
    {
     "data": {
      "text/html": [
       "<table>\n",
       "<thead><tr><th scope=col>nome</th><th scope=col>idade</th></tr></thead>\n",
       "<tbody>\n",
       "\t<tr><td>maria</td><td>NA   </td></tr>\n",
       "\t<tr><td>ana  </td><td>23   </td></tr>\n",
       "\t<tr><td>joão </td><td>NA   </td></tr>\n",
       "</tbody>\n",
       "</table>\n"
      ],
      "text/latex": [
       "\\begin{tabular}{r|ll}\n",
       " nome & idade\\\\\n",
       "\\hline\n",
       "\t maria & NA   \\\\\n",
       "\t ana   & 23   \\\\\n",
       "\t joão  & NA   \\\\\n",
       "\\end{tabular}\n"
      ],
      "text/markdown": [
       "\n",
       "| nome | idade |\n",
       "|---|---|\n",
       "| maria | NA    |\n",
       "| ana   | 23    |\n",
       "| joão  | NA    |\n",
       "\n"
      ],
      "text/plain": [
       "  nome  idade\n",
       "1 maria NA   \n",
       "2 ana   23   \n",
       "3 joão  NA   "
      ]
     },
     "metadata": {},
     "output_type": "display_data"
    }
   ],
   "source": [
    "pessoas$find()"
   ]
  },
  {
   "cell_type": "code",
   "execution_count": 13,
   "metadata": {},
   "outputs": [
    {
     "data": {
      "text/html": [
       "3"
      ],
      "text/latex": [
       "3"
      ],
      "text/markdown": [
       "3"
      ],
      "text/plain": [
       "[1] 3"
      ]
     },
     "metadata": {},
     "output_type": "display_data"
    }
   ],
   "source": [
    "pessoas$count()"
   ]
  },
  {
   "cell_type": "code",
   "execution_count": 14,
   "metadata": {},
   "outputs": [
    {
     "data": {
      "text/html": [
       "2"
      ],
      "text/latex": [
       "2"
      ],
      "text/markdown": [
       "2"
      ],
      "text/plain": [
       "[1] 2"
      ]
     },
     "metadata": {},
     "output_type": "display_data"
    }
   ],
   "source": [
    "pessoas$remove('{\"idade\" : 23}')\n",
    "pessoas$count()"
   ]
  },
  {
   "cell_type": "code",
   "execution_count": 17,
   "metadata": {},
   "outputs": [
    {
     "data": {
      "text/html": [
       "<table>\n",
       "<thead><tr><th scope=col>nome</th></tr></thead>\n",
       "<tbody>\n",
       "\t<tr><td>maria</td></tr>\n",
       "\t<tr><td>joão </td></tr>\n",
       "</tbody>\n",
       "</table>\n"
      ],
      "text/latex": [
       "\\begin{tabular}{r|l}\n",
       " nome\\\\\n",
       "\\hline\n",
       "\t maria\\\\\n",
       "\t joão \\\\\n",
       "\\end{tabular}\n"
      ],
      "text/markdown": [
       "\n",
       "| nome |\n",
       "|---|\n",
       "| maria |\n",
       "| joão  |\n",
       "\n"
      ],
      "text/plain": [
       "  nome \n",
       "1 maria\n",
       "2 joão "
      ]
     },
     "metadata": {},
     "output_type": "display_data"
    }
   ],
   "source": [
    "pessoas$find()"
   ]
  },
  {
   "cell_type": "code",
   "execution_count": 18,
   "metadata": {},
   "outputs": [
    {
     "data": {
      "text/plain": [
       "List of 6\n",
       " $ nInserted  : int 3\n",
       " $ nMatched   : int 0\n",
       " $ nModified  : int 0\n",
       " $ nRemoved   : int 0\n",
       " $ nUpserted  : int 0\n",
       " $ writeErrors: list()"
      ]
     },
     "metadata": {},
     "output_type": "display_data"
    }
   ],
   "source": [
    "str <- c('{\"nome\" : \"bill\"}' , '{\"nome\": \"anna\", \"idade\" : 23}', '{\"nome\": \"jose\",\"idade\" : 35}')\n",
    "pessoas$insert(str)"
   ]
  },
  {
   "cell_type": "code",
   "execution_count": 19,
   "metadata": {},
   "outputs": [
    {
     "data": {
      "text/html": [
       "<table>\n",
       "<thead><tr><th scope=col>nome</th><th scope=col>idade</th></tr></thead>\n",
       "<tbody>\n",
       "\t<tr><td>maria</td><td>NA   </td></tr>\n",
       "\t<tr><td>joão </td><td>NA   </td></tr>\n",
       "\t<tr><td>bill </td><td>NA   </td></tr>\n",
       "\t<tr><td>anna </td><td>23   </td></tr>\n",
       "\t<tr><td>jose </td><td>35   </td></tr>\n",
       "</tbody>\n",
       "</table>\n"
      ],
      "text/latex": [
       "\\begin{tabular}{r|ll}\n",
       " nome & idade\\\\\n",
       "\\hline\n",
       "\t maria & NA   \\\\\n",
       "\t joão  & NA   \\\\\n",
       "\t bill  & NA   \\\\\n",
       "\t anna  & 23   \\\\\n",
       "\t jose  & 35   \\\\\n",
       "\\end{tabular}\n"
      ],
      "text/markdown": [
       "\n",
       "| nome | idade |\n",
       "|---|---|\n",
       "| maria | NA    |\n",
       "| joão  | NA    |\n",
       "| bill  | NA    |\n",
       "| anna  | 23    |\n",
       "| jose  | 35    |\n",
       "\n"
      ],
      "text/plain": [
       "  nome  idade\n",
       "1 maria NA   \n",
       "2 joão  NA   \n",
       "3 bill  NA   \n",
       "4 anna  23   \n",
       "5 jose  35   "
      ]
     },
     "metadata": {},
     "output_type": "display_data"
    }
   ],
   "source": [
    "pessoas$find()"
   ]
  },
  {
   "cell_type": "code",
   "execution_count": 20,
   "metadata": {},
   "outputs": [
    {
     "data": {
      "text/plain": [
       "List of 3\n",
       " $ modifiedCount: int 1\n",
       " $ matchedCount : int 1\n",
       " $ upsertedCount: int 0"
      ]
     },
     "metadata": {},
     "output_type": "display_data"
    }
   ],
   "source": [
    "pessoas$update('{\"nome\":\"bill\"}', '{\"$set\":{\"idade\": 21}}')"
   ]
  },
  {
   "cell_type": "code",
   "execution_count": 21,
   "metadata": {},
   "outputs": [
    {
     "data": {
      "text/html": [
       "<table>\n",
       "<thead><tr><th scope=col>nome</th><th scope=col>idade</th></tr></thead>\n",
       "<tbody>\n",
       "\t<tr><td>maria</td><td>NA   </td></tr>\n",
       "\t<tr><td>joão </td><td>NA   </td></tr>\n",
       "\t<tr><td>bill </td><td>21   </td></tr>\n",
       "\t<tr><td>anna </td><td>23   </td></tr>\n",
       "\t<tr><td>jose </td><td>35   </td></tr>\n",
       "</tbody>\n",
       "</table>\n"
      ],
      "text/latex": [
       "\\begin{tabular}{r|ll}\n",
       " nome & idade\\\\\n",
       "\\hline\n",
       "\t maria & NA   \\\\\n",
       "\t joão  & NA   \\\\\n",
       "\t bill  & 21   \\\\\n",
       "\t anna  & 23   \\\\\n",
       "\t jose  & 35   \\\\\n",
       "\\end{tabular}\n"
      ],
      "text/markdown": [
       "\n",
       "| nome | idade |\n",
       "|---|---|\n",
       "| maria | NA    |\n",
       "| joão  | NA    |\n",
       "| bill  | 21    |\n",
       "| anna  | 23    |\n",
       "| jose  | 35    |\n",
       "\n"
      ],
      "text/plain": [
       "  nome  idade\n",
       "1 maria NA   \n",
       "2 joão  NA   \n",
       "3 bill  21   \n",
       "4 anna  23   \n",
       "5 jose  35   "
      ]
     },
     "metadata": {},
     "output_type": "display_data"
    }
   ],
   "source": [
    "pessoas$find()"
   ]
  },
  {
   "cell_type": "code",
   "execution_count": null,
   "metadata": {},
   "outputs": [],
   "source": []
  }
 ],
 "metadata": {
  "kernelspec": {
   "display_name": "R",
   "language": "R",
   "name": "ir"
  },
  "language_info": {
   "codemirror_mode": "r",
   "file_extension": ".r",
   "mimetype": "text/x-r-source",
   "name": "R",
   "pygments_lexer": "r",
   "version": "3.6.1"
  }
 },
 "nbformat": 4,
 "nbformat_minor": 4
}

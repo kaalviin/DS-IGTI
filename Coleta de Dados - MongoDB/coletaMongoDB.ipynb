{
 "cells": [
  {
   "cell_type": "markdown",
   "metadata": {},
   "source": [
    "# Coleta de Dados no MongoDB com Python"
   ]
  },
  {
   "cell_type": "markdown",
   "metadata": {},
   "source": [
    "**OBSERVAÇÃO:**\n",
    "\n",
    "Antes de usar o pymongo pela primeira vez, é necessário instalar o pacote. Para isso, acesse o prompt do Anaconda e execute o comando abaixo:\n",
    "\n",
    "*conda install -c wakari pymongo*"
   ]
  },
  {
   "cell_type": "code",
   "execution_count": 2,
   "metadata": {},
   "outputs": [],
   "source": [
    "#importação de biblioteca\n",
    "\n",
    "import pymongo"
   ]
  },
  {
   "cell_type": "code",
   "execution_count": 3,
   "metadata": {},
   "outputs": [],
   "source": [
    "con = pymongo.MongoClient(\"mongodb://localhost:27017/\")"
   ]
  },
  {
   "cell_type": "code",
   "execution_count": 6,
   "metadata": {},
   "outputs": [
    {
     "data": {
      "text/plain": [
       "['admin', 'config', 'igti', 'local']"
      ]
     },
     "execution_count": 6,
     "metadata": {},
     "output_type": "execute_result"
    }
   ],
   "source": [
    "#listar os bancos de dados\n",
    "con.list_database_names()"
   ]
  },
  {
   "cell_type": "code",
   "execution_count": 11,
   "metadata": {},
   "outputs": [],
   "source": [
    "db = con[\"Vendas\"]"
   ]
  },
  {
   "cell_type": "code",
   "execution_count": 12,
   "metadata": {},
   "outputs": [
    {
     "data": {
      "text/plain": [
       "['admin', 'config', 'igti', 'local']"
      ]
     },
     "execution_count": 12,
     "metadata": {},
     "output_type": "execute_result"
    }
   ],
   "source": [
    "con.list_database_names()"
   ]
  },
  {
   "cell_type": "code",
   "execution_count": 24,
   "metadata": {},
   "outputs": [],
   "source": [
    "colecao = db[\"clientes\"]"
   ]
  },
  {
   "cell_type": "code",
   "execution_count": 13,
   "metadata": {},
   "outputs": [
    {
     "data": {
      "text/plain": [
       "[]"
      ]
     },
     "execution_count": 13,
     "metadata": {},
     "output_type": "execute_result"
    }
   ],
   "source": [
    "db.list_collection_names()"
   ]
  },
  {
   "cell_type": "code",
   "execution_count": 14,
   "metadata": {},
   "outputs": [],
   "source": [
    "documento = {\"nome\" : \"maria\", \"idade\" : 23}"
   ]
  },
  {
   "cell_type": "code",
   "execution_count": 15,
   "metadata": {},
   "outputs": [],
   "source": [
    "resultado = colecao.insert_one(documento)"
   ]
  },
  {
   "cell_type": "code",
   "execution_count": 16,
   "metadata": {},
   "outputs": [
    {
     "name": "stdout",
     "output_type": "stream",
     "text": [
      "<pymongo.results.InsertOneResult object at 0x000001C550272488>\n"
     ]
    }
   ],
   "source": [
    "print(resultado)"
   ]
  },
  {
   "cell_type": "code",
   "execution_count": 17,
   "metadata": {},
   "outputs": [
    {
     "data": {
      "text/plain": [
       "['Vendas', 'admin', 'config', 'igti', 'local']"
      ]
     },
     "execution_count": 17,
     "metadata": {},
     "output_type": "execute_result"
    }
   ],
   "source": [
    "con.list_database_names()"
   ]
  },
  {
   "cell_type": "code",
   "execution_count": 18,
   "metadata": {},
   "outputs": [
    {
     "data": {
      "text/plain": [
       "['clientes']"
      ]
     },
     "execution_count": 18,
     "metadata": {},
     "output_type": "execute_result"
    }
   ],
   "source": [
    "db.list_collection_names()"
   ]
  },
  {
   "cell_type": "code",
   "execution_count": 19,
   "metadata": {},
   "outputs": [
    {
     "name": "stdout",
     "output_type": "stream",
     "text": [
      "{'_id': ObjectId('5f81f029df9c36866d6cc16e'), 'nome': 'maria', 'idade': 23}\n"
     ]
    }
   ],
   "source": [
    "print(colecao.find_one())"
   ]
  },
  {
   "cell_type": "code",
   "execution_count": 21,
   "metadata": {},
   "outputs": [
    {
     "name": "stdout",
     "output_type": "stream",
     "text": [
      "{'_id': ObjectId('5f81f029df9c36866d6cc16e'), 'idade': 23, 'nome': 'maria'}\n"
     ]
    }
   ],
   "source": [
    "#importação de pacote/biblioteca\n",
    "import pprint #outro pacote para imprimir\n",
    "\n",
    "#selecionas os documentos da coleção que atendam a condição, e imprime os documentos\n",
    "for resultado in colecao.find():\n",
    "    pprint.pprint(resultado)"
   ]
  },
  {
   "cell_type": "code",
   "execution_count": 22,
   "metadata": {},
   "outputs": [],
   "source": [
    "documento = [\n",
    "    {\"nome\" : \"jorge\", \"idade\" : 33},\n",
    "    {\"nome\" : \"ana\"},\n",
    "    {\"nome\": \"William\", \"endereco\": \"Avenida Central n. 954\"},\n",
    "    {\"nome\" : \"ana\", \"endereco\": \"Avenida Central n. 954\"},\n",
    "    {\"nome\": \"William\", \"endereco\": \"Avenida Central n. 954\"},\n",
    "    {\"nome\": \"William\"}   \n",
    "    ]"
   ]
  },
  {
   "cell_type": "code",
   "execution_count": 23,
   "metadata": {},
   "outputs": [
    {
     "name": "stdout",
     "output_type": "stream",
     "text": [
      "[{'idade': 33, 'nome': 'jorge'},\n",
      " {'nome': 'ana'},\n",
      " {'endereco': 'Avenida Central n. 954', 'nome': 'William'},\n",
      " {'endereco': 'Avenida Central n. 954', 'nome': 'ana'},\n",
      " {'endereco': 'Avenida Central n. 954', 'nome': 'William'},\n",
      " {'nome': 'William'}]\n"
     ]
    }
   ],
   "source": [
    "pprint.pprint(documento)"
   ]
  },
  {
   "cell_type": "code",
   "execution_count": 25,
   "metadata": {},
   "outputs": [
    {
     "ename": "TypeError",
     "evalue": "document must be an instance of dict, bson.son.SON, bson.raw_bson.RawBSONDocument, or a type that inherits from collections.MutableMapping",
     "output_type": "error",
     "traceback": [
      "\u001b[1;31m---------------------------------------------------------------------------\u001b[0m",
      "\u001b[1;31mTypeError\u001b[0m                                 Traceback (most recent call last)",
      "\u001b[1;32m<ipython-input-25-f9a4935fa0db>\u001b[0m in \u001b[0;36m<module>\u001b[1;34m\u001b[0m\n\u001b[1;32m----> 1\u001b[1;33m \u001b[0mresultado\u001b[0m \u001b[1;33m=\u001b[0m \u001b[0mcolecao\u001b[0m\u001b[1;33m.\u001b[0m\u001b[0minsert_one\u001b[0m\u001b[1;33m(\u001b[0m\u001b[0mdocumento\u001b[0m\u001b[1;33m)\u001b[0m\u001b[1;33m\u001b[0m\u001b[1;33m\u001b[0m\u001b[0m\n\u001b[0m",
      "\u001b[1;32mE:\\Programas\\Anaconda\\envs\\IGTI\\lib\\site-packages\\pymongo\\collection.py\u001b[0m in \u001b[0;36minsert_one\u001b[1;34m(self, document, bypass_document_validation, session)\u001b[0m\n\u001b[0;32m    690\u001b[0m         \u001b[1;33m.\u001b[0m\u001b[1;33m.\u001b[0m \u001b[0mversionadded\u001b[0m\u001b[1;33m:\u001b[0m\u001b[1;33m:\u001b[0m \u001b[1;36m3.0\u001b[0m\u001b[1;33m\u001b[0m\u001b[1;33m\u001b[0m\u001b[0m\n\u001b[0;32m    691\u001b[0m         \"\"\"\n\u001b[1;32m--> 692\u001b[1;33m         \u001b[0mcommon\u001b[0m\u001b[1;33m.\u001b[0m\u001b[0mvalidate_is_document_type\u001b[0m\u001b[1;33m(\u001b[0m\u001b[1;34m\"document\"\u001b[0m\u001b[1;33m,\u001b[0m \u001b[0mdocument\u001b[0m\u001b[1;33m)\u001b[0m\u001b[1;33m\u001b[0m\u001b[1;33m\u001b[0m\u001b[0m\n\u001b[0m\u001b[0;32m    693\u001b[0m         \u001b[1;32mif\u001b[0m \u001b[1;32mnot\u001b[0m \u001b[1;33m(\u001b[0m\u001b[0misinstance\u001b[0m\u001b[1;33m(\u001b[0m\u001b[0mdocument\u001b[0m\u001b[1;33m,\u001b[0m \u001b[0mRawBSONDocument\u001b[0m\u001b[1;33m)\u001b[0m \u001b[1;32mor\u001b[0m \u001b[1;34m\"_id\"\u001b[0m \u001b[1;32min\u001b[0m \u001b[0mdocument\u001b[0m\u001b[1;33m)\u001b[0m\u001b[1;33m:\u001b[0m\u001b[1;33m\u001b[0m\u001b[1;33m\u001b[0m\u001b[0m\n\u001b[0;32m    694\u001b[0m             \u001b[0mdocument\u001b[0m\u001b[1;33m[\u001b[0m\u001b[1;34m\"_id\"\u001b[0m\u001b[1;33m]\u001b[0m \u001b[1;33m=\u001b[0m \u001b[0mObjectId\u001b[0m\u001b[1;33m(\u001b[0m\u001b[1;33m)\u001b[0m\u001b[1;33m\u001b[0m\u001b[1;33m\u001b[0m\u001b[0m\n",
      "\u001b[1;32mE:\\Programas\\Anaconda\\envs\\IGTI\\lib\\site-packages\\pymongo\\common.py\u001b[0m in \u001b[0;36mvalidate_is_document_type\u001b[1;34m(option, value)\u001b[0m\n\u001b[0;32m    503\u001b[0m                         \u001b[1;34m\"bson.raw_bson.RawBSONDocument, or \"\u001b[0m\u001b[1;33m\u001b[0m\u001b[1;33m\u001b[0m\u001b[0m\n\u001b[0;32m    504\u001b[0m                         \u001b[1;34m\"a type that inherits from \"\u001b[0m\u001b[1;33m\u001b[0m\u001b[1;33m\u001b[0m\u001b[0m\n\u001b[1;32m--> 505\u001b[1;33m                         \"collections.MutableMapping\" % (option,))\n\u001b[0m\u001b[0;32m    506\u001b[0m \u001b[1;33m\u001b[0m\u001b[0m\n\u001b[0;32m    507\u001b[0m \u001b[1;33m\u001b[0m\u001b[0m\n",
      "\u001b[1;31mTypeError\u001b[0m: document must be an instance of dict, bson.son.SON, bson.raw_bson.RawBSONDocument, or a type that inherits from collections.MutableMapping"
     ]
    }
   ],
   "source": [
    "resultado = colecao.insert_one(documento)"
   ]
  },
  {
   "cell_type": "code",
   "execution_count": 26,
   "metadata": {},
   "outputs": [],
   "source": [
    "#inserir documento em uma coleção\n",
    "resultado = colecao.insert_many(documento)"
   ]
  },
  {
   "cell_type": "code",
   "execution_count": 27,
   "metadata": {},
   "outputs": [
    {
     "name": "stdout",
     "output_type": "stream",
     "text": [
      "<pymongo.results.InsertManyResult object at 0x000001C5506D1A08>\n"
     ]
    }
   ],
   "source": [
    "print(resultado)"
   ]
  },
  {
   "cell_type": "code",
   "execution_count": 28,
   "metadata": {},
   "outputs": [
    {
     "name": "stdout",
     "output_type": "stream",
     "text": [
      "{'_id': ObjectId('5f81f029df9c36866d6cc16e'), 'idade': 23, 'nome': 'maria'}\n",
      "{'_id': ObjectId('5f81f0d6df9c36866d6cc16f'), 'idade': 33, 'nome': 'jorge'}\n",
      "{'_id': ObjectId('5f81f0d6df9c36866d6cc170'), 'nome': 'ana'}\n",
      "{'_id': ObjectId('5f81f0d6df9c36866d6cc171'),\n",
      " 'endereco': 'Avenida Central n. 954',\n",
      " 'nome': 'William'}\n",
      "{'_id': ObjectId('5f81f0d6df9c36866d6cc172'),\n",
      " 'endereco': 'Avenida Central n. 954',\n",
      " 'nome': 'ana'}\n",
      "{'_id': ObjectId('5f81f0d6df9c36866d6cc173'),\n",
      " 'endereco': 'Avenida Central n. 954',\n",
      " 'nome': 'William'}\n",
      "{'_id': ObjectId('5f81f0d6df9c36866d6cc174'), 'nome': 'William'}\n"
     ]
    }
   ],
   "source": [
    "#selecionas os documentos da coleção que atendam a condição, e imprime os documentos\n",
    "for resultado in colecao.find():\n",
    "    pprint.pprint(resultado)"
   ]
  },
  {
   "cell_type": "code",
   "execution_count": 29,
   "metadata": {},
   "outputs": [
    {
     "name": "stdout",
     "output_type": "stream",
     "text": [
      "{'_id': ObjectId('5f81f029df9c36866d6cc16e'), 'idade': 23, 'nome': 'maria'}\n",
      "{'_id': ObjectId('5f81f0d6df9c36866d6cc16f'), 'idade': 33, 'nome': 'jorge'}\n",
      "{'_id': ObjectId('5f81f0d6df9c36866d6cc170'),\n",
      " 'logradouro': 'Avenida JK',\n",
      " 'nome': 'ana',\n",
      " 'num': 345}\n",
      "{'_id': ObjectId('5f81f0d6df9c36866d6cc171'),\n",
      " 'endereco': 'Avenida Central n. 954',\n",
      " 'nome': 'William'}\n",
      "{'_id': ObjectId('5f81f0d6df9c36866d6cc172'),\n",
      " 'endereco': 'Avenida Central n. 954',\n",
      " 'nome': 'ana'}\n",
      "{'_id': ObjectId('5f81f0d6df9c36866d6cc173'),\n",
      " 'endereco': 'Avenida Central n. 954',\n",
      " 'nome': 'William'}\n",
      "{'_id': ObjectId('5f81f0d6df9c36866d6cc174'), 'nome': 'William'}\n"
     ]
    }
   ],
   "source": [
    "condicao = { 'nome': 'ana' }\n",
    "valor = { \"$set\": { \"logradouro\": \"Avenida JK\",\"num\": 345 } }\n",
    "\n",
    "colecao.update_one(condicao, valor)\n",
    "\n",
    "for resultado in colecao.find():\n",
    "    pprint.pprint(resultado)"
   ]
  },
  {
   "cell_type": "code",
   "execution_count": 30,
   "metadata": {},
   "outputs": [
    {
     "name": "stdout",
     "output_type": "stream",
     "text": [
      "{'_id': ObjectId('5f81f0d6df9c36866d6cc170'),\n",
      " 'logradouro': 'Avenida JK',\n",
      " 'nome': 'ana',\n",
      " 'num': 345}\n",
      "{'_id': ObjectId('5f81f0d6df9c36866d6cc172'),\n",
      " 'endereco': 'Avenida Central n. 954',\n",
      " 'nome': 'ana'}\n"
     ]
    }
   ],
   "source": [
    "for resultado in colecao.find({ 'nome': 'ana' }):\n",
    "    pprint.pprint(resultado)"
   ]
  },
  {
   "cell_type": "code",
   "execution_count": 31,
   "metadata": {},
   "outputs": [
    {
     "data": {
      "text/plain": [
       "<pymongo.results.UpdateResult at 0x1c5506ed288>"
      ]
     },
     "execution_count": 31,
     "metadata": {},
     "output_type": "execute_result"
    }
   ],
   "source": [
    "condicao = { 'nome': 'ana' }\n",
    "valor = { \"$set\": { \"logradouro\": \"Avenida JK\",\"num\": 345 } }\n",
    "\n",
    "colecao.update_many(condicao, valor)\n"
   ]
  },
  {
   "cell_type": "code",
   "execution_count": 32,
   "metadata": {},
   "outputs": [
    {
     "name": "stdout",
     "output_type": "stream",
     "text": [
      "{'_id': ObjectId('5f81f0d6df9c36866d6cc170'),\n",
      " 'logradouro': 'Avenida JK',\n",
      " 'nome': 'ana',\n",
      " 'num': 345}\n",
      "{'_id': ObjectId('5f81f0d6df9c36866d6cc172'),\n",
      " 'endereco': 'Avenida Central n. 954',\n",
      " 'logradouro': 'Avenida JK',\n",
      " 'nome': 'ana',\n",
      " 'num': 345}\n"
     ]
    }
   ],
   "source": [
    "for resultado in colecao.find({ 'nome': 'ana' }):\n",
    "    pprint.pprint(resultado)"
   ]
  },
  {
   "cell_type": "code",
   "execution_count": 33,
   "metadata": {},
   "outputs": [
    {
     "name": "stdout",
     "output_type": "stream",
     "text": [
      "{'_id': ObjectId('5f81f0d6df9c36866d6cc171'),\n",
      " 'endereco': 'Avenida Central n. 954',\n",
      " 'nome': 'William'}\n",
      "{'_id': ObjectId('5f81f0d6df9c36866d6cc173'),\n",
      " 'endereco': 'Avenida Central n. 954',\n",
      " 'nome': 'William'}\n",
      "{'_id': ObjectId('5f81f0d6df9c36866d6cc174'), 'nome': 'William'}\n"
     ]
    }
   ],
   "source": [
    "for resultado in colecao.find({ 'nome': 'William' }):\n",
    "    pprint.pprint(resultado)"
   ]
  },
  {
   "cell_type": "code",
   "execution_count": 34,
   "metadata": {},
   "outputs": [
    {
     "data": {
      "text/plain": [
       "<pymongo.results.DeleteResult at 0x1c55074bfc8>"
      ]
     },
     "execution_count": 34,
     "metadata": {},
     "output_type": "execute_result"
    }
   ],
   "source": [
    "condicao = { 'nome': 'William' }\n",
    "\n",
    "colecao.delete_one(condicao)"
   ]
  },
  {
   "cell_type": "code",
   "execution_count": 35,
   "metadata": {},
   "outputs": [
    {
     "name": "stdout",
     "output_type": "stream",
     "text": [
      "{'_id': ObjectId('5f81f0d6df9c36866d6cc173'),\n",
      " 'endereco': 'Avenida Central n. 954',\n",
      " 'nome': 'William'}\n",
      "{'_id': ObjectId('5f81f0d6df9c36866d6cc174'), 'nome': 'William'}\n"
     ]
    }
   ],
   "source": [
    "for resultado in colecao.find({ 'nome': 'William' }):\n",
    "    pprint.pprint(resultado)"
   ]
  },
  {
   "cell_type": "code",
   "execution_count": 36,
   "metadata": {},
   "outputs": [
    {
     "data": {
      "text/plain": [
       "<pymongo.results.DeleteResult at 0x1c5506a22c8>"
      ]
     },
     "execution_count": 36,
     "metadata": {},
     "output_type": "execute_result"
    }
   ],
   "source": [
    "condicao = { 'nome': 'William' }\n",
    "\n",
    "colecao.delete_many(condicao)"
   ]
  },
  {
   "cell_type": "code",
   "execution_count": 37,
   "metadata": {},
   "outputs": [],
   "source": [
    "for resultado in colecao.find({ 'nome': 'William' }):\n",
    "    pprint.pprint(resultado)"
   ]
  },
  {
   "cell_type": "code",
   "execution_count": 38,
   "metadata": {},
   "outputs": [
    {
     "name": "stdout",
     "output_type": "stream",
     "text": [
      "{'_id': ObjectId('5f81f029df9c36866d6cc16e'), 'idade': 23, 'nome': 'maria'}\n",
      "{'_id': ObjectId('5f81f0d6df9c36866d6cc16f'), 'idade': 33, 'nome': 'jorge'}\n",
      "{'_id': ObjectId('5f81f0d6df9c36866d6cc170'),\n",
      " 'logradouro': 'Avenida JK',\n",
      " 'nome': 'ana',\n",
      " 'num': 345}\n",
      "{'_id': ObjectId('5f81f0d6df9c36866d6cc172'),\n",
      " 'endereco': 'Avenida Central n. 954',\n",
      " 'logradouro': 'Avenida JK',\n",
      " 'nome': 'ana',\n",
      " 'num': 345}\n"
     ]
    }
   ],
   "source": [
    "for resultado in colecao.find():\n",
    "    pprint.pprint(resultado)"
   ]
  },
  {
   "cell_type": "code",
   "execution_count": null,
   "metadata": {},
   "outputs": [],
   "source": []
  }
 ],
 "metadata": {
  "kernelspec": {
   "display_name": "Python 3",
   "language": "python",
   "name": "python3"
  },
  "language_info": {
   "codemirror_mode": {
    "name": "ipython",
    "version": 3
   },
   "file_extension": ".py",
   "mimetype": "text/x-python",
   "name": "python",
   "nbconvert_exporter": "python",
   "pygments_lexer": "ipython3",
   "version": "3.7.1"
  }
 },
 "nbformat": 4,
 "nbformat_minor": 4
}

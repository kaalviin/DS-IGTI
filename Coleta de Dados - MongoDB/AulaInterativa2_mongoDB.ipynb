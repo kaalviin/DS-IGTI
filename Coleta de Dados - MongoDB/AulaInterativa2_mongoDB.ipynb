{
 "cells": [
  {
   "cell_type": "markdown",
   "metadata": {},
   "source": [
    "# 1. MongoDB e Python"
   ]
  },
  {
   "cell_type": "markdown",
   "metadata": {},
   "source": [
    "## 1.1. Conexão com a base de dados"
   ]
  },
  {
   "cell_type": "code",
   "execution_count": 1,
   "metadata": {},
   "outputs": [],
   "source": [
    "#importação de biblioteca\n",
    "\n",
    "import pymongo\n",
    "import json"
   ]
  },
  {
   "cell_type": "code",
   "execution_count": 4,
   "metadata": {},
   "outputs": [
    {
     "data": {
      "text/plain": [
       "MongoClient(host=['localhost:27017'], document_class=dict, tz_aware=False, connect=True)"
      ]
     },
     "execution_count": 4,
     "metadata": {},
     "output_type": "execute_result"
    }
   ],
   "source": [
    "#Conexão ao banco de dados\n",
    "\n",
    "con = pymongo.MongoClient('localhost', 27017)\n",
    "con"
   ]
  },
  {
   "cell_type": "code",
   "execution_count": 5,
   "metadata": {},
   "outputs": [
    {
     "data": {
      "text/plain": [
       "['Vendas', 'admin', 'config', 'igti', 'local', 'twitterdb']"
      ]
     },
     "execution_count": 5,
     "metadata": {},
     "output_type": "execute_result"
    }
   ],
   "source": [
    "#listar os bancos de dados\n",
    "con.list_database_names()"
   ]
  },
  {
   "cell_type": "code",
   "execution_count": 7,
   "metadata": {},
   "outputs": [],
   "source": [
    "file_path = 'C:\\Bootcamp\\Datasets\\JSON\\scraped_items.json'\n",
    "with open(file_path, 'r', encoding='utf8') as f:\n",
    "    data = json.load(f)"
   ]
  },
  {
   "cell_type": "code",
   "execution_count": 8,
   "metadata": {},
   "outputs": [],
   "source": [
    "newdb = con['aula_interativa_2']\n",
    "newcolecao=newdb['collection_2']"
   ]
  },
  {
   "cell_type": "code",
   "execution_count": 9,
   "metadata": {},
   "outputs": [
    {
     "data": {
      "text/plain": [
       "<pymongo.results.InsertManyResult at 0x14888707b08>"
      ]
     },
     "execution_count": 9,
     "metadata": {},
     "output_type": "execute_result"
    }
   ],
   "source": [
    "newcolecao.insert_many(data)"
   ]
  },
  {
   "cell_type": "code",
   "execution_count": 10,
   "metadata": {},
   "outputs": [
    {
     "data": {
      "text/plain": [
       "Database(MongoClient(host=['localhost:27017'], document_class=dict, tz_aware=False, connect=True), 'aula_interativa_2')"
      ]
     },
     "execution_count": 10,
     "metadata": {},
     "output_type": "execute_result"
    }
   ],
   "source": [
    "#seleciona o banco de dados\n",
    "db = con.aula_interativa_2\n",
    "db"
   ]
  },
  {
   "cell_type": "code",
   "execution_count": 11,
   "metadata": {},
   "outputs": [
    {
     "data": {
      "text/plain": [
       "['collection_2']"
      ]
     },
     "execution_count": 11,
     "metadata": {},
     "output_type": "execute_result"
    }
   ],
   "source": [
    "#listar as coleções\n",
    "db.list_collection_names()"
   ]
  },
  {
   "cell_type": "code",
   "execution_count": 12,
   "metadata": {},
   "outputs": [],
   "source": [
    "#seleciona a coleção\n",
    "collection = db.collection_2"
   ]
  },
  {
   "cell_type": "markdown",
   "metadata": {},
   "source": [
    "## 1.2. Normalização de dados"
   ]
  },
  {
   "cell_type": "code",
   "execution_count": 13,
   "metadata": {},
   "outputs": [
    {
     "name": "stdout",
     "output_type": "stream",
     "text": [
      "{'_id': ObjectId('5f88cd747ff92c9fb7ba71df'),\n",
      " 'categoria_URL': 'https://www.igti.com.br/blog/category/development/',\n",
      " 'categoria_artigo': 'DEVELOPMENT',\n",
      " 'comentarios_artigo': '0 comentários',\n",
      " 'dtPostagem_artigo': '13 de junho de 2018',\n",
      " 'titulo_artigo': 'O que faz um Desenvolvedor Full Stack?',\n",
      " 'titulo_pagina': ' IGTI Blog',\n",
      " 'url_artigo': 'https://www.igti.com.br/blog/o-que-faz-um-desenvolvedor-full-stack/',\n",
      " 'url_pagina': 'https://www.igti.com.br/blog/',\n",
      " 'visualizacoes_artigo': '39.963 visualizações'}\n",
      "{'_id': ObjectId('5f88cd747ff92c9fb7ba71e0'),\n",
      " 'categoria_URL': 'https://www.igti.com.br/blog/category/data-science/',\n",
      " 'categoria_artigo': 'DATA SCIENCE',\n",
      " 'comentarios_artigo': '7 comentários',\n",
      " 'dtPostagem_artigo': '12 de abril de 2017',\n",
      " 'titulo_artigo': 'Cientista de Dados: o novo profissional que o mercado '\n",
      "                  'procura',\n",
      " 'titulo_pagina': ' IGTI Blog',\n",
      " 'url_artigo': 'https://www.igti.com.br/blog/carreira-ti-big-data/',\n",
      " 'url_pagina': 'https://www.igti.com.br/blog/',\n",
      " 'visualizacoes_artigo': '34.684 visualizações'}\n",
      "{'_id': ObjectId('5f88cd747ff92c9fb7ba71e1'),\n",
      " 'categoria_URL': 'https://www.igti.com.br/blog/category/development/',\n",
      " 'categoria_artigo': 'DEVELOPMENT',\n",
      " 'comentarios_artigo': '2 comentários',\n",
      " 'dtPostagem_artigo': '22 de novembro de 2017',\n",
      " 'titulo_artigo': '5 motivos para você aprender SQL',\n",
      " 'titulo_pagina': ' IGTI Blog',\n",
      " 'url_artigo': 'https://www.igti.com.br/blog/5-motivos-para-voce-aprender-sql/',\n",
      " 'url_pagina': 'https://www.igti.com.br/blog/',\n",
      " 'visualizacoes_artigo': '29.820 visualizações'}\n",
      "{'_id': ObjectId('5f88cd747ff92c9fb7ba71e2'),\n",
      " 'categoria_URL': 'https://www.igti.com.br/blog/category/inteligencia-artificial/',\n",
      " 'categoria_artigo': 'INTELIGÊNCIA ARTIFICIAL',\n",
      " 'comentarios_artigo': '0 comentários',\n",
      " 'dtPostagem_artigo': '10 de julho de 2017',\n",
      " 'titulo_artigo': 'A carreira dos profissionais de Ciência de Dados, '\n",
      "                  'Engenharia de Dados e Machine Learning',\n",
      " 'titulo_pagina': ' IGTI Blog',\n",
      " 'url_artigo': 'https://www.igti.com.br/blog/carreira-big-data-engenharia-dados-machine-learning/',\n",
      " 'url_pagina': 'https://www.igti.com.br/blog/',\n",
      " 'visualizacoes_artigo': '27.971 visualizações'}\n",
      "{'_id': ObjectId('5f88cd747ff92c9fb7ba71e3'),\n",
      " 'categoria_URL': 'https://www.igti.com.br/blog/category/data-analytics/',\n",
      " 'categoria_artigo': 'DATA ANALYTICS',\n",
      " 'comentarios_artigo': '8 comentários',\n",
      " 'dtPostagem_artigo': '4 de maio de 2017',\n",
      " 'titulo_artigo': 'A carreira de um Analista de Business Intelligence',\n",
      " 'titulo_pagina': ' IGTI Blog',\n",
      " 'url_artigo': 'https://www.igti.com.br/blog/carreira-inteligencia-negocios/',\n",
      " 'url_pagina': 'https://www.igti.com.br/blog/',\n",
      " 'visualizacoes_artigo': '27.384 visualizações'}\n",
      "{'_id': ObjectId('5f88cd747ff92c9fb7ba71e4'),\n",
      " 'categoria_URL': ['https://www.igti.com.br/blog/category/inteligencia-artificial/',\n",
      "                   'https://www.igti.com.br/blog/category/webinar/'],\n",
      " 'categoria_artigo': ['INTELIGÊNCIA ARTIFICIAL', 'Webinar'],\n",
      " 'comentarios_artigo': '0 comentários',\n",
      " 'dtPostagem_artigo': '7 horas atrás',\n",
      " 'titulo_artigo': 'Algoritmos não-supervisionados: Segmentação de Clientes',\n",
      " 'titulo_pagina': ' IGTI Blog',\n",
      " 'url_artigo': 'https://www.igti.com.br/blog/algoritmos-nao-supervisionados-segmentacao-de-clientes/',\n",
      " 'url_pagina': 'https://www.igti.com.br/blog/',\n",
      " 'visualizacoes_artigo': '9 visualizações'}\n",
      "{'_id': ObjectId('5f88cd747ff92c9fb7ba71e5'),\n",
      " 'categoria_URL': ['https://www.igti.com.br/blog/category/development/',\n",
      "                   'https://www.igti.com.br/blog/category/webinar/'],\n",
      " 'categoria_artigo': ['DEVELOPMENT', 'Webinar'],\n",
      " 'comentarios_artigo': '0 comentários',\n",
      " 'dtPostagem_artigo': '5 dias atrás',\n",
      " 'titulo_artigo': 'Front End: Qual a melhor ferramenta?',\n",
      " 'titulo_pagina': ' IGTI Blog',\n",
      " 'url_artigo': 'https://www.igti.com.br/blog/front-end-qual-a-melhor-ferramenta/',\n",
      " 'url_pagina': 'https://www.igti.com.br/blog/',\n",
      " 'visualizacoes_artigo': '48 visualizações'}\n",
      "{'_id': ObjectId('5f88cd747ff92c9fb7ba71e6'),\n",
      " 'categoria_URL': ['https://www.igti.com.br/blog/category/data-science/',\n",
      "                   'https://www.igti.com.br/blog/category/data-universe/'],\n",
      " 'categoria_artigo': ['DATA SCIENCE', 'Data Universe'],\n",
      " 'comentarios_artigo': '0 comentários',\n",
      " 'dtPostagem_artigo': '3 semanas atrás',\n",
      " 'titulo_artigo': 'Indústria 4.0: Empreendedorismo, Big Data e Inteligência '\n",
      "                  'Artificial',\n",
      " 'titulo_pagina': ' IGTI Blog',\n",
      " 'url_artigo': 'https://www.igti.com.br/blog/industria-4-0-empreendedorismo-big-data-e-inteligencia-artificial/',\n",
      " 'url_pagina': 'https://www.igti.com.br/blog/',\n",
      " 'visualizacoes_artigo': '190 visualizações'}\n",
      "{'_id': ObjectId('5f88cd747ff92c9fb7ba71e7'),\n",
      " 'categoria_URL': ['https://www.igti.com.br/blog/category/data-science/',\n",
      "                   'https://www.igti.com.br/blog/category/data-universe/'],\n",
      " 'categoria_artigo': ['DATA SCIENCE', 'Data Universe'],\n",
      " 'comentarios_artigo': '0 comentários',\n",
      " 'dtPostagem_artigo': '3 semanas atrás',\n",
      " 'titulo_artigo': 'Como Falar Melhor em Apresentação de Dados',\n",
      " 'titulo_pagina': ' IGTI Blog',\n",
      " 'url_artigo': 'https://www.igti.com.br/blog/como-falar-melhor-em-apresentacao-de-dados/',\n",
      " 'url_pagina': 'https://www.igti.com.br/blog/',\n",
      " 'visualizacoes_artigo': '60 visualizações'}\n",
      "{'_id': ObjectId('5f88cd747ff92c9fb7ba71e8'),\n",
      " 'categoria_URL': ['https://www.igti.com.br/blog/category/cloud-computing/',\n",
      "                   'https://www.igti.com.br/blog/category/webinar/'],\n",
      " 'categoria_artigo': ['CLOUD COMPUTING', 'Webinar'],\n",
      " 'comentarios_artigo': '0 comentários',\n",
      " 'dtPostagem_artigo': '3 semanas atrás',\n",
      " 'titulo_artigo': 'Profissional de Cloud Computing: uma carreira de futuro!',\n",
      " 'titulo_pagina': ' IGTI Blog',\n",
      " 'url_artigo': 'https://www.igti.com.br/blog/profissional-de-cloud-computing-uma-carreira-de-futuro/',\n",
      " 'url_pagina': 'https://www.igti.com.br/blog/',\n",
      " 'visualizacoes_artigo': '200 visualizações'}\n",
      "{'_id': ObjectId('5f88cd747ff92c9fb7ba71e9'),\n",
      " 'categoria_URL': ['https://www.igti.com.br/blog/category/data-universe/',\n",
      "                   'https://www.igti.com.br/blog/category/igti-na-midia/'],\n",
      " 'categoria_artigo': ['Data Universe', 'IGTI NA MÍDIA'],\n",
      " 'comentarios_artigo': '0 comentários',\n",
      " 'dtPostagem_artigo': '3 semanas atrás',\n",
      " 'titulo_artigo': 'Data Universe',\n",
      " 'titulo_pagina': ' IGTI Blog',\n",
      " 'url_artigo': 'https://www.igti.com.br/blog/data-universe/',\n",
      " 'url_pagina': 'https://www.igti.com.br/blog/',\n",
      " 'visualizacoes_artigo': '77 visualizações'}\n",
      "{'_id': ObjectId('5f88cd747ff92c9fb7ba71ea'),\n",
      " 'categoria_URL': ['https://www.igti.com.br/blog/category/data-science/',\n",
      "                   'https://www.igti.com.br/blog/category/data-universe/'],\n",
      " 'categoria_artigo': ['DATA SCIENCE', 'Data Universe'],\n",
      " 'comentarios_artigo': '0 comentários',\n",
      " 'dtPostagem_artigo': '4 semanas atrás',\n",
      " 'titulo_artigo': 'Como transformar as organizações para serem orientadas a '\n",
      "                  'dados',\n",
      " 'titulo_pagina': ' IGTI Blog',\n",
      " 'url_artigo': 'https://www.igti.com.br/blog/como-transformar-as-organizacoes-para-serem-orientadas-a-dados/',\n",
      " 'url_pagina': 'https://www.igti.com.br/blog/',\n",
      " 'visualizacoes_artigo': '42 visualizações'}\n",
      "{'_id': ObjectId('5f88cd747ff92c9fb7ba71eb'),\n",
      " 'categoria_URL': ['https://www.igti.com.br/blog/category/agile/',\n",
      "                   'https://www.igti.com.br/blog/category/webinar/'],\n",
      " 'categoria_artigo': ['AGILE', 'Webinar'],\n",
      " 'comentarios_artigo': '0 comentários',\n",
      " 'dtPostagem_artigo': '4 semanas atrás',\n",
      " 'titulo_artigo': 'Framework Ágil',\n",
      " 'titulo_pagina': ' IGTI Blog',\n",
      " 'url_artigo': 'https://www.igti.com.br/blog/framework-agil/',\n",
      " 'url_pagina': 'https://www.igti.com.br/blog/',\n",
      " 'visualizacoes_artigo': '67 visualizações'}\n"
     ]
    }
   ],
   "source": [
    "#importação de pacote/biblioteca\n",
    "import pprint #outro pacote para imprimir\n",
    "\n",
    "documentos = collection.find()\n",
    "\n",
    "for doc in documentos :\n",
    "    pprint.pprint(doc)"
   ]
  },
  {
   "cell_type": "code",
   "execution_count": 14,
   "metadata": {},
   "outputs": [
    {
     "data": {
      "text/plain": [
       "{'_id': ObjectId('5f88cd747ff92c9fb7ba71df'),\n",
       " 'categoria_URL': 'https://www.igti.com.br/blog/category/development/',\n",
       " 'categoria_artigo': 'DEVELOPMENT',\n",
       " 'comentarios_artigo': '0 comentários',\n",
       " 'dtPostagem_artigo': '13 de junho de 2018',\n",
       " 'titulo_artigo': 'O que faz um Desenvolvedor Full Stack?',\n",
       " 'titulo_pagina': ' IGTI Blog',\n",
       " 'url_artigo': 'https://www.igti.com.br/blog/o-que-faz-um-desenvolvedor-full-stack/',\n",
       " 'url_pagina': 'https://www.igti.com.br/blog/',\n",
       " 'visualizacoes_artigo': '39.963 visualizações'}"
      ]
     },
     "execution_count": 14,
     "metadata": {},
     "output_type": "execute_result"
    }
   ],
   "source": [
    "collection.find_one()"
   ]
  },
  {
   "cell_type": "code",
   "execution_count": 15,
   "metadata": {},
   "outputs": [
    {
     "name": "stdout",
     "output_type": "stream",
     "text": [
      "<class 'int'>\n",
      "39963\n"
     ]
    }
   ],
   "source": [
    "qtd_visualizacoes = int(collection.find_one()['visualizacoes_artigo'].split()[0].replace('.',''))\n",
    "\n",
    "print(type(qtd_visualizacoes))\n",
    "print(qtd_visualizacoes)\n"
   ]
  },
  {
   "cell_type": "code",
   "execution_count": 16,
   "metadata": {},
   "outputs": [
    {
     "data": {
      "text/plain": [
       "39963"
      ]
     },
     "execution_count": 16,
     "metadata": {},
     "output_type": "execute_result"
    }
   ],
   "source": [
    "int(collection.find_one()['visualizacoes_artigo'].split()[0].replace('.',''))"
   ]
  },
  {
   "cell_type": "code",
   "execution_count": 17,
   "metadata": {},
   "outputs": [
    {
     "name": "stdout",
     "output_type": "stream",
     "text": [
      "{'url_artigo': 'https://www.igti.com.br/blog/o-que-faz-um-desenvolvedor-full-stack/'}\n",
      "{'$set': {'visualizacoes_artigo': 20}}\n"
     ]
    }
   ],
   "source": [
    "condicao = {'url_artigo':collection.find_one()['url_artigo']}\n",
    "print(condicao)\n",
    "valor = { '$set': { 'visualizacoes_artigo': 20} }\n",
    "print(valor)"
   ]
  },
  {
   "cell_type": "code",
   "execution_count": 22,
   "metadata": {},
   "outputs": [
    {
     "data": {
      "text/plain": [
       "{'_id': ObjectId('5f88cd747ff92c9fb7ba71df'),\n",
       " 'categoria_URL': 'https://www.igti.com.br/blog/category/development/',\n",
       " 'categoria_artigo': 'DEVELOPMENT',\n",
       " 'comentarios_artigo': 0,\n",
       " 'dtPostagem_artigo': '13 de junho de 2018',\n",
       " 'titulo_artigo': 'O que faz um Desenvolvedor Full Stack?',\n",
       " 'titulo_pagina': ' IGTI Blog',\n",
       " 'url_artigo': 'https://www.igti.com.br/blog/o-que-faz-um-desenvolvedor-full-stack/',\n",
       " 'url_pagina': 'https://www.igti.com.br/blog/',\n",
       " 'visualizacoes_artigo': 39963}"
      ]
     },
     "execution_count": 22,
     "metadata": {},
     "output_type": "execute_result"
    }
   ],
   "source": [
    "collection.find_one()"
   ]
  },
  {
   "cell_type": "code",
   "execution_count": 19,
   "metadata": {},
   "outputs": [],
   "source": [
    "documentos = collection.find() # 2018-06-13\n",
    "for doc in documentos :\n",
    "    qtd_visualizacoes = int(doc['visualizacoes_artigo'].split()[0].replace('.',''))\n",
    "    condicao = {'url_artigo': doc['url_artigo']}\n",
    "    valor = { \"$set\": { 'visualizacoes_artigo': qtd_visualizacoes}}\n",
    "    collection.update_one(condicao, valor)"
   ]
  },
  {
   "cell_type": "code",
   "execution_count": 20,
   "metadata": {},
   "outputs": [],
   "source": [
    "documentos = collection.find()\n",
    "for doc in documentos :\n",
    "    qtd_visualizacoes = int(doc['comentarios_artigo'].split()[0].replace('.',''))\n",
    "    condicao = {'url_artigo': doc['url_artigo']}\n",
    "    valor = { \"$set\": { 'comentarios_artigo': qtd_visualizacoes}}\n",
    "    collection.update_one(condicao, valor)"
   ]
  },
  {
   "cell_type": "markdown",
   "metadata": {},
   "source": [
    "## 1.2. Consultas"
   ]
  },
  {
   "cell_type": "markdown",
   "metadata": {},
   "source": [
    "### 1.2.1. Filtros"
   ]
  },
  {
   "cell_type": "markdown",
   "metadata": {},
   "source": [
    "Ela busca os dados no MongoDB e tem 2 paramêtros principais: Um filtra documentos que obedecem uma ou várias condições e o outro filtra os atributos que serão exibidos ou ocultados do resultado da query.\n",
    "A sintaxe básica é: **db.NomeColeção.find({condição}, {atributos exibidos ou não})**"
   ]
  },
  {
   "cell_type": "code",
   "execution_count": 23,
   "metadata": {},
   "outputs": [
    {
     "name": "stdout",
     "output_type": "stream",
     "text": [
      "{'_id': ObjectId('5f88cd747ff92c9fb7ba71df'),\n",
      " 'categoria_URL': 'https://www.igti.com.br/blog/category/development/',\n",
      " 'categoria_artigo': 'DEVELOPMENT',\n",
      " 'comentarios_artigo': 0,\n",
      " 'dtPostagem_artigo': '13 de junho de 2018',\n",
      " 'titulo_artigo': 'O que faz um Desenvolvedor Full Stack?',\n",
      " 'titulo_pagina': ' IGTI Blog',\n",
      " 'url_artigo': 'https://www.igti.com.br/blog/o-que-faz-um-desenvolvedor-full-stack/',\n",
      " 'url_pagina': 'https://www.igti.com.br/blog/',\n",
      " 'visualizacoes_artigo': 39963}\n",
      "{'_id': ObjectId('5f88cd747ff92c9fb7ba71e0'),\n",
      " 'categoria_URL': 'https://www.igti.com.br/blog/category/data-science/',\n",
      " 'categoria_artigo': 'DATA SCIENCE',\n",
      " 'comentarios_artigo': 7,\n",
      " 'dtPostagem_artigo': '12 de abril de 2017',\n",
      " 'titulo_artigo': 'Cientista de Dados: o novo profissional que o mercado '\n",
      "                  'procura',\n",
      " 'titulo_pagina': ' IGTI Blog',\n",
      " 'url_artigo': 'https://www.igti.com.br/blog/carreira-ti-big-data/',\n",
      " 'url_pagina': 'https://www.igti.com.br/blog/',\n",
      " 'visualizacoes_artigo': 34684}\n",
      "{'_id': ObjectId('5f88cd747ff92c9fb7ba71e1'),\n",
      " 'categoria_URL': 'https://www.igti.com.br/blog/category/development/',\n",
      " 'categoria_artigo': 'DEVELOPMENT',\n",
      " 'comentarios_artigo': 2,\n",
      " 'dtPostagem_artigo': '22 de novembro de 2017',\n",
      " 'titulo_artigo': '5 motivos para você aprender SQL',\n",
      " 'titulo_pagina': ' IGTI Blog',\n",
      " 'url_artigo': 'https://www.igti.com.br/blog/5-motivos-para-voce-aprender-sql/',\n",
      " 'url_pagina': 'https://www.igti.com.br/blog/',\n",
      " 'visualizacoes_artigo': 29820}\n",
      "{'_id': ObjectId('5f88cd747ff92c9fb7ba71e2'),\n",
      " 'categoria_URL': 'https://www.igti.com.br/blog/category/inteligencia-artificial/',\n",
      " 'categoria_artigo': 'INTELIGÊNCIA ARTIFICIAL',\n",
      " 'comentarios_artigo': 0,\n",
      " 'dtPostagem_artigo': '10 de julho de 2017',\n",
      " 'titulo_artigo': 'A carreira dos profissionais de Ciência de Dados, '\n",
      "                  'Engenharia de Dados e Machine Learning',\n",
      " 'titulo_pagina': ' IGTI Blog',\n",
      " 'url_artigo': 'https://www.igti.com.br/blog/carreira-big-data-engenharia-dados-machine-learning/',\n",
      " 'url_pagina': 'https://www.igti.com.br/blog/',\n",
      " 'visualizacoes_artigo': 27971}\n",
      "{'_id': ObjectId('5f88cd747ff92c9fb7ba71e3'),\n",
      " 'categoria_URL': 'https://www.igti.com.br/blog/category/data-analytics/',\n",
      " 'categoria_artigo': 'DATA ANALYTICS',\n",
      " 'comentarios_artigo': 8,\n",
      " 'dtPostagem_artigo': '4 de maio de 2017',\n",
      " 'titulo_artigo': 'A carreira de um Analista de Business Intelligence',\n",
      " 'titulo_pagina': ' IGTI Blog',\n",
      " 'url_artigo': 'https://www.igti.com.br/blog/carreira-inteligencia-negocios/',\n",
      " 'url_pagina': 'https://www.igti.com.br/blog/',\n",
      " 'visualizacoes_artigo': 27384}\n",
      "{'_id': ObjectId('5f88cd747ff92c9fb7ba71e4'),\n",
      " 'categoria_URL': ['https://www.igti.com.br/blog/category/inteligencia-artificial/',\n",
      "                   'https://www.igti.com.br/blog/category/webinar/'],\n",
      " 'categoria_artigo': ['INTELIGÊNCIA ARTIFICIAL', 'Webinar'],\n",
      " 'comentarios_artigo': 0,\n",
      " 'dtPostagem_artigo': '7 horas atrás',\n",
      " 'titulo_artigo': 'Algoritmos não-supervisionados: Segmentação de Clientes',\n",
      " 'titulo_pagina': ' IGTI Blog',\n",
      " 'url_artigo': 'https://www.igti.com.br/blog/algoritmos-nao-supervisionados-segmentacao-de-clientes/',\n",
      " 'url_pagina': 'https://www.igti.com.br/blog/',\n",
      " 'visualizacoes_artigo': 9}\n",
      "{'_id': ObjectId('5f88cd747ff92c9fb7ba71e5'),\n",
      " 'categoria_URL': ['https://www.igti.com.br/blog/category/development/',\n",
      "                   'https://www.igti.com.br/blog/category/webinar/'],\n",
      " 'categoria_artigo': ['DEVELOPMENT', 'Webinar'],\n",
      " 'comentarios_artigo': 0,\n",
      " 'dtPostagem_artigo': '5 dias atrás',\n",
      " 'titulo_artigo': 'Front End: Qual a melhor ferramenta?',\n",
      " 'titulo_pagina': ' IGTI Blog',\n",
      " 'url_artigo': 'https://www.igti.com.br/blog/front-end-qual-a-melhor-ferramenta/',\n",
      " 'url_pagina': 'https://www.igti.com.br/blog/',\n",
      " 'visualizacoes_artigo': 48}\n",
      "{'_id': ObjectId('5f88cd747ff92c9fb7ba71e6'),\n",
      " 'categoria_URL': ['https://www.igti.com.br/blog/category/data-science/',\n",
      "                   'https://www.igti.com.br/blog/category/data-universe/'],\n",
      " 'categoria_artigo': ['DATA SCIENCE', 'Data Universe'],\n",
      " 'comentarios_artigo': 0,\n",
      " 'dtPostagem_artigo': '3 semanas atrás',\n",
      " 'titulo_artigo': 'Indústria 4.0: Empreendedorismo, Big Data e Inteligência '\n",
      "                  'Artificial',\n",
      " 'titulo_pagina': ' IGTI Blog',\n",
      " 'url_artigo': 'https://www.igti.com.br/blog/industria-4-0-empreendedorismo-big-data-e-inteligencia-artificial/',\n",
      " 'url_pagina': 'https://www.igti.com.br/blog/',\n",
      " 'visualizacoes_artigo': 190}\n",
      "{'_id': ObjectId('5f88cd747ff92c9fb7ba71e7'),\n",
      " 'categoria_URL': ['https://www.igti.com.br/blog/category/data-science/',\n",
      "                   'https://www.igti.com.br/blog/category/data-universe/'],\n",
      " 'categoria_artigo': ['DATA SCIENCE', 'Data Universe'],\n",
      " 'comentarios_artigo': 0,\n",
      " 'dtPostagem_artigo': '3 semanas atrás',\n",
      " 'titulo_artigo': 'Como Falar Melhor em Apresentação de Dados',\n",
      " 'titulo_pagina': ' IGTI Blog',\n",
      " 'url_artigo': 'https://www.igti.com.br/blog/como-falar-melhor-em-apresentacao-de-dados/',\n",
      " 'url_pagina': 'https://www.igti.com.br/blog/',\n",
      " 'visualizacoes_artigo': 60}\n",
      "{'_id': ObjectId('5f88cd747ff92c9fb7ba71e8'),\n",
      " 'categoria_URL': ['https://www.igti.com.br/blog/category/cloud-computing/',\n",
      "                   'https://www.igti.com.br/blog/category/webinar/'],\n",
      " 'categoria_artigo': ['CLOUD COMPUTING', 'Webinar'],\n",
      " 'comentarios_artigo': 0,\n",
      " 'dtPostagem_artigo': '3 semanas atrás',\n",
      " 'titulo_artigo': 'Profissional de Cloud Computing: uma carreira de futuro!',\n",
      " 'titulo_pagina': ' IGTI Blog',\n",
      " 'url_artigo': 'https://www.igti.com.br/blog/profissional-de-cloud-computing-uma-carreira-de-futuro/',\n",
      " 'url_pagina': 'https://www.igti.com.br/blog/',\n",
      " 'visualizacoes_artigo': 200}\n",
      "{'_id': ObjectId('5f88cd747ff92c9fb7ba71e9'),\n",
      " 'categoria_URL': ['https://www.igti.com.br/blog/category/data-universe/',\n",
      "                   'https://www.igti.com.br/blog/category/igti-na-midia/'],\n",
      " 'categoria_artigo': ['Data Universe', 'IGTI NA MÍDIA'],\n",
      " 'comentarios_artigo': 0,\n",
      " 'dtPostagem_artigo': '3 semanas atrás',\n",
      " 'titulo_artigo': 'Data Universe',\n",
      " 'titulo_pagina': ' IGTI Blog',\n",
      " 'url_artigo': 'https://www.igti.com.br/blog/data-universe/',\n",
      " 'url_pagina': 'https://www.igti.com.br/blog/',\n",
      " 'visualizacoes_artigo': 77}\n",
      "{'_id': ObjectId('5f88cd747ff92c9fb7ba71ea'),\n",
      " 'categoria_URL': ['https://www.igti.com.br/blog/category/data-science/',\n",
      "                   'https://www.igti.com.br/blog/category/data-universe/'],\n",
      " 'categoria_artigo': ['DATA SCIENCE', 'Data Universe'],\n",
      " 'comentarios_artigo': 0,\n",
      " 'dtPostagem_artigo': '4 semanas atrás',\n",
      " 'titulo_artigo': 'Como transformar as organizações para serem orientadas a '\n",
      "                  'dados',\n",
      " 'titulo_pagina': ' IGTI Blog',\n",
      " 'url_artigo': 'https://www.igti.com.br/blog/como-transformar-as-organizacoes-para-serem-orientadas-a-dados/',\n",
      " 'url_pagina': 'https://www.igti.com.br/blog/',\n",
      " 'visualizacoes_artigo': 42}\n",
      "{'_id': ObjectId('5f88cd747ff92c9fb7ba71eb'),\n",
      " 'categoria_URL': ['https://www.igti.com.br/blog/category/agile/',\n",
      "                   'https://www.igti.com.br/blog/category/webinar/'],\n",
      " 'categoria_artigo': ['AGILE', 'Webinar'],\n",
      " 'comentarios_artigo': 0,\n",
      " 'dtPostagem_artigo': '4 semanas atrás',\n",
      " 'titulo_artigo': 'Framework Ágil',\n",
      " 'titulo_pagina': ' IGTI Blog',\n",
      " 'url_artigo': 'https://www.igti.com.br/blog/framework-agil/',\n",
      " 'url_pagina': 'https://www.igti.com.br/blog/',\n",
      " 'visualizacoes_artigo': 67}\n"
     ]
    }
   ],
   "source": [
    "documentos = collection.find() #retornar todos os documentos\n",
    "for doc in documentos :\n",
    "    pprint.pprint(doc)"
   ]
  },
  {
   "cell_type": "code",
   "execution_count": 24,
   "metadata": {},
   "outputs": [
    {
     "name": "stdout",
     "output_type": "stream",
     "text": [
      "{'_id': ObjectId('5f88cd747ff92c9fb7ba71df'),\n",
      " 'categoria_artigo': 'DEVELOPMENT',\n",
      " 'titulo_artigo': 'O que faz um Desenvolvedor Full Stack?'}\n",
      "{'_id': ObjectId('5f88cd747ff92c9fb7ba71e0'),\n",
      " 'categoria_artigo': 'DATA SCIENCE',\n",
      " 'titulo_artigo': 'Cientista de Dados: o novo profissional que o mercado '\n",
      "                  'procura'}\n",
      "{'_id': ObjectId('5f88cd747ff92c9fb7ba71e1'),\n",
      " 'categoria_artigo': 'DEVELOPMENT',\n",
      " 'titulo_artigo': '5 motivos para você aprender SQL'}\n",
      "{'_id': ObjectId('5f88cd747ff92c9fb7ba71e2'),\n",
      " 'categoria_artigo': 'INTELIGÊNCIA ARTIFICIAL',\n",
      " 'titulo_artigo': 'A carreira dos profissionais de Ciência de Dados, '\n",
      "                  'Engenharia de Dados e Machine Learning'}\n",
      "{'_id': ObjectId('5f88cd747ff92c9fb7ba71e3'),\n",
      " 'categoria_artigo': 'DATA ANALYTICS',\n",
      " 'titulo_artigo': 'A carreira de um Analista de Business Intelligence'}\n",
      "{'_id': ObjectId('5f88cd747ff92c9fb7ba71e4'),\n",
      " 'categoria_artigo': ['INTELIGÊNCIA ARTIFICIAL', 'Webinar'],\n",
      " 'titulo_artigo': 'Algoritmos não-supervisionados: Segmentação de Clientes'}\n",
      "{'_id': ObjectId('5f88cd747ff92c9fb7ba71e5'),\n",
      " 'categoria_artigo': ['DEVELOPMENT', 'Webinar'],\n",
      " 'titulo_artigo': 'Front End: Qual a melhor ferramenta?'}\n",
      "{'_id': ObjectId('5f88cd747ff92c9fb7ba71e6'),\n",
      " 'categoria_artigo': ['DATA SCIENCE', 'Data Universe'],\n",
      " 'titulo_artigo': 'Indústria 4.0: Empreendedorismo, Big Data e Inteligência '\n",
      "                  'Artificial'}\n",
      "{'_id': ObjectId('5f88cd747ff92c9fb7ba71e7'),\n",
      " 'categoria_artigo': ['DATA SCIENCE', 'Data Universe'],\n",
      " 'titulo_artigo': 'Como Falar Melhor em Apresentação de Dados'}\n",
      "{'_id': ObjectId('5f88cd747ff92c9fb7ba71e8'),\n",
      " 'categoria_artigo': ['CLOUD COMPUTING', 'Webinar'],\n",
      " 'titulo_artigo': 'Profissional de Cloud Computing: uma carreira de futuro!'}\n",
      "{'_id': ObjectId('5f88cd747ff92c9fb7ba71e9'),\n",
      " 'categoria_artigo': ['Data Universe', 'IGTI NA MÍDIA'],\n",
      " 'titulo_artigo': 'Data Universe'}\n",
      "{'_id': ObjectId('5f88cd747ff92c9fb7ba71ea'),\n",
      " 'categoria_artigo': ['DATA SCIENCE', 'Data Universe'],\n",
      " 'titulo_artigo': 'Como transformar as organizações para serem orientadas a '\n",
      "                  'dados'}\n",
      "{'_id': ObjectId('5f88cd747ff92c9fb7ba71eb'),\n",
      " 'categoria_artigo': ['AGILE', 'Webinar'],\n",
      " 'titulo_artigo': 'Framework Ágil'}\n"
     ]
    }
   ],
   "source": [
    "documentos = collection.find({},{'categoria_artigo', 'titulo_artigo'}) #selecionar atributos para serem exibidos\n",
    "for doc in documentos :\n",
    "    pprint.pprint(doc)"
   ]
  },
  {
   "cell_type": "code",
   "execution_count": 25,
   "metadata": {},
   "outputs": [
    {
     "name": "stdout",
     "output_type": "stream",
     "text": [
      "{'_id': ObjectId('5f88cd747ff92c9fb7ba71e0'),\n",
      " 'categoria_artigo': 'DATA SCIENCE',\n",
      " 'titulo_artigo': 'Cientista de Dados: o novo profissional que o mercado '\n",
      "                  'procura'}\n",
      "{'_id': ObjectId('5f88cd747ff92c9fb7ba71e6'),\n",
      " 'categoria_artigo': ['DATA SCIENCE', 'Data Universe'],\n",
      " 'titulo_artigo': 'Indústria 4.0: Empreendedorismo, Big Data e Inteligência '\n",
      "                  'Artificial'}\n",
      "{'_id': ObjectId('5f88cd747ff92c9fb7ba71e7'),\n",
      " 'categoria_artigo': ['DATA SCIENCE', 'Data Universe'],\n",
      " 'titulo_artigo': 'Como Falar Melhor em Apresentação de Dados'}\n",
      "{'_id': ObjectId('5f88cd747ff92c9fb7ba71ea'),\n",
      " 'categoria_artigo': ['DATA SCIENCE', 'Data Universe'],\n",
      " 'titulo_artigo': 'Como transformar as organizações para serem orientadas a '\n",
      "                  'dados'}\n"
     ]
    }
   ],
   "source": [
    "documentos = collection.find({'categoria_artigo':'DATA SCIENCE'},{'categoria_artigo', 'titulo_artigo'}) \n",
    "for doc in documentos :\n",
    "    pprint.pprint(doc)"
   ]
  },
  {
   "cell_type": "code",
   "execution_count": 26,
   "metadata": {},
   "outputs": [
    {
     "name": "stdout",
     "output_type": "stream",
     "text": [
      "{'_id': ObjectId('5f88cd747ff92c9fb7ba71e0'),\n",
      " 'categoria_URL': 'https://www.igti.com.br/blog/category/data-science/',\n",
      " 'categoria_artigo': 'DATA SCIENCE',\n",
      " 'comentarios_artigo': 7,\n",
      " 'dtPostagem_artigo': '12 de abril de 2017',\n",
      " 'titulo_artigo': 'Cientista de Dados: o novo profissional que o mercado '\n",
      "                  'procura',\n",
      " 'titulo_pagina': ' IGTI Blog',\n",
      " 'url_artigo': 'https://www.igti.com.br/blog/carreira-ti-big-data/',\n",
      " 'url_pagina': 'https://www.igti.com.br/blog/',\n",
      " 'visualizacoes_artigo': 34684}\n",
      "{'_id': ObjectId('5f88cd747ff92c9fb7ba71e6'),\n",
      " 'categoria_URL': ['https://www.igti.com.br/blog/category/data-science/',\n",
      "                   'https://www.igti.com.br/blog/category/data-universe/'],\n",
      " 'categoria_artigo': ['DATA SCIENCE', 'Data Universe'],\n",
      " 'comentarios_artigo': 0,\n",
      " 'dtPostagem_artigo': '3 semanas atrás',\n",
      " 'titulo_artigo': 'Indústria 4.0: Empreendedorismo, Big Data e Inteligência '\n",
      "                  'Artificial',\n",
      " 'titulo_pagina': ' IGTI Blog',\n",
      " 'url_artigo': 'https://www.igti.com.br/blog/industria-4-0-empreendedorismo-big-data-e-inteligencia-artificial/',\n",
      " 'url_pagina': 'https://www.igti.com.br/blog/',\n",
      " 'visualizacoes_artigo': 190}\n",
      "{'_id': ObjectId('5f88cd747ff92c9fb7ba71e7'),\n",
      " 'categoria_URL': ['https://www.igti.com.br/blog/category/data-science/',\n",
      "                   'https://www.igti.com.br/blog/category/data-universe/'],\n",
      " 'categoria_artigo': ['DATA SCIENCE', 'Data Universe'],\n",
      " 'comentarios_artigo': 0,\n",
      " 'dtPostagem_artigo': '3 semanas atrás',\n",
      " 'titulo_artigo': 'Como Falar Melhor em Apresentação de Dados',\n",
      " 'titulo_pagina': ' IGTI Blog',\n",
      " 'url_artigo': 'https://www.igti.com.br/blog/como-falar-melhor-em-apresentacao-de-dados/',\n",
      " 'url_pagina': 'https://www.igti.com.br/blog/',\n",
      " 'visualizacoes_artigo': 60}\n",
      "{'_id': ObjectId('5f88cd747ff92c9fb7ba71ea'),\n",
      " 'categoria_URL': ['https://www.igti.com.br/blog/category/data-science/',\n",
      "                   'https://www.igti.com.br/blog/category/data-universe/'],\n",
      " 'categoria_artigo': ['DATA SCIENCE', 'Data Universe'],\n",
      " 'comentarios_artigo': 0,\n",
      " 'dtPostagem_artigo': '4 semanas atrás',\n",
      " 'titulo_artigo': 'Como transformar as organizações para serem orientadas a '\n",
      "                  'dados',\n",
      " 'titulo_pagina': ' IGTI Blog',\n",
      " 'url_artigo': 'https://www.igti.com.br/blog/como-transformar-as-organizacoes-para-serem-orientadas-a-dados/',\n",
      " 'url_pagina': 'https://www.igti.com.br/blog/',\n",
      " 'visualizacoes_artigo': 42}\n"
     ]
    }
   ],
   "source": [
    "documentos = collection.find({'categoria_artigo':'DATA SCIENCE'})\n",
    "for doc in documentos :\n",
    "    pprint.pprint(doc)"
   ]
  },
  {
   "cell_type": "code",
   "execution_count": 27,
   "metadata": {},
   "outputs": [
    {
     "name": "stdout",
     "output_type": "stream",
     "text": [
      "{'_id': ObjectId('5f88cd747ff92c9fb7ba71e0'),\n",
      " 'categoria_URL': 'https://www.igti.com.br/blog/category/data-science/',\n",
      " 'categoria_artigo': 'DATA SCIENCE',\n",
      " 'comentarios_artigo': 7,\n",
      " 'dtPostagem_artigo': '12 de abril de 2017',\n",
      " 'titulo_artigo': 'Cientista de Dados: o novo profissional que o mercado '\n",
      "                  'procura',\n",
      " 'titulo_pagina': ' IGTI Blog',\n",
      " 'url_artigo': 'https://www.igti.com.br/blog/carreira-ti-big-data/',\n",
      " 'url_pagina': 'https://www.igti.com.br/blog/',\n",
      " 'visualizacoes_artigo': 34684}\n",
      "{'_id': ObjectId('5f88cd747ff92c9fb7ba71e6'),\n",
      " 'categoria_URL': ['https://www.igti.com.br/blog/category/data-science/',\n",
      "                   'https://www.igti.com.br/blog/category/data-universe/'],\n",
      " 'categoria_artigo': ['DATA SCIENCE', 'Data Universe'],\n",
      " 'comentarios_artigo': 0,\n",
      " 'dtPostagem_artigo': '3 semanas atrás',\n",
      " 'titulo_artigo': 'Indústria 4.0: Empreendedorismo, Big Data e Inteligência '\n",
      "                  'Artificial',\n",
      " 'titulo_pagina': ' IGTI Blog',\n",
      " 'url_artigo': 'https://www.igti.com.br/blog/industria-4-0-empreendedorismo-big-data-e-inteligencia-artificial/',\n",
      " 'url_pagina': 'https://www.igti.com.br/blog/',\n",
      " 'visualizacoes_artigo': 190}\n"
     ]
    }
   ],
   "source": [
    "documentos = collection.find({'categoria_artigo':'DATA SCIENCE'}).limit(2)\n",
    "for doc in documentos :\n",
    "    pprint.pprint(doc)"
   ]
  },
  {
   "cell_type": "code",
   "execution_count": 28,
   "metadata": {},
   "outputs": [
    {
     "data": {
      "text/plain": [
       "['AGILE',\n",
       " 'CLOUD COMPUTING',\n",
       " 'DATA ANALYTICS',\n",
       " 'DATA SCIENCE',\n",
       " 'DEVELOPMENT',\n",
       " 'Data Universe',\n",
       " 'IGTI NA MÍDIA',\n",
       " 'INTELIGÊNCIA ARTIFICIAL',\n",
       " 'Webinar']"
      ]
     },
     "execution_count": 28,
     "metadata": {},
     "output_type": "execute_result"
    }
   ],
   "source": [
    "collection.distinct('categoria_artigo') #Para consultar os valores distintos de um atributo existente nos documentos de uma coleção"
   ]
  },
  {
   "cell_type": "markdown",
   "metadata": {},
   "source": [
    "### Ordenação"
   ]
  },
  {
   "cell_type": "code",
   "execution_count": 29,
   "metadata": {},
   "outputs": [
    {
     "name": "stdout",
     "output_type": "stream",
     "text": [
      "{'_id': ObjectId('5f88cd747ff92c9fb7ba71e6'),\n",
      " 'categoria_URL': ['https://www.igti.com.br/blog/category/data-science/',\n",
      "                   'https://www.igti.com.br/blog/category/data-universe/'],\n",
      " 'categoria_artigo': ['DATA SCIENCE', 'Data Universe'],\n",
      " 'comentarios_artigo': 0,\n",
      " 'dtPostagem_artigo': '3 semanas atrás',\n",
      " 'titulo_artigo': 'Indústria 4.0: Empreendedorismo, Big Data e Inteligência '\n",
      "                  'Artificial',\n",
      " 'titulo_pagina': ' IGTI Blog',\n",
      " 'url_artigo': 'https://www.igti.com.br/blog/industria-4-0-empreendedorismo-big-data-e-inteligencia-artificial/',\n",
      " 'url_pagina': 'https://www.igti.com.br/blog/',\n",
      " 'visualizacoes_artigo': 190}\n",
      "{'_id': ObjectId('5f88cd747ff92c9fb7ba71ea'),\n",
      " 'categoria_URL': ['https://www.igti.com.br/blog/category/data-science/',\n",
      "                   'https://www.igti.com.br/blog/category/data-universe/'],\n",
      " 'categoria_artigo': ['DATA SCIENCE', 'Data Universe'],\n",
      " 'comentarios_artigo': 0,\n",
      " 'dtPostagem_artigo': '4 semanas atrás',\n",
      " 'titulo_artigo': 'Como transformar as organizações para serem orientadas a '\n",
      "                  'dados',\n",
      " 'titulo_pagina': ' IGTI Blog',\n",
      " 'url_artigo': 'https://www.igti.com.br/blog/como-transformar-as-organizacoes-para-serem-orientadas-a-dados/',\n",
      " 'url_pagina': 'https://www.igti.com.br/blog/',\n",
      " 'visualizacoes_artigo': 42}\n",
      "{'_id': ObjectId('5f88cd747ff92c9fb7ba71e7'),\n",
      " 'categoria_URL': ['https://www.igti.com.br/blog/category/data-science/',\n",
      "                   'https://www.igti.com.br/blog/category/data-universe/'],\n",
      " 'categoria_artigo': ['DATA SCIENCE', 'Data Universe'],\n",
      " 'comentarios_artigo': 0,\n",
      " 'dtPostagem_artigo': '3 semanas atrás',\n",
      " 'titulo_artigo': 'Como Falar Melhor em Apresentação de Dados',\n",
      " 'titulo_pagina': ' IGTI Blog',\n",
      " 'url_artigo': 'https://www.igti.com.br/blog/como-falar-melhor-em-apresentacao-de-dados/',\n",
      " 'url_pagina': 'https://www.igti.com.br/blog/',\n",
      " 'visualizacoes_artigo': 60}\n",
      "{'_id': ObjectId('5f88cd747ff92c9fb7ba71e0'),\n",
      " 'categoria_URL': 'https://www.igti.com.br/blog/category/data-science/',\n",
      " 'categoria_artigo': 'DATA SCIENCE',\n",
      " 'comentarios_artigo': 7,\n",
      " 'dtPostagem_artigo': '12 de abril de 2017',\n",
      " 'titulo_artigo': 'Cientista de Dados: o novo profissional que o mercado '\n",
      "                  'procura',\n",
      " 'titulo_pagina': ' IGTI Blog',\n",
      " 'url_artigo': 'https://www.igti.com.br/blog/carreira-ti-big-data/',\n",
      " 'url_pagina': 'https://www.igti.com.br/blog/',\n",
      " 'visualizacoes_artigo': 34684}\n"
     ]
    }
   ],
   "source": [
    "documentos = collection.find({'categoria_artigo':'DATA SCIENCE'}).sort('titulo_artigo', -1) #order by titulo_artigo desc\n",
    "for doc in documentos :\n",
    "    pprint.pprint(doc)"
   ]
  },
  {
   "cell_type": "code",
   "execution_count": 30,
   "metadata": {},
   "outputs": [
    {
     "name": "stdout",
     "output_type": "stream",
     "text": [
      "{'_id': ObjectId('5f88cd747ff92c9fb7ba71e0'),\n",
      " 'categoria_URL': 'https://www.igti.com.br/blog/category/data-science/',\n",
      " 'categoria_artigo': 'DATA SCIENCE',\n",
      " 'comentarios_artigo': 7,\n",
      " 'dtPostagem_artigo': '12 de abril de 2017',\n",
      " 'titulo_artigo': 'Cientista de Dados: o novo profissional que o mercado '\n",
      "                  'procura',\n",
      " 'titulo_pagina': ' IGTI Blog',\n",
      " 'url_artigo': 'https://www.igti.com.br/blog/carreira-ti-big-data/',\n",
      " 'url_pagina': 'https://www.igti.com.br/blog/',\n",
      " 'visualizacoes_artigo': 34684}\n",
      "{'_id': ObjectId('5f88cd747ff92c9fb7ba71e7'),\n",
      " 'categoria_URL': ['https://www.igti.com.br/blog/category/data-science/',\n",
      "                   'https://www.igti.com.br/blog/category/data-universe/'],\n",
      " 'categoria_artigo': ['DATA SCIENCE', 'Data Universe'],\n",
      " 'comentarios_artigo': 0,\n",
      " 'dtPostagem_artigo': '3 semanas atrás',\n",
      " 'titulo_artigo': 'Como Falar Melhor em Apresentação de Dados',\n",
      " 'titulo_pagina': ' IGTI Blog',\n",
      " 'url_artigo': 'https://www.igti.com.br/blog/como-falar-melhor-em-apresentacao-de-dados/',\n",
      " 'url_pagina': 'https://www.igti.com.br/blog/',\n",
      " 'visualizacoes_artigo': 60}\n",
      "{'_id': ObjectId('5f88cd747ff92c9fb7ba71ea'),\n",
      " 'categoria_URL': ['https://www.igti.com.br/blog/category/data-science/',\n",
      "                   'https://www.igti.com.br/blog/category/data-universe/'],\n",
      " 'categoria_artigo': ['DATA SCIENCE', 'Data Universe'],\n",
      " 'comentarios_artigo': 0,\n",
      " 'dtPostagem_artigo': '4 semanas atrás',\n",
      " 'titulo_artigo': 'Como transformar as organizações para serem orientadas a '\n",
      "                  'dados',\n",
      " 'titulo_pagina': ' IGTI Blog',\n",
      " 'url_artigo': 'https://www.igti.com.br/blog/como-transformar-as-organizacoes-para-serem-orientadas-a-dados/',\n",
      " 'url_pagina': 'https://www.igti.com.br/blog/',\n",
      " 'visualizacoes_artigo': 42}\n",
      "{'_id': ObjectId('5f88cd747ff92c9fb7ba71e6'),\n",
      " 'categoria_URL': ['https://www.igti.com.br/blog/category/data-science/',\n",
      "                   'https://www.igti.com.br/blog/category/data-universe/'],\n",
      " 'categoria_artigo': ['DATA SCIENCE', 'Data Universe'],\n",
      " 'comentarios_artigo': 0,\n",
      " 'dtPostagem_artigo': '3 semanas atrás',\n",
      " 'titulo_artigo': 'Indústria 4.0: Empreendedorismo, Big Data e Inteligência '\n",
      "                  'Artificial',\n",
      " 'titulo_pagina': ' IGTI Blog',\n",
      " 'url_artigo': 'https://www.igti.com.br/blog/industria-4-0-empreendedorismo-big-data-e-inteligencia-artificial/',\n",
      " 'url_pagina': 'https://www.igti.com.br/blog/',\n",
      " 'visualizacoes_artigo': 190}\n"
     ]
    }
   ],
   "source": [
    "documentos = collection.find({'categoria_artigo':'DATA SCIENCE'}).sort('titulo_artigo', 1)\n",
    "for doc in documentos :\n",
    "    pprint.pprint(doc)"
   ]
  },
  {
   "cell_type": "markdown",
   "metadata": {},
   "source": [
    "Operadores:\n",
    "- \\$and – operador lógico AND\n",
    "- \\$or – operador lógico OR\n",
    "- \\$not – operador lógico NOT\n",
    "- \\$gt = maior que\n",
    "- \\$lt = menor que\n",
    "- \\$gte = maior ou igual\n",
    "- \\$lte = menor ou igual\n",
    "- \\$ne = diferente de\n",
    "- \\$in = todos os documentos cujo atributo possui um dos valores especificados (no SQL operador IN)\n",
    "- \\$nin = todos os documentos cujo atributo não possui um dos valores especificados (no SQL operador NOT IN)\n"
   ]
  },
  {
   "cell_type": "code",
   "execution_count": 31,
   "metadata": {},
   "outputs": [
    {
     "name": "stdout",
     "output_type": "stream",
     "text": [
      "{'_id': ObjectId('5f88cd747ff92c9fb7ba71df'),\n",
      " 'categoria_URL': 'https://www.igti.com.br/blog/category/development/',\n",
      " 'categoria_artigo': 'DEVELOPMENT',\n",
      " 'comentarios_artigo': 0,\n",
      " 'dtPostagem_artigo': '13 de junho de 2018',\n",
      " 'titulo_artigo': 'O que faz um Desenvolvedor Full Stack?',\n",
      " 'titulo_pagina': ' IGTI Blog',\n",
      " 'url_artigo': 'https://www.igti.com.br/blog/o-que-faz-um-desenvolvedor-full-stack/',\n",
      " 'url_pagina': 'https://www.igti.com.br/blog/',\n",
      " 'visualizacoes_artigo': 39963}\n",
      "{'_id': ObjectId('5f88cd747ff92c9fb7ba71e0'),\n",
      " 'categoria_URL': 'https://www.igti.com.br/blog/category/data-science/',\n",
      " 'categoria_artigo': 'DATA SCIENCE',\n",
      " 'comentarios_artigo': 7,\n",
      " 'dtPostagem_artigo': '12 de abril de 2017',\n",
      " 'titulo_artigo': 'Cientista de Dados: o novo profissional que o mercado '\n",
      "                  'procura',\n",
      " 'titulo_pagina': ' IGTI Blog',\n",
      " 'url_artigo': 'https://www.igti.com.br/blog/carreira-ti-big-data/',\n",
      " 'url_pagina': 'https://www.igti.com.br/blog/',\n",
      " 'visualizacoes_artigo': 34684}\n",
      "{'_id': ObjectId('5f88cd747ff92c9fb7ba71e1'),\n",
      " 'categoria_URL': 'https://www.igti.com.br/blog/category/development/',\n",
      " 'categoria_artigo': 'DEVELOPMENT',\n",
      " 'comentarios_artigo': 2,\n",
      " 'dtPostagem_artigo': '22 de novembro de 2017',\n",
      " 'titulo_artigo': '5 motivos para você aprender SQL',\n",
      " 'titulo_pagina': ' IGTI Blog',\n",
      " 'url_artigo': 'https://www.igti.com.br/blog/5-motivos-para-voce-aprender-sql/',\n",
      " 'url_pagina': 'https://www.igti.com.br/blog/',\n",
      " 'visualizacoes_artigo': 29820}\n",
      "{'_id': ObjectId('5f88cd747ff92c9fb7ba71e2'),\n",
      " 'categoria_URL': 'https://www.igti.com.br/blog/category/inteligencia-artificial/',\n",
      " 'categoria_artigo': 'INTELIGÊNCIA ARTIFICIAL',\n",
      " 'comentarios_artigo': 0,\n",
      " 'dtPostagem_artigo': '10 de julho de 2017',\n",
      " 'titulo_artigo': 'A carreira dos profissionais de Ciência de Dados, '\n",
      "                  'Engenharia de Dados e Machine Learning',\n",
      " 'titulo_pagina': ' IGTI Blog',\n",
      " 'url_artigo': 'https://www.igti.com.br/blog/carreira-big-data-engenharia-dados-machine-learning/',\n",
      " 'url_pagina': 'https://www.igti.com.br/blog/',\n",
      " 'visualizacoes_artigo': 27971}\n",
      "{'_id': ObjectId('5f88cd747ff92c9fb7ba71e3'),\n",
      " 'categoria_URL': 'https://www.igti.com.br/blog/category/data-analytics/',\n",
      " 'categoria_artigo': 'DATA ANALYTICS',\n",
      " 'comentarios_artigo': 8,\n",
      " 'dtPostagem_artigo': '4 de maio de 2017',\n",
      " 'titulo_artigo': 'A carreira de um Analista de Business Intelligence',\n",
      " 'titulo_pagina': ' IGTI Blog',\n",
      " 'url_artigo': 'https://www.igti.com.br/blog/carreira-inteligencia-negocios/',\n",
      " 'url_pagina': 'https://www.igti.com.br/blog/',\n",
      " 'visualizacoes_artigo': 27384}\n",
      "{'_id': ObjectId('5f88cd747ff92c9fb7ba71e8'),\n",
      " 'categoria_URL': ['https://www.igti.com.br/blog/category/cloud-computing/',\n",
      "                   'https://www.igti.com.br/blog/category/webinar/'],\n",
      " 'categoria_artigo': ['CLOUD COMPUTING', 'Webinar'],\n",
      " 'comentarios_artigo': 0,\n",
      " 'dtPostagem_artigo': '3 semanas atrás',\n",
      " 'titulo_artigo': 'Profissional de Cloud Computing: uma carreira de futuro!',\n",
      " 'titulo_pagina': ' IGTI Blog',\n",
      " 'url_artigo': 'https://www.igti.com.br/blog/profissional-de-cloud-computing-uma-carreira-de-futuro/',\n",
      " 'url_pagina': 'https://www.igti.com.br/blog/',\n",
      " 'visualizacoes_artigo': 200}\n",
      "{'_id': ObjectId('5f88cd747ff92c9fb7ba71e6'),\n",
      " 'categoria_URL': ['https://www.igti.com.br/blog/category/data-science/',\n",
      "                   'https://www.igti.com.br/blog/category/data-universe/'],\n",
      " 'categoria_artigo': ['DATA SCIENCE', 'Data Universe'],\n",
      " 'comentarios_artigo': 0,\n",
      " 'dtPostagem_artigo': '3 semanas atrás',\n",
      " 'titulo_artigo': 'Indústria 4.0: Empreendedorismo, Big Data e Inteligência '\n",
      "                  'Artificial',\n",
      " 'titulo_pagina': ' IGTI Blog',\n",
      " 'url_artigo': 'https://www.igti.com.br/blog/industria-4-0-empreendedorismo-big-data-e-inteligencia-artificial/',\n",
      " 'url_pagina': 'https://www.igti.com.br/blog/',\n",
      " 'visualizacoes_artigo': 190}\n",
      "{'_id': ObjectId('5f88cd747ff92c9fb7ba71e9'),\n",
      " 'categoria_URL': ['https://www.igti.com.br/blog/category/data-universe/',\n",
      "                   'https://www.igti.com.br/blog/category/igti-na-midia/'],\n",
      " 'categoria_artigo': ['Data Universe', 'IGTI NA MÍDIA'],\n",
      " 'comentarios_artigo': 0,\n",
      " 'dtPostagem_artigo': '3 semanas atrás',\n",
      " 'titulo_artigo': 'Data Universe',\n",
      " 'titulo_pagina': ' IGTI Blog',\n",
      " 'url_artigo': 'https://www.igti.com.br/blog/data-universe/',\n",
      " 'url_pagina': 'https://www.igti.com.br/blog/',\n",
      " 'visualizacoes_artigo': 77}\n",
      "{'_id': ObjectId('5f88cd747ff92c9fb7ba71eb'),\n",
      " 'categoria_URL': ['https://www.igti.com.br/blog/category/agile/',\n",
      "                   'https://www.igti.com.br/blog/category/webinar/'],\n",
      " 'categoria_artigo': ['AGILE', 'Webinar'],\n",
      " 'comentarios_artigo': 0,\n",
      " 'dtPostagem_artigo': '4 semanas atrás',\n",
      " 'titulo_artigo': 'Framework Ágil',\n",
      " 'titulo_pagina': ' IGTI Blog',\n",
      " 'url_artigo': 'https://www.igti.com.br/blog/framework-agil/',\n",
      " 'url_pagina': 'https://www.igti.com.br/blog/',\n",
      " 'visualizacoes_artigo': 67}\n",
      "{'_id': ObjectId('5f88cd747ff92c9fb7ba71e7'),\n",
      " 'categoria_URL': ['https://www.igti.com.br/blog/category/data-science/',\n",
      "                   'https://www.igti.com.br/blog/category/data-universe/'],\n",
      " 'categoria_artigo': ['DATA SCIENCE', 'Data Universe'],\n",
      " 'comentarios_artigo': 0,\n",
      " 'dtPostagem_artigo': '3 semanas atrás',\n",
      " 'titulo_artigo': 'Como Falar Melhor em Apresentação de Dados',\n",
      " 'titulo_pagina': ' IGTI Blog',\n",
      " 'url_artigo': 'https://www.igti.com.br/blog/como-falar-melhor-em-apresentacao-de-dados/',\n",
      " 'url_pagina': 'https://www.igti.com.br/blog/',\n",
      " 'visualizacoes_artigo': 60}\n",
      "{'_id': ObjectId('5f88cd747ff92c9fb7ba71e5'),\n",
      " 'categoria_URL': ['https://www.igti.com.br/blog/category/development/',\n",
      "                   'https://www.igti.com.br/blog/category/webinar/'],\n",
      " 'categoria_artigo': ['DEVELOPMENT', 'Webinar'],\n",
      " 'comentarios_artigo': 0,\n",
      " 'dtPostagem_artigo': '5 dias atrás',\n",
      " 'titulo_artigo': 'Front End: Qual a melhor ferramenta?',\n",
      " 'titulo_pagina': ' IGTI Blog',\n",
      " 'url_artigo': 'https://www.igti.com.br/blog/front-end-qual-a-melhor-ferramenta/',\n",
      " 'url_pagina': 'https://www.igti.com.br/blog/',\n",
      " 'visualizacoes_artigo': 48}\n",
      "{'_id': ObjectId('5f88cd747ff92c9fb7ba71ea'),\n",
      " 'categoria_URL': ['https://www.igti.com.br/blog/category/data-science/',\n",
      "                   'https://www.igti.com.br/blog/category/data-universe/'],\n",
      " 'categoria_artigo': ['DATA SCIENCE', 'Data Universe'],\n",
      " 'comentarios_artigo': 0,\n",
      " 'dtPostagem_artigo': '4 semanas atrás',\n",
      " 'titulo_artigo': 'Como transformar as organizações para serem orientadas a '\n",
      "                  'dados',\n",
      " 'titulo_pagina': ' IGTI Blog',\n",
      " 'url_artigo': 'https://www.igti.com.br/blog/como-transformar-as-organizacoes-para-serem-orientadas-a-dados/',\n",
      " 'url_pagina': 'https://www.igti.com.br/blog/',\n",
      " 'visualizacoes_artigo': 42}\n",
      "{'_id': ObjectId('5f88cd747ff92c9fb7ba71e4'),\n",
      " 'categoria_URL': ['https://www.igti.com.br/blog/category/inteligencia-artificial/',\n",
      "                   'https://www.igti.com.br/blog/category/webinar/'],\n",
      " 'categoria_artigo': ['INTELIGÊNCIA ARTIFICIAL', 'Webinar'],\n",
      " 'comentarios_artigo': 0,\n",
      " 'dtPostagem_artigo': '7 horas atrás',\n",
      " 'titulo_artigo': 'Algoritmos não-supervisionados: Segmentação de Clientes',\n",
      " 'titulo_pagina': ' IGTI Blog',\n",
      " 'url_artigo': 'https://www.igti.com.br/blog/algoritmos-nao-supervisionados-segmentacao-de-clientes/',\n",
      " 'url_pagina': 'https://www.igti.com.br/blog/',\n",
      " 'visualizacoes_artigo': 9}\n"
     ]
    }
   ],
   "source": [
    "documentos = collection.find().sort('visualizacoes_artigo', -1)\n",
    "for doc in documentos :\n",
    "    pprint.pprint(doc)"
   ]
  },
  {
   "cell_type": "code",
   "execution_count": 32,
   "metadata": {},
   "outputs": [
    {
     "name": "stdout",
     "output_type": "stream",
     "text": [
      "{'_id': ObjectId('5f88cd747ff92c9fb7ba71e6'),\n",
      " 'categoria_URL': ['https://www.igti.com.br/blog/category/data-science/',\n",
      "                   'https://www.igti.com.br/blog/category/data-universe/'],\n",
      " 'categoria_artigo': ['DATA SCIENCE', 'Data Universe'],\n",
      " 'comentarios_artigo': 0,\n",
      " 'dtPostagem_artigo': '3 semanas atrás',\n",
      " 'titulo_artigo': 'Indústria 4.0: Empreendedorismo, Big Data e Inteligência '\n",
      "                  'Artificial',\n",
      " 'titulo_pagina': ' IGTI Blog',\n",
      " 'url_artigo': 'https://www.igti.com.br/blog/industria-4-0-empreendedorismo-big-data-e-inteligencia-artificial/',\n",
      " 'url_pagina': 'https://www.igti.com.br/blog/',\n",
      " 'visualizacoes_artigo': 190}\n",
      "{'_id': ObjectId('5f88cd747ff92c9fb7ba71e7'),\n",
      " 'categoria_URL': ['https://www.igti.com.br/blog/category/data-science/',\n",
      "                   'https://www.igti.com.br/blog/category/data-universe/'],\n",
      " 'categoria_artigo': ['DATA SCIENCE', 'Data Universe'],\n",
      " 'comentarios_artigo': 0,\n",
      " 'dtPostagem_artigo': '3 semanas atrás',\n",
      " 'titulo_artigo': 'Como Falar Melhor em Apresentação de Dados',\n",
      " 'titulo_pagina': ' IGTI Blog',\n",
      " 'url_artigo': 'https://www.igti.com.br/blog/como-falar-melhor-em-apresentacao-de-dados/',\n",
      " 'url_pagina': 'https://www.igti.com.br/blog/',\n",
      " 'visualizacoes_artigo': 60}\n",
      "{'_id': ObjectId('5f88cd747ff92c9fb7ba71ea'),\n",
      " 'categoria_URL': ['https://www.igti.com.br/blog/category/data-science/',\n",
      "                   'https://www.igti.com.br/blog/category/data-universe/'],\n",
      " 'categoria_artigo': ['DATA SCIENCE', 'Data Universe'],\n",
      " 'comentarios_artigo': 0,\n",
      " 'dtPostagem_artigo': '4 semanas atrás',\n",
      " 'titulo_artigo': 'Como transformar as organizações para serem orientadas a '\n",
      "                  'dados',\n",
      " 'titulo_pagina': ' IGTI Blog',\n",
      " 'url_artigo': 'https://www.igti.com.br/blog/como-transformar-as-organizacoes-para-serem-orientadas-a-dados/',\n",
      " 'url_pagina': 'https://www.igti.com.br/blog/',\n",
      " 'visualizacoes_artigo': 42}\n"
     ]
    }
   ],
   "source": [
    "documentos = collection.find({'$and':[{'categoria_artigo':'DATA SCIENCE'}, {'categoria_artigo':'Data Universe'}]})\n",
    "for doc in documentos :\n",
    "    pprint.pprint(doc)"
   ]
  },
  {
   "cell_type": "code",
   "execution_count": 33,
   "metadata": {},
   "outputs": [
    {
     "name": "stdout",
     "output_type": "stream",
     "text": [
      "{'_id': ObjectId('5f88cd747ff92c9fb7ba71e7'),\n",
      " 'categoria_URL': ['https://www.igti.com.br/blog/category/data-science/',\n",
      "                   'https://www.igti.com.br/blog/category/data-universe/'],\n",
      " 'categoria_artigo': ['DATA SCIENCE', 'Data Universe'],\n",
      " 'comentarios_artigo': 0,\n",
      " 'dtPostagem_artigo': '3 semanas atrás',\n",
      " 'titulo_artigo': 'Como Falar Melhor em Apresentação de Dados',\n",
      " 'titulo_pagina': ' IGTI Blog',\n",
      " 'url_artigo': 'https://www.igti.com.br/blog/como-falar-melhor-em-apresentacao-de-dados/',\n",
      " 'url_pagina': 'https://www.igti.com.br/blog/',\n",
      " 'visualizacoes_artigo': 60}\n",
      "{'_id': ObjectId('5f88cd747ff92c9fb7ba71eb'),\n",
      " 'categoria_URL': ['https://www.igti.com.br/blog/category/agile/',\n",
      "                   'https://www.igti.com.br/blog/category/webinar/'],\n",
      " 'categoria_artigo': ['AGILE', 'Webinar'],\n",
      " 'comentarios_artigo': 0,\n",
      " 'dtPostagem_artigo': '4 semanas atrás',\n",
      " 'titulo_artigo': 'Framework Ágil',\n",
      " 'titulo_pagina': ' IGTI Blog',\n",
      " 'url_artigo': 'https://www.igti.com.br/blog/framework-agil/',\n",
      " 'url_pagina': 'https://www.igti.com.br/blog/',\n",
      " 'visualizacoes_artigo': 67}\n",
      "{'_id': ObjectId('5f88cd747ff92c9fb7ba71e9'),\n",
      " 'categoria_URL': ['https://www.igti.com.br/blog/category/data-universe/',\n",
      "                   'https://www.igti.com.br/blog/category/igti-na-midia/'],\n",
      " 'categoria_artigo': ['Data Universe', 'IGTI NA MÍDIA'],\n",
      " 'comentarios_artigo': 0,\n",
      " 'dtPostagem_artigo': '3 semanas atrás',\n",
      " 'titulo_artigo': 'Data Universe',\n",
      " 'titulo_pagina': ' IGTI Blog',\n",
      " 'url_artigo': 'https://www.igti.com.br/blog/data-universe/',\n",
      " 'url_pagina': 'https://www.igti.com.br/blog/',\n",
      " 'visualizacoes_artigo': 77}\n",
      "{'_id': ObjectId('5f88cd747ff92c9fb7ba71e6'),\n",
      " 'categoria_URL': ['https://www.igti.com.br/blog/category/data-science/',\n",
      "                   'https://www.igti.com.br/blog/category/data-universe/'],\n",
      " 'categoria_artigo': ['DATA SCIENCE', 'Data Universe'],\n",
      " 'comentarios_artigo': 0,\n",
      " 'dtPostagem_artigo': '3 semanas atrás',\n",
      " 'titulo_artigo': 'Indústria 4.0: Empreendedorismo, Big Data e Inteligência '\n",
      "                  'Artificial',\n",
      " 'titulo_pagina': ' IGTI Blog',\n",
      " 'url_artigo': 'https://www.igti.com.br/blog/industria-4-0-empreendedorismo-big-data-e-inteligencia-artificial/',\n",
      " 'url_pagina': 'https://www.igti.com.br/blog/',\n",
      " 'visualizacoes_artigo': 190}\n",
      "{'_id': ObjectId('5f88cd747ff92c9fb7ba71e8'),\n",
      " 'categoria_URL': ['https://www.igti.com.br/blog/category/cloud-computing/',\n",
      "                   'https://www.igti.com.br/blog/category/webinar/'],\n",
      " 'categoria_artigo': ['CLOUD COMPUTING', 'Webinar'],\n",
      " 'comentarios_artigo': 0,\n",
      " 'dtPostagem_artigo': '3 semanas atrás',\n",
      " 'titulo_artigo': 'Profissional de Cloud Computing: uma carreira de futuro!',\n",
      " 'titulo_pagina': ' IGTI Blog',\n",
      " 'url_artigo': 'https://www.igti.com.br/blog/profissional-de-cloud-computing-uma-carreira-de-futuro/',\n",
      " 'url_pagina': 'https://www.igti.com.br/blog/',\n",
      " 'visualizacoes_artigo': 200}\n"
     ]
    }
   ],
   "source": [
    "documentos = collection.find({'$and':[{'visualizacoes_artigo':{'$gte':50}}, {'visualizacoes_artigo':{'$lte':200}}]}).sort('visualizacoes_artigo')\n",
    "for doc in documentos :\n",
    "    pprint.pprint(doc)"
   ]
  },
  {
   "cell_type": "code",
   "execution_count": 34,
   "metadata": {},
   "outputs": [
    {
     "data": {
      "text/plain": [
       "5"
      ]
     },
     "execution_count": 34,
     "metadata": {},
     "output_type": "execute_result"
    }
   ],
   "source": [
    "# Contar a quantidade de elementos\n",
    "collection.count_documents({'$and':[{'visualizacoes_artigo':{'$gte':50}}, {'visualizacoes_artigo':{'$lte':200}}]})"
   ]
  },
  {
   "cell_type": "code",
   "execution_count": 35,
   "metadata": {},
   "outputs": [
    {
     "data": {
      "text/plain": [
       "13"
      ]
     },
     "execution_count": 35,
     "metadata": {},
     "output_type": "execute_result"
    }
   ],
   "source": [
    "# Contar a quantidade de elementos\n",
    "collection.count_documents({})"
   ]
  },
  {
   "cell_type": "markdown",
   "metadata": {},
   "source": [
    "## Data"
   ]
  },
  {
   "cell_type": "code",
   "execution_count": 36,
   "metadata": {},
   "outputs": [],
   "source": [
    "import datetime"
   ]
  },
  {
   "cell_type": "code",
   "execution_count": 37,
   "metadata": {},
   "outputs": [
    {
     "name": "stdout",
     "output_type": "stream",
     "text": [
      "13 junho 2018\n"
     ]
    }
   ],
   "source": [
    "dia, mes, ano = collection.find_one()['dtPostagem_artigo'].split(' de ')\n",
    "\n",
    "print(dia, mes, ano)"
   ]
  },
  {
   "cell_type": "code",
   "execution_count": 38,
   "metadata": {},
   "outputs": [],
   "source": [
    "mes_ext_tupla = ('janeiro','fevereiro','mar','abril','maio','junho','julho','agosto','setembro','outubro','novembro','dezembro')"
   ]
  },
  {
   "cell_type": "code",
   "execution_count": 39,
   "metadata": {},
   "outputs": [],
   "source": [
    "mes = int(mes_ext_tupla.index(mes)+1) #retorna o índice da tupla que possui o valor igual ao parâmetro passado"
   ]
  },
  {
   "cell_type": "code",
   "execution_count": 40,
   "metadata": {},
   "outputs": [
    {
     "name": "stdout",
     "output_type": "stream",
     "text": [
      "2018-06-13 00:00:00\n",
      "<class 'datetime.datetime'>\n"
     ]
    }
   ],
   "source": [
    "data_norm = datetime.datetime(int(ano), int(mes), int(dia))\n",
    "print(data_norm)\n",
    "print(type(data_norm))"
   ]
  },
  {
   "cell_type": "code",
   "execution_count": 41,
   "metadata": {},
   "outputs": [
    {
     "name": "stdout",
     "output_type": "stream",
     "text": [
      "13 de junho de 2018\n",
      "12 de abril de 2017\n",
      "22 de novembro de 2017\n",
      "10 de julho de 2017\n",
      "4 de maio de 2017\n",
      "7 horas atrás\n",
      "5 dias atrás\n",
      "3 semanas atrás\n",
      "3 semanas atrás\n",
      "3 semanas atrás\n",
      "3 semanas atrás\n",
      "4 semanas atrás\n",
      "4 semanas atrás\n"
     ]
    }
   ],
   "source": [
    "documentos = collection.find()\n",
    "for doc in documentos :\n",
    "    print(doc['dtPostagem_artigo'])"
   ]
  }
 ],
 "metadata": {
  "kernelspec": {
   "display_name": "Python 3",
   "language": "python",
   "name": "python3"
  },
  "language_info": {
   "codemirror_mode": {
    "name": "ipython",
    "version": 3
   },
   "file_extension": ".py",
   "mimetype": "text/x-python",
   "name": "python",
   "nbconvert_exporter": "python",
   "pygments_lexer": "ipython3",
   "version": "3.7.1"
  }
 },
 "nbformat": 4,
 "nbformat_minor": 4
}

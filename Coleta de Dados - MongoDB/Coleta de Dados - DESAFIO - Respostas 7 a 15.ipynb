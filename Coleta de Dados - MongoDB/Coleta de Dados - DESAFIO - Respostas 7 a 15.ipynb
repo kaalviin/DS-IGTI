{
 "cells": [
  {
   "cell_type": "code",
   "execution_count": 14,
   "metadata": {},
   "outputs": [],
   "source": [
    "import pymongo\n",
    "import pprint\n",
    "import pandas as pd\n",
    "import json\n",
    "from pymongo import MongoClient, DESCENDING, ASCENDING"
   ]
  },
  {
   "cell_type": "code",
   "execution_count": 2,
   "metadata": {},
   "outputs": [
    {
     "data": {
      "text/plain": [
       "['Vendas', 'admin', 'config', 'igti', 'local', 'twitterdb']"
      ]
     },
     "execution_count": 2,
     "metadata": {},
     "output_type": "execute_result"
    }
   ],
   "source": [
    "con = pymongo.MongoClient('localhost', 27017)\n",
    "con.list_database_names()"
   ]
  },
  {
   "cell_type": "code",
   "execution_count": 3,
   "metadata": {},
   "outputs": [
    {
     "data": {
      "text/plain": [
       "['pessoas', 'iris', 'igti']"
      ]
     },
     "execution_count": 3,
     "metadata": {},
     "output_type": "execute_result"
    }
   ],
   "source": [
    "db = con.igti\n",
    "db.list_collection_names()"
   ]
  },
  {
   "cell_type": "code",
   "execution_count": 4,
   "metadata": {},
   "outputs": [],
   "source": [
    "collection = db.videogame"
   ]
  },
  {
   "cell_type": "code",
   "execution_count": 5,
   "metadata": {},
   "outputs": [],
   "source": [
    "datasetPath = 'C:\\Bootcamp\\Datasets\\JSON'"
   ]
  },
  {
   "cell_type": "code",
   "execution_count": 8,
   "metadata": {},
   "outputs": [],
   "source": [
    "file = (datasetPath+'\\\\videogame_sales_mongo.json')\n",
    "\n",
    "data = pd.read_json(file, encoding='utf-8')\n",
    "del data ['_id']"
   ]
  },
  {
   "cell_type": "code",
   "execution_count": 12,
   "metadata": {},
   "outputs": [],
   "source": [
    "for i in range (len(data)):\n",
    "    collection.insert_one({\n",
    "        'Rank': int(data['Rank'][i]),\n",
    "        'Name': data['Name'][i],\n",
    "        'Platform': data['Platform'][i],\n",
    "        'Year': data['Year'][i],\n",
    "        'Genre': data['Genre'][i],\n",
    "        'Publisher': data['Publisher'][i],\n",
    "        'NA_Sales': data['NA_Sales'][i],\n",
    "        'EU_Sales': data['EU_Sales'][i],\n",
    "        'JP_Sales': data['JP_Sales'][i],\n",
    "        'Other_Sales': data['Other_Sales'][i],\n",
    "        'Global_Sales': data['Global_Sales'][i],})"
   ]
  },
  {
   "cell_type": "markdown",
   "metadata": {},
   "source": [
    "### Resposta dos exercícios"
   ]
  },
  {
   "cell_type": "markdown",
   "metadata": {},
   "source": [
    "#### Pergunta 7\n",
    "Qual jogo possui a maior venda global (“Global_Sales”) para a plataforma PS2?"
   ]
  },
  {
   "cell_type": "code",
   "execution_count": 31,
   "metadata": {},
   "outputs": [
    {
     "name": "stdout",
     "output_type": "stream",
     "text": [
      "{'Global_Sales': 20.81, 'Name': 'Grand Theft Auto: San Andreas'}\n"
     ]
    }
   ],
   "source": [
    "resultado = collection.find({\"Platform\":\"PS2\"}, {\"Name\":1, \"Global_Sales\":1, \"_id\":0}).sort(\"Global_Sales\", DESCENDING).limit(1)\n",
    "\n",
    "# Resultado da questão é a primeira linha da apresentação\n",
    "for documento in resultado:\n",
    "    pprint.pprint(documento)"
   ]
  },
  {
   "cell_type": "markdown",
   "metadata": {},
   "source": [
    "#### Pergunta 8 \n",
    "\n",
    "Qual a posição no Rank global (“Rank”) está o segundo jogo mais vendido na Europa? Ordenar pelo atributo \"EU_Sales\"."
   ]
  },
  {
   "cell_type": "code",
   "execution_count": 15,
   "metadata": {},
   "outputs": [
    {
     "name": "stdout",
     "output_type": "stream",
     "text": [
      "{'EU_Sales': 29.02, 'Name': 'Wii Sports', 'Rank': 1}\n",
      "{'EU_Sales': 12.88, 'Name': 'Mario Kart Wii', 'Rank': 3}\n"
     ]
    }
   ],
   "source": [
    "resultado = collection.find({}, {\"Name\":1, \"EU_Sales\":1, \"_id\":0, \"Rank\":1}).sort(\"EU_Sales\", DESCENDING).limit(2)\n",
    "\n",
    "# Resultado da questão é o atributo Rank do segundo documento apresentado\n",
    "for documento in resultado:\n",
    "    pprint.pprint(documento)"
   ]
  },
  {
   "cell_type": "markdown",
   "metadata": {},
   "source": [
    "#### Pergunta 9\n",
    "\n",
    "Qual o nome do jogo que possui a menor venda global (“Global_Sales”) no ano de 2010?"
   ]
  },
  {
   "cell_type": "code",
   "execution_count": 18,
   "metadata": {},
   "outputs": [
    {
     "name": "stdout",
     "output_type": "stream",
     "text": [
      "{'Global_Sales': 0.01,\n",
      " 'Name': 'Sora no Otoshimono: DokiDoki Summer Vacation',\n",
      " 'Year': 2010.0}\n"
     ]
    }
   ],
   "source": [
    "resultado = collection.find({\"Year\":2010}, {\"Name\":1, \"Year\": 2010, \"Global_Sales\":1, \"_id\":0}).sort(\"Global_Sales\", ASCENDING).limit(1)\n",
    "\n",
    "# Resultado da questão é o nome do jogo da primeira linha apresentada\n",
    "for documento in resultado:\n",
    "    pprint.pprint(documento)"
   ]
  },
  {
   "cell_type": "markdown",
   "metadata": {},
   "source": [
    "#### Pergunta 10\n",
    "\n",
    "Qual a plataforma (“Platform”) do jogo mais vendido considerando as vendas globais (\"Global_Sales \") no ano de 2008?"
   ]
  },
  {
   "cell_type": "code",
   "execution_count": 19,
   "metadata": {},
   "outputs": [
    {
     "name": "stdout",
     "output_type": "stream",
     "text": [
      "{'Global_Sales': 35.82, 'Name': 'Mario Kart Wii', 'Platform': 'Wii'}\n"
     ]
    }
   ],
   "source": [
    "resultado = collection.find({\"Year\":2008}, {\"Name\":1, \"Global_Sales\":1, \"_id\":0, \"Platform\":1}).sort(\"Global_Sales\", DESCENDING).limit(1)\n",
    "\n",
    "# Resultado da questão é o atributo Platform da primeira linha apresentada\n",
    "for documento in resultado:\n",
    "    pprint.pprint(documento)"
   ]
  },
  {
   "cell_type": "markdown",
   "metadata": {},
   "source": [
    "#### Pergunta 11\n",
    "\n",
    "Qual o nome do jogo que é exibido ao executar o comando para retornar o primeiro documento da coleção onde a condição seja a plataforma (“Platform”) igual a PS4?"
   ]
  },
  {
   "cell_type": "code",
   "execution_count": 20,
   "metadata": {},
   "outputs": [
    {
     "name": "stdout",
     "output_type": "stream",
     "text": [
      "{'EU_Sales': 5.8100000000000005,\n",
      " 'Genre': 'Shooter',\n",
      " 'Global_Sales': 14.24,\n",
      " 'JP_Sales': 0.35000000000000003,\n",
      " 'NA_Sales': 5.77,\n",
      " 'Name': 'Call of Duty: Black Ops 3',\n",
      " 'Other_Sales': 2.31,\n",
      " 'Platform': 'PS4',\n",
      " 'Publisher': 'Activision',\n",
      " 'Rank': 34,\n",
      " 'Year': 2015.0,\n",
      " '_id': ObjectId('5f87629529e8dc05d5d8fc98')}\n"
     ]
    }
   ],
   "source": [
    "resultado = collection.find_one({ \"Platform\": \"PS4\" } )\n",
    "\n",
    "pprint.pprint(resultado)"
   ]
  },
  {
   "cell_type": "markdown",
   "metadata": {},
   "source": [
    "#### Pergunta 12\n",
    "\n",
    "Quantos documentos existem na base de dados referentes à plataforma (“Platform”) “X360”?"
   ]
  },
  {
   "cell_type": "code",
   "execution_count": 21,
   "metadata": {},
   "outputs": [
    {
     "name": "stdout",
     "output_type": "stream",
     "text": [
      "1265\n"
     ]
    }
   ],
   "source": [
    "resultado = collection.count_documents({ \"Platform\": \"X360\" } )\n",
    "\n",
    "pprint.pprint(resultado)"
   ]
  },
  {
   "cell_type": "markdown",
   "metadata": {},
   "source": [
    "#### Pergunta 13\n",
    "\n",
    "Qual a plataforma (“Platform”) do jogo mais vendido no Japão (\"JP_Sales\") no ano de 2015?"
   ]
  },
  {
   "cell_type": "code",
   "execution_count": 22,
   "metadata": {},
   "outputs": [
    {
     "name": "stdout",
     "output_type": "stream",
     "text": [
      "{'JP_Sales': 2.7800000000000002, 'Name': 'Monster Hunter X', 'Platform': '3DS'}\n"
     ]
    }
   ],
   "source": [
    "resultado = collection.find({\"Year\":2015}, {\"Name\":1, \"JP_Sales\":1, \"_id\":0, \"Platform\":1}).sort(\"JP_Sales\", DESCENDING).limit(1)\n",
    "\n",
    "# Resultado da questão é a primeira linha da apresentação\n",
    "for documento in resultado:\n",
    "    pprint.pprint(documento)"
   ]
  },
  {
   "cell_type": "markdown",
   "metadata": {},
   "source": [
    "#### Pergunta 14\n",
    "\n",
    "Em que posição do “Rank” o jogo “The Witcher 3: Wild Hunt” está considerando a plataforma “XOne”?"
   ]
  },
  {
   "cell_type": "code",
   "execution_count": 27,
   "metadata": {},
   "outputs": [
    {
     "name": "stdout",
     "output_type": "stream",
     "text": [
      "{'Rank': 1607}\n"
     ]
    }
   ],
   "source": [
    "resultado = collection.find({\"Name\":\"The Witcher 3: Wild Hunt\", \"Platform\": \"XOne\"}, {\"Rank\":1, \"_id\":0} )\n",
    "\n",
    "for documento in resultado:\n",
    "    pprint.pprint(documento)"
   ]
  },
  {
   "cell_type": "markdown",
   "metadata": {},
   "source": [
    "#### Pergunta 15\n",
    "\n",
    "Quantos documentos são retornados ao executar uma consulta em que o atributo “Global_Sales” seja maior ou igual a 2?"
   ]
  },
  {
   "cell_type": "code",
   "execution_count": 28,
   "metadata": {},
   "outputs": [
    {
     "name": "stdout",
     "output_type": "stream",
     "text": [
      "851\n"
     ]
    }
   ],
   "source": [
    "resultado = collection.count_documents( { \"Global_Sales\": {\"$gte\": 2} } )\n",
    "\n",
    "pprint.pprint(resultado)"
   ]
  }
 ],
 "metadata": {
  "kernelspec": {
   "display_name": "Python 3",
   "language": "python",
   "name": "python3"
  },
  "language_info": {
   "codemirror_mode": {
    "name": "ipython",
    "version": 3
   },
   "file_extension": ".py",
   "mimetype": "text/x-python",
   "name": "python",
   "nbconvert_exporter": "python",
   "pygments_lexer": "ipython3",
   "version": "3.7.1"
  }
 },
 "nbformat": 4,
 "nbformat_minor": 4
}

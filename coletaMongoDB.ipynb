{
  "nbformat": 4,
  "nbformat_minor": 0,
  "metadata": {
    "kernelspec": {
      "display_name": "Python 3",
      "language": "python",
      "name": "python3"
    },
    "language_info": {
      "codemirror_mode": {
        "name": "ipython",
        "version": 3
      },
      "file_extension": ".py",
      "mimetype": "text/x-python",
      "name": "python",
      "nbconvert_exporter": "python",
      "pygments_lexer": "ipython3",
      "version": "3.7.1"
    },
    "colab": {
      "name": "coletaMongoDB.ipynb",
      "provenance": [],
      "include_colab_link": true
    }
  },
  "cells": [
    {
      "cell_type": "markdown",
      "metadata": {
        "id": "view-in-github",
        "colab_type": "text"
      },
      "source": [
        "<a href=\"https://colab.research.google.com/github/kaalviin/DS-IGTI/blob/main/coletaMongoDB.ipynb\" target=\"_parent\"><img src=\"https://colab.research.google.com/assets/colab-badge.svg\" alt=\"Open In Colab\"/></a>"
      ]
    },
    {
      "cell_type": "markdown",
      "metadata": {
        "id": "osDGG8N5tfo-"
      },
      "source": [
        "# Coleta de Dados no MongoDB com Python"
      ]
    },
    {
      "cell_type": "markdown",
      "metadata": {
        "id": "qfA3dxjbtfo_"
      },
      "source": [
        "**OBSERVAÇÃO:**\n",
        "\n",
        "Antes de usar o pymongo pela primeira vez, é necessário instalar o pacote. Para isso, acesse o prompt do Anaconda e execute o comando abaixo:\n",
        "\n",
        "*conda install -c wakari pymongo*"
      ]
    },
    {
      "cell_type": "code",
      "metadata": {
        "id": "H6_JH04QtfpA"
      },
      "source": [
        "#importação de biblioteca\n",
        "\n",
        "import pymongo"
      ],
      "execution_count": null,
      "outputs": []
    },
    {
      "cell_type": "code",
      "metadata": {
        "id": "tdkdqdtAtfpD"
      },
      "source": [
        "#Conexão ao banco de dados\n",
        "#from pymongo import MongoClient\n",
        "con = pymongo.MongoClient('localhost', 27017)"
      ],
      "execution_count": null,
      "outputs": []
    },
    {
      "cell_type": "code",
      "metadata": {
        "id": "R65oWQ2QtfpI"
      },
      "source": [
        "#listar os bancos de dados\n",
        "con.list_database_names()"
      ],
      "execution_count": null,
      "outputs": []
    },
    {
      "cell_type": "code",
      "metadata": {
        "id": "t6tQ7x_gtfpK"
      },
      "source": [
        "#seleciona o banco de dados\n",
        "db = con.igti"
      ],
      "execution_count": null,
      "outputs": []
    },
    {
      "cell_type": "code",
      "metadata": {
        "id": "ajtuxIW-tfpP"
      },
      "source": [
        "#listar as coleções\n",
        "db.list_collection_names()"
      ],
      "execution_count": null,
      "outputs": []
    },
    {
      "cell_type": "code",
      "metadata": {
        "id": "irdpC6WttfpR"
      },
      "source": [
        "#seleciona a coleção\n",
        "collection = db.megasena"
      ],
      "execution_count": null,
      "outputs": []
    },
    {
      "cell_type": "code",
      "metadata": {
        "id": "U4kLSGyntfpT"
      },
      "source": [
        "#seleciona o primeiro elemento da coleção\n",
        "collection.find_one()"
      ],
      "execution_count": null,
      "outputs": []
    },
    {
      "cell_type": "code",
      "metadata": {
        "id": "D1Inr2BVtfpV"
      },
      "source": [
        "#seleciona o primeiro documento da coleção que atenda a condição\n",
        "print(collection.find_one({\"Ganhadores_Sena\": \"0\"}))"
      ],
      "execution_count": null,
      "outputs": []
    },
    {
      "cell_type": "code",
      "metadata": {
        "id": "XY3HtJ84tfpX"
      },
      "source": [
        "#importação de pacote/biblioteca\n",
        "import pprint #outro pacote para imprimir"
      ],
      "execution_count": null,
      "outputs": []
    },
    {
      "cell_type": "code",
      "metadata": {
        "id": "a49nZon4tfpZ"
      },
      "source": [
        "pprint.pprint(collection.find_one({\"Ganhadores_Sena\": \"0\"}))"
      ],
      "execution_count": null,
      "outputs": []
    },
    {
      "cell_type": "code",
      "metadata": {
        "id": "xwVNT8Bbtfpb"
      },
      "source": [
        "#seleciona o primeiro documento da coleção que atenda a condição\n",
        "pprint.pprint(collection.find_one({\"Concurso\":\"100\"}))"
      ],
      "execution_count": null,
      "outputs": []
    },
    {
      "cell_type": "code",
      "metadata": {
        "id": "DHvw33PRtfpd"
      },
      "source": [
        "#selecionas os documentos da coleção que atendam a condição, e imprime os documentos\n",
        "for documets in collection.find({\"Ganhadores_Sena\": \"5\"}):\n",
        "    pprint.pprint(documets)"
      ],
      "execution_count": null,
      "outputs": []
    },
    {
      "cell_type": "code",
      "metadata": {
        "id": "T6gkZPcrtfpf"
      },
      "source": [
        "#listar as coleções\n",
        "db.list_collection_names()"
      ],
      "execution_count": null,
      "outputs": []
    },
    {
      "cell_type": "markdown",
      "metadata": {
        "id": "ardorrSxtfph"
      },
      "source": [
        "#### Criar banco de dados e coleção"
      ]
    },
    {
      "cell_type": "code",
      "metadata": {
        "id": "NyNQ2ln_tfph"
      },
      "source": [
        "con = pymongo.MongoClient(\"mongodb://localhost:27017/\")"
      ],
      "execution_count": null,
      "outputs": []
    },
    {
      "cell_type": "code",
      "metadata": {
        "id": "Q74PAQ_9tfpj"
      },
      "source": [
        "#listar os bancos de dados\n",
        "con.list_database_names()"
      ],
      "execution_count": null,
      "outputs": []
    },
    {
      "cell_type": "code",
      "metadata": {
        "id": "K1Xwrwaztfpl"
      },
      "source": [
        "db = con[\"Vendas\"]"
      ],
      "execution_count": null,
      "outputs": []
    },
    {
      "cell_type": "code",
      "metadata": {
        "id": "7yWM5nzjtfpo"
      },
      "source": [
        "con.list_database_names()"
      ],
      "execution_count": null,
      "outputs": []
    },
    {
      "cell_type": "code",
      "metadata": {
        "id": "KXXuQJpptfpq"
      },
      "source": [
        "colecao = db[\"clientes\"]"
      ],
      "execution_count": null,
      "outputs": []
    },
    {
      "cell_type": "code",
      "metadata": {
        "id": "w-2lTqQLtfps"
      },
      "source": [
        "db.list_collection_names()"
      ],
      "execution_count": null,
      "outputs": []
    },
    {
      "cell_type": "code",
      "metadata": {
        "id": "T0JwfKR8tfpu"
      },
      "source": [
        "documento = {\"nome\" : \"maria\", \"idade\" : 23}"
      ],
      "execution_count": null,
      "outputs": []
    },
    {
      "cell_type": "code",
      "metadata": {
        "id": "UqeHYkMCtfpv"
      },
      "source": [
        "resultado = colecao.insert_one(documento)"
      ],
      "execution_count": null,
      "outputs": []
    },
    {
      "cell_type": "code",
      "metadata": {
        "id": "BsVHJJGotfpx"
      },
      "source": [
        "print(resultado)"
      ],
      "execution_count": null,
      "outputs": []
    },
    {
      "cell_type": "code",
      "metadata": {
        "id": "d9Lc2BOFtfpz"
      },
      "source": [
        "con.list_database_names()"
      ],
      "execution_count": null,
      "outputs": []
    },
    {
      "cell_type": "code",
      "metadata": {
        "id": "D7p4huKbtfp2"
      },
      "source": [
        "db.list_collection_names()"
      ],
      "execution_count": null,
      "outputs": []
    },
    {
      "cell_type": "code",
      "metadata": {
        "id": "oNMO7haRtfp4"
      },
      "source": [
        "print(colecao.find_one())"
      ],
      "execution_count": null,
      "outputs": []
    },
    {
      "cell_type": "code",
      "metadata": {
        "id": "ohuD8zEItfp6"
      },
      "source": [
        "#selecionas os documentos da coleção que atendam a condição, e imprime os documentos\n",
        "for resultado in colecao.find():\n",
        "    pprint.pprint(resultado)"
      ],
      "execution_count": null,
      "outputs": []
    },
    {
      "cell_type": "code",
      "metadata": {
        "id": "BkPBxGUQtfp8"
      },
      "source": [
        "documento = [\n",
        "    {\"nome\" : \"jorge\", \"idade\" : 33},\n",
        "    {\"nome\" : \"ana\"},\n",
        "    {\"nome\": \"William\", \"endereco\": \"Avenida Central n. 954\"},\n",
        "    {\"nome\" : \"ana\", \"endereco\": \"Avenida Central n. 954\"},\n",
        "    {\"nome\": \"William\", \"endereco\": \"Avenida Central n. 954\"},\n",
        "    {\"nome\": \"William\"}   \n",
        "    ]"
      ],
      "execution_count": null,
      "outputs": []
    },
    {
      "cell_type": "code",
      "metadata": {
        "id": "AVBvQQlFtfp9"
      },
      "source": [
        "pprint.pprint(documento)"
      ],
      "execution_count": null,
      "outputs": []
    },
    {
      "cell_type": "code",
      "metadata": {
        "id": "xvCZ-7batfp_"
      },
      "source": [
        "resultado = colecao.insert_one(documento)"
      ],
      "execution_count": null,
      "outputs": []
    },
    {
      "cell_type": "code",
      "metadata": {
        "id": "inXA84XmtfqB"
      },
      "source": [
        "#inserir documento em uma coleção\n",
        "resultado = colecao.insert_many(documento)"
      ],
      "execution_count": null,
      "outputs": []
    },
    {
      "cell_type": "code",
      "metadata": {
        "id": "4d3G1lg1tfqD"
      },
      "source": [
        "print(resultado)"
      ],
      "execution_count": null,
      "outputs": []
    },
    {
      "cell_type": "code",
      "metadata": {
        "id": "Si8VZXhhtfqF"
      },
      "source": [
        "#selecionas os documentos da coleção que atendam a condição, e imprime os documentos\n",
        "for resultado in colecao.find():\n",
        "    pprint.pprint(resultado)"
      ],
      "execution_count": null,
      "outputs": []
    },
    {
      "cell_type": "code",
      "metadata": {
        "id": "Q6Rue5HitfqG"
      },
      "source": [
        "condicao = { 'nome': 'ana' }\n",
        "valor = { \"$set\": { \"logradouro\": \"Avenida JK\",\"num\": 345 } }\n",
        "\n",
        "colecao.update_one(condicao, valor)\n",
        "\n",
        "for resultado in colecao.find():\n",
        "    pprint.pprint(resultado)"
      ],
      "execution_count": null,
      "outputs": []
    },
    {
      "cell_type": "code",
      "metadata": {
        "id": "janar4ajtfqI"
      },
      "source": [
        "for resultado in colecao.find({ 'nome': 'ana' }):\n",
        "    pprint.pprint(resultado)"
      ],
      "execution_count": null,
      "outputs": []
    },
    {
      "cell_type": "code",
      "metadata": {
        "id": "P_gRS6n3tfqK"
      },
      "source": [
        "condicao = { 'nome': 'ana' }\n",
        "valor = { \"$set\": { \"logradouro\": \"Avenida JK\",\"num\": 345 } }\n",
        "\n",
        "colecao.update_many(condicao, valor)\n"
      ],
      "execution_count": null,
      "outputs": []
    },
    {
      "cell_type": "code",
      "metadata": {
        "id": "XQAbMxFstfqL"
      },
      "source": [
        "for resultado in colecao.find({ 'nome': 'ana' }):\n",
        "    pprint.pprint(resultado)"
      ],
      "execution_count": null,
      "outputs": []
    },
    {
      "cell_type": "code",
      "metadata": {
        "id": "icnyZzIDtfqN"
      },
      "source": [
        "for resultado in colecao.find({ 'nome': 'William' }):\n",
        "    pprint.pprint(resultado)"
      ],
      "execution_count": null,
      "outputs": []
    },
    {
      "cell_type": "code",
      "metadata": {
        "id": "WTcG7cy6tfqP"
      },
      "source": [
        "condicao = { 'nome': 'William' }\n",
        "\n",
        "colecao.delete_one(condicao)"
      ],
      "execution_count": null,
      "outputs": []
    },
    {
      "cell_type": "code",
      "metadata": {
        "id": "SdtHJxC6tfqR"
      },
      "source": [
        "for resultado in colecao.find({ 'nome': 'William' }):\n",
        "    pprint.pprint(resultado)"
      ],
      "execution_count": null,
      "outputs": []
    },
    {
      "cell_type": "code",
      "metadata": {
        "id": "1nQ-hqIItfqU"
      },
      "source": [
        "condicao = { 'nome': 'William' }\n",
        "\n",
        "colecao.delete_many(condicao)"
      ],
      "execution_count": null,
      "outputs": []
    },
    {
      "cell_type": "code",
      "metadata": {
        "id": "MLZsMm1YtfqW"
      },
      "source": [
        "for resultado in colecao.find({ 'nome': 'William' }):\n",
        "    pprint.pprint(resultado)"
      ],
      "execution_count": null,
      "outputs": []
    },
    {
      "cell_type": "code",
      "metadata": {
        "id": "5dGqRo-rtfqX"
      },
      "source": [
        "for resultado in colecao.find():\n",
        "    pprint.pprint(resultado)"
      ],
      "execution_count": null,
      "outputs": []
    }
  ]
}